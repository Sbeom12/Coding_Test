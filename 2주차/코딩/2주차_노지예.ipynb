{
 "cells": [
  {
   "cell_type": "markdown",
   "metadata": {},
   "source": [
    "## BOJ 시간 복잡도\n",
    "https://www.acmicpc.net/step/53"
   ]
  },
  {
   "cell_type": "markdown",
   "metadata": {},
   "source": [
    "### 24262. 알고리즘 수업 - 알고리즘의 수행 시간 1  \n",
    "```\n",
    "MenOfPassion(A[], n) {\n",
    "    i = ⌊n / 2⌋;\n",
    "    return A[i]; # 코드1\n",
    "}\n",
    "```"
   ]
  },
  {
   "cell_type": "code",
   "execution_count": 3,
   "metadata": {},
   "outputs": [
    {
     "name": "stdout",
     "output_type": "stream",
     "text": [
      "1\n",
      "0\n"
     ]
    }
   ],
   "source": [
    "n=int(input())\n",
    "print(1)\n",
    "print(0) # O(1)"
   ]
  },
  {
   "cell_type": "markdown",
   "metadata": {},
   "source": [
    "### 24263. 알고리즘 수업 - 알고리즘의 수행 시간 2  \n",
    "```\n",
    "MenOfPassion(A[], n) {\n",
    "    sum <- 0;\n",
    "    for i <- 1 to n\n",
    "        sum <- sum + A[i]; # 코드1\n",
    "    return sum;\n",
    "}\n",
    "```"
   ]
  },
  {
   "cell_type": "code",
   "execution_count": 4,
   "metadata": {},
   "outputs": [
    {
     "name": "stdout",
     "output_type": "stream",
     "text": [
      "7\n",
      "1\n"
     ]
    }
   ],
   "source": [
    "n=int(input())\n",
    "print(n) # O(N)\n",
    "print(1)"
   ]
  },
  {
   "cell_type": "markdown",
   "metadata": {},
   "source": [
    "### 24264. 알고리즘 수업 - 알고리즘의 수행 시간 3 \n",
    "  \n",
    "```\n",
    "MenOfPassion(A[], n) {\n",
    "    sum <- 0;\n",
    "    for i <- 1 to n\n",
    "        for j <- 1 to n\n",
    "            sum <- sum + A[i] × A[j]; # 코드1\n",
    "    return sum;\n",
    "}\n",
    "``` "
   ]
  },
  {
   "cell_type": "code",
   "execution_count": 5,
   "metadata": {},
   "outputs": [
    {
     "name": "stdout",
     "output_type": "stream",
     "text": [
      "49\n",
      "2\n"
     ]
    }
   ],
   "source": [
    "n=int(input())\n",
    "print(n**2) # O(N^2)\n",
    "print(2)"
   ]
  },
  {
   "cell_type": "markdown",
   "metadata": {},
   "source": [
    "### 24265. 알고리즘 수업 - 알고리즘의 수행 시간 4 \n",
    "```\n",
    "MenOfPassion(A[], n) {\n",
    "    sum <- 0;\n",
    "    for i <- 1 to n - 1\n",
    "        for j <- i + 1 to n\n",
    "            sum <- sum + A[i] × A[j]; # 코드1\n",
    "    return sum;\n",
    "}\n",
    "```\n",
    "  "
   ]
  },
  {
   "cell_type": "code",
   "execution_count": 21,
   "metadata": {},
   "outputs": [],
   "source": [
    "# (N-1) ## j==2\n",
    "# (N-2) ## j==3\n",
    "# ... \n",
    "#  1    ## j==N\n",
    "\n",
    "## -> j==j'일때 N-j'+1번씩 \n",
    "## j' : 2 ~ N"
   ]
  },
  {
   "cell_type": "markdown",
   "metadata": {},
   "source": [
    "$\\sum_{j=2}^{N}(N-j+1) = \\sum_{k=1}^{N-1}k = \\frac{N(N-1)}{2}$"
   ]
  },
  {
   "cell_type": "code",
   "execution_count": 8,
   "metadata": {},
   "outputs": [
    {
     "name": "stdout",
     "output_type": "stream",
     "text": [
      "21\n",
      "2\n"
     ]
    }
   ],
   "source": [
    "n=int(input())\n",
    "print(int((n**2-n)/2)) \n",
    "print(2) #O(N^2)"
   ]
  },
  {
   "cell_type": "markdown",
   "metadata": {},
   "source": [
    "### 24266. 알고리즘 수업 - 알고리즘의 수행 시간 5  \n",
    "```\n",
    "MenOfPassion(A[], n) {\n",
    "    sum <- 0;\n",
    "    for i <- 1 to n\n",
    "        for j <- 1 to n\n",
    "            for k <- 1 to n\n",
    "                sum <- sum + A[i] × A[j] × A[k]; # 코드1\n",
    "    return sum;\n",
    "}\n",
    "```"
   ]
  },
  {
   "cell_type": "code",
   "execution_count": 9,
   "metadata": {},
   "outputs": [
    {
     "name": "stdout",
     "output_type": "stream",
     "text": [
      "343\n",
      "3\n"
     ]
    }
   ],
   "source": [
    "n=int(input())\n",
    "print(n**3)\n",
    "print(3) # O(N^3)"
   ]
  },
  {
   "cell_type": "markdown",
   "metadata": {},
   "source": [
    "### 24267. 알고리즘 수업 - 알고리즘의 수행 시간 6  \n",
    "```\n",
    "MenOfPassion(A[], n) {\n",
    "    sum <- 0;\n",
    "    for i <- 1 to n - 2\n",
    "        for j <- i + 1 to n - 1\n",
    "            for k <- j + 1 to n\n",
    "                sum <- sum + A[i] × A[j] × A[k]; # 코드1\n",
    "    return sum;\n",
    "}\n",
    "```"
   ]
  },
  {
   "cell_type": "code",
   "execution_count": 19,
   "metadata": {},
   "outputs": [],
   "source": [
    "# (N-2) + (N-3) + ... + 1 + ## j==2 ~ N-1\n",
    "#       + (N-3) + ... + 1 + ## j==3 ~ N-1\n",
    "#             ...\n",
    "#                     + 1   ## j==N-1    \n",
    "\n",
    "## -> j==j' ~ N-1일때: k가 (N-j')+..+1 = (N-j'+1)(N-j')/2 \n",
    "## j' == 2 ~ N-1"
   ]
  },
  {
   "cell_type": "markdown",
   "metadata": {},
   "source": [
    "$\\sum_{j=2}^{N-1}\\frac{(N-j+1)(N-j)}{2}$"
   ]
  },
  {
   "cell_type": "code",
   "execution_count": 27,
   "metadata": {},
   "outputs": [
    {
     "name": "stdout",
     "output_type": "stream",
     "text": [
      "35\n",
      "3\n"
     ]
    }
   ],
   "source": [
    "n=int(input())\n",
    "\n",
    "ret=0\n",
    "for j in range(2,n):\n",
    "    ret=ret+int((n-j+1)*(n-j)/2)\n",
    "\n",
    "print(int(ret))\n",
    "print(3)"
   ]
  },
  {
   "cell_type": "markdown",
   "metadata": {},
   "source": [
    "### 24313. 알고리즘 수업 - 점근적 표기 1"
   ]
  },
  {
   "cell_type": "code",
   "execution_count": 36,
   "metadata": {},
   "outputs": [
    {
     "name": "stdout",
     "output_type": "stream",
     "text": [
      "0\n"
     ]
    }
   ],
   "source": [
    "a1,a0=map(int,input().split())\n",
    "c=int(input())\n",
    "n0=int(input())\n",
    "\n",
    "if c-a1>=0:\n",
    "    print(int(a0<=(c-a1)*n0))\n",
    "else:\n",
    "    print(0)"
   ]
  }
 ],
 "metadata": {
  "kernelspec": {
   "display_name": "base",
   "language": "python",
   "name": "python3"
  },
  "language_info": {
   "codemirror_mode": {
    "name": "ipython",
    "version": 3
   },
   "file_extension": ".py",
   "mimetype": "text/x-python",
   "name": "python",
   "nbconvert_exporter": "python",
   "pygments_lexer": "ipython3",
   "version": "3.9.13"
  },
  "orig_nbformat": 4
 },
 "nbformat": 4,
 "nbformat_minor": 2
}
