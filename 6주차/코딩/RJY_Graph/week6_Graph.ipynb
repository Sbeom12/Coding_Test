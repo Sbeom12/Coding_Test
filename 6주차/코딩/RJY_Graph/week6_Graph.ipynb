{
 "cells": [
  {
   "cell_type": "markdown",
   "metadata": {},
   "source": [
    "## BOJ 그래프와 순회  \n",
    "+ https://www.acmicpc.net/step/24"
   ]
  },
  {
   "cell_type": "markdown",
   "metadata": {},
   "source": [
    "### 24479. 알고리즘 수업-DFS1"
   ]
  },
  {
   "cell_type": "code",
   "execution_count": 29,
   "metadata": {},
   "outputs": [
    {
     "name": "stdout",
     "output_type": "stream",
     "text": [
      "1\n",
      "2\n",
      "3\n",
      "4\n",
      "0\n"
     ]
    }
   ],
   "source": [
    "# import sys\n",
    "# sys.setrecursionlimit(10**6)\n",
    "# input=sys.stdin.readline\n",
    "\n",
    "N, M, R = map(int,input().split())\n",
    "\n",
    "# 인접 리스트로 그래프 구현\n",
    "graph=[[] for _ in range(N+1)]\n",
    "for _ in range(M):\n",
    "    u,v=map(int,input().split())\n",
    "    graph[u].append(v)\n",
    "    graph[v].append(u)\n",
    "\n",
    "# 오름차순으로 정렬\n",
    "for idx,lst in enumerate(graph):\n",
    "    lst.sort()\n",
    "    graph[idx]=lst\n",
    "    \n",
    "visited=[False]*(N+1)\n",
    "order=[0 for _ in range(N+1)]\n",
    "\n",
    "cnt=0\n",
    "def dfs(graph,v,visited):\n",
    "    visited[v]=True # 방문표시\n",
    "    global cnt\n",
    "    cnt+=1\n",
    "    order[v]=cnt\n",
    "    for i in graph[v]:\n",
    "        if not visited[i]: dfs(graph,i,visited)\n",
    "    \n",
    "dfs(graph,R,visited)\n",
    "\n",
    "for node in range(1,N+1):\n",
    "    print(order[node])\n"
   ]
  },
  {
   "cell_type": "markdown",
   "metadata": {},
   "source": [
    "### 24480. 알고리즘 수업-DFS2"
   ]
  },
  {
   "cell_type": "code",
   "execution_count": 32,
   "metadata": {},
   "outputs": [
    {
     "name": "stdout",
     "output_type": "stream",
     "text": [
      "1\n",
      "4\n",
      "3\n",
      "2\n",
      "0\n"
     ]
    }
   ],
   "source": [
    "# import sys\n",
    "# sys.setrecursionlimit(10**6)\n",
    "# input=sys.stdin.readline\n",
    "\n",
    "N, M, R = map(int,input().split())\n",
    "\n",
    "# 인접 리스트로 그래프 구현\n",
    "graph=[[] for _ in range(N+1)]\n",
    "for _ in range(M):\n",
    "    u,v=map(int,input().split())\n",
    "    graph[u].append(v)\n",
    "    graph[v].append(u)\n",
    "\n",
    "# 내림차순으로 정렬\n",
    "for idx,lst in enumerate(graph):\n",
    "    lst.sort(reverse=True)\n",
    "    graph[idx]=lst\n",
    "    \n",
    "visited=[False]*(N+1)\n",
    "order=[0 for _ in range(N+1)]\n",
    "\n",
    "cnt=0\n",
    "def dfs(graph,v,visited):\n",
    "    visited[v]=True # 방문표시\n",
    "    global cnt\n",
    "    cnt+=1\n",
    "    order[v]=cnt\n",
    "    for i in graph[v]:\n",
    "        if not visited[i]: dfs(graph,i,visited)\n",
    "    \n",
    "dfs(graph,R,visited)\n",
    "\n",
    "for node in range(1,N+1):\n",
    "    print(order[node])\n"
   ]
  },
  {
   "cell_type": "markdown",
   "metadata": {},
   "source": [
    "### 24444. 알고리즘 수업 - BFS1"
   ]
  },
  {
   "cell_type": "code",
   "execution_count": null,
   "metadata": {},
   "outputs": [],
   "source": [
    "# import sys\n",
    "# input=sys.stdin.readline\n",
    "N,M,R=map(int,input().split())\n",
    "\n",
    "# 인접리스트로 구현하기\n",
    "graph=[[] for _ in range(N+1)]\n",
    "for _ in range(M):\n",
    "    u,v=map(int,input().split())\n",
    "    graph[u].append(v)\n",
    "    graph[v].append(u)\n",
    "    \n",
    "# 오름차순 정렬하기\n",
    "for nodes in graph:\n",
    "    nodes.sort()\n",
    "\n",
    "#graph=[[], [2, 4], [1, 3, 4], [2, 4], [1, 2, 3], []]\n",
    "from collections import deque\n",
    "\n",
    "visited=[False]*(N+1)\n",
    "order=['0' for _ in range(N)]\n",
    "def bfs(graph,start,visited):\n",
    "    que=deque([R])\n",
    "    \n",
    "    cnt=1\n",
    "    while que:\n",
    "        v=que.popleft()\n",
    "        visited[v]=True\n",
    "        order[v-1]=str(cnt)\n",
    "        cnt+=1\n",
    "        for node in graph[v]:\n",
    "            if not visited[node]:\n",
    "                que.append(node)\n",
    "                visited[node]=True\n",
    "\n",
    "bfs(graph,R,visited) \n",
    "print('\\n'.join(order))        \n",
    "        "
   ]
  },
  {
   "cell_type": "markdown",
   "metadata": {},
   "source": [
    "### 24445. 알고리즘 수업 - BFS2"
   ]
  },
  {
   "cell_type": "code",
   "execution_count": null,
   "metadata": {},
   "outputs": [],
   "source": [
    "# import sys\n",
    "# input=sys.stdin.readline\n",
    "from collections import deque\n",
    "N,M,R=map(int,input().split())\n",
    "\n",
    "# 인접리스트로 구현하기\n",
    "graph=[[] for _ in range(N+1)]\n",
    "for _ in range(M):\n",
    "    u,v=map(int,input().split())\n",
    "    graph[u].append(v)\n",
    "    graph[v].append(u)\n",
    "    \n",
    "# 내림차순 정렬하기\n",
    "for nodes in graph:\n",
    "    nodes.sort(reverse=True)\n",
    "\n",
    "visited=[False]*(N+1)\n",
    "order=['0' for _ in range(N)]\n",
    "def bfs(graph,start,visited):\n",
    "    que=deque([R])\n",
    "    \n",
    "    cnt=1\n",
    "    while que:\n",
    "        v=que.popleft()\n",
    "        visited[v]=True\n",
    "        order[v-1]=str(cnt)\n",
    "        cnt+=1\n",
    "        for node in graph[v]:\n",
    "            if not visited[node]:\n",
    "                que.append(node)\n",
    "                visited[node]=True\n",
    "\n",
    "bfs(graph,R,visited) \n",
    "print('\\n'.join(order))"
   ]
  }
 ],
 "metadata": {
  "kernelspec": {
   "display_name": "base",
   "language": "python",
   "name": "python3"
  },
  "language_info": {
   "codemirror_mode": {
    "name": "ipython",
    "version": 3
   },
   "file_extension": ".py",
   "mimetype": "text/x-python",
   "name": "python",
   "nbconvert_exporter": "python",
   "pygments_lexer": "ipython3",
   "version": "3.9.13"
  }
 },
 "nbformat": 4,
 "nbformat_minor": 2
}
