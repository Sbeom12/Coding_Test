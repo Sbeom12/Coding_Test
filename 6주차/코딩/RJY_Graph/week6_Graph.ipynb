{
 "cells": [
  {
   "cell_type": "markdown",
   "metadata": {},
   "source": [
    "## BOJ 그래프와 순회  \n",
    "+ https://www.acmicpc.net/step/24"
   ]
  },
  {
   "cell_type": "markdown",
   "metadata": {},
   "source": [
    "### 24479. 알고리즘 수업-DFS1"
   ]
  },
  {
   "cell_type": "code",
   "execution_count": 29,
   "metadata": {},
   "outputs": [
    {
     "name": "stdout",
     "output_type": "stream",
     "text": [
      "1\n",
      "2\n",
      "3\n",
      "4\n",
      "0\n"
     ]
    }
   ],
   "source": [
    "# import sys\n",
    "# sys.setrecursionlimit(10**6)\n",
    "# input=sys.stdin.readline\n",
    "\n",
    "N, M, R = map(int,input().split())\n",
    "\n",
    "# 인접 리스트로 그래프 구현\n",
    "graph=[[] for _ in range(N+1)]\n",
    "for _ in range(M):\n",
    "    u,v=map(int,input().split())\n",
    "    graph[u].append(v)\n",
    "    graph[v].append(u)\n",
    "\n",
    "# 오름차순으로 정렬\n",
    "for idx,lst in enumerate(graph):\n",
    "    lst.sort()\n",
    "    graph[idx]=lst\n",
    "    \n",
    "visited=[False]*(N+1)\n",
    "order=[0 for _ in range(N+1)]\n",
    "\n",
    "cnt=0\n",
    "def dfs(graph,v,visited):\n",
    "    visited[v]=True # 방문표시\n",
    "    global cnt\n",
    "    cnt+=1\n",
    "    order[v]=cnt\n",
    "    for i in graph[v]:\n",
    "        if not visited[i]: dfs(graph,i,visited)\n",
    "    \n",
    "dfs(graph,R,visited)\n",
    "\n",
    "for node in range(1,N+1):\n",
    "    print(order[node])\n"
   ]
  },
  {
   "cell_type": "markdown",
   "metadata": {},
   "source": [
    "### 24480. 알고리즘 수업-DFS2"
   ]
  },
  {
   "cell_type": "code",
   "execution_count": 32,
   "metadata": {},
   "outputs": [
    {
     "name": "stdout",
     "output_type": "stream",
     "text": [
      "1\n",
      "4\n",
      "3\n",
      "2\n",
      "0\n"
     ]
    }
   ],
   "source": [
    "# import sys\n",
    "# sys.setrecursionlimit(10**6)\n",
    "# input=sys.stdin.readline\n",
    "\n",
    "N, M, R = map(int,input().split())\n",
    "\n",
    "# 인접 리스트로 그래프 구현\n",
    "graph=[[] for _ in range(N+1)]\n",
    "for _ in range(M):\n",
    "    u,v=map(int,input().split())\n",
    "    graph[u].append(v)\n",
    "    graph[v].append(u)\n",
    "\n",
    "# 내림차순으로 정렬\n",
    "for idx,lst in enumerate(graph):\n",
    "    lst.sort(reverse=True)\n",
    "    graph[idx]=lst\n",
    "    \n",
    "visited=[False]*(N+1)\n",
    "order=[0 for _ in range(N+1)]\n",
    "\n",
    "cnt=0\n",
    "def dfs(graph,v,visited):\n",
    "    visited[v]=True # 방문표시\n",
    "    global cnt\n",
    "    cnt+=1\n",
    "    order[v]=cnt\n",
    "    for i in graph[v]:\n",
    "        if not visited[i]: dfs(graph,i,visited)\n",
    "    \n",
    "dfs(graph,R,visited)\n",
    "\n",
    "for node in range(1,N+1):\n",
    "    print(order[node])\n"
   ]
  },
  {
   "cell_type": "markdown",
   "metadata": {},
   "source": [
    "### 24444. 알고리즘 수업 - BFS1"
   ]
  },
  {
   "cell_type": "code",
   "execution_count": null,
   "metadata": {},
   "outputs": [],
   "source": [
    "# import sys\n",
    "# input=sys.stdin.readline\n",
    "N,M,R=map(int,input().split())\n",
    "\n",
    "# 인접리스트로 구현하기\n",
    "graph=[[] for _ in range(N+1)]\n",
    "for _ in range(M):\n",
    "    u,v=map(int,input().split())\n",
    "    graph[u].append(v)\n",
    "    graph[v].append(u)\n",
    "    \n",
    "# 오름차순 정렬하기\n",
    "for nodes in graph:\n",
    "    nodes.sort()\n",
    "\n",
    "#graph=[[], [2, 4], [1, 3, 4], [2, 4], [1, 2, 3], []]\n",
    "from collections import deque\n",
    "\n",
    "visited=[False]*(N+1)\n",
    "order=['0' for _ in range(N)]\n",
    "def bfs(graph,start,visited):\n",
    "    que=deque([R])\n",
    "    \n",
    "    cnt=1\n",
    "    while que:\n",
    "        v=que.popleft()\n",
    "        visited[v]=True\n",
    "        order[v-1]=str(cnt)\n",
    "        cnt+=1\n",
    "        for node in graph[v]:\n",
    "            if not visited[node]:\n",
    "                que.append(node)\n",
    "                visited[node]=True\n",
    "\n",
    "bfs(graph,R,visited) \n",
    "print('\\n'.join(order))        \n",
    "        "
   ]
  },
  {
   "cell_type": "markdown",
   "metadata": {},
   "source": [
    "### 24445. 알고리즘 수업 - BFS2"
   ]
  },
  {
   "cell_type": "code",
   "execution_count": null,
   "metadata": {},
   "outputs": [],
   "source": [
    "# import sys\n",
    "# input=sys.stdin.readline\n",
    "from collections import deque\n",
    "N,M,R=map(int,input().split())\n",
    "\n",
    "# 인접리스트로 구현하기\n",
    "graph=[[] for _ in range(N+1)]\n",
    "for _ in range(M):\n",
    "    u,v=map(int,input().split())\n",
    "    graph[u].append(v)\n",
    "    graph[v].append(u)\n",
    "    \n",
    "# 내림차순 정렬하기\n",
    "for nodes in graph:\n",
    "    nodes.sort(reverse=True)\n",
    "\n",
    "visited=[False]*(N+1)\n",
    "order=['0' for _ in range(N)]\n",
    "def bfs(graph,start,visited):\n",
    "    que=deque([R])\n",
    "    \n",
    "    cnt=1\n",
    "    while que:\n",
    "        v=que.popleft()\n",
    "        visited[v]=True\n",
    "        order[v-1]=str(cnt)\n",
    "        cnt+=1\n",
    "        for node in graph[v]:\n",
    "            if not visited[node]:\n",
    "                que.append(node)\n",
    "                visited[node]=True\n",
    "\n",
    "bfs(graph,R,visited) \n",
    "print('\\n'.join(order))"
   ]
  },
  {
   "cell_type": "markdown",
   "metadata": {},
   "source": [
    "### 2606. 바이러스"
   ]
  },
  {
   "cell_type": "code",
   "execution_count": null,
   "metadata": {},
   "outputs": [],
   "source": [
    "# import sys\n",
    "# input=sys.stdin.readline\n",
    "\n",
    "computer=int(input())\n",
    "connection=int(input())\n",
    "\n",
    "graph=[[] for _ in range(computer+1)]\n",
    "for _ in range(connection):\n",
    "    u,v=map(int,input().split())\n",
    "    graph[u].append(v)\n",
    "    graph[v].append(u)\n",
    "#graph=[[], [2, 5], [1, 3, 5], [2], [7], [1, 2, 6], [5], [4]]\n",
    "# BFS로 구현하기\n",
    "from collections import deque\n",
    "\n",
    "visited=[False]*(computer+1)\n",
    "cnt=0\n",
    "que=deque([1])\n",
    "visited[1]=True\n",
    "\n",
    "while que:\n",
    "    v=que.popleft()\n",
    "    cnt+=1\n",
    "    for node in graph[v]:\n",
    "        if not visited[node]:\n",
    "            que.append(node)\n",
    "            visited[node]=True\n",
    "print(cnt-1)"
   ]
  },
  {
   "cell_type": "markdown",
   "metadata": {},
   "source": [
    "### 1260. DFS와 BFS"
   ]
  },
  {
   "cell_type": "code",
   "execution_count": 35,
   "metadata": {},
   "outputs": [
    {
     "name": "stdout",
     "output_type": "stream",
     "text": [
      "1 2 4 3\n",
      "1 2 3 4\n"
     ]
    }
   ],
   "source": [
    "# import sys\n",
    "# input=sys.stdin.readline\n",
    "from collections import deque\n",
    "\n",
    "N,M,V=map(int,input().split())\n",
    "\n",
    "graph=[[] for _ in range(N+1)]\n",
    "for _ in range(M):\n",
    "    u,v=map(int,input().split())\n",
    "    graph[u].append(v)\n",
    "    graph[v].append(u)\n",
    "    \n",
    "for nodes in graph: #오름차순 정렬\n",
    "    nodes.sort()\n",
    "    \n",
    "# N,M,V=4,5,1\n",
    "# graph=[[], [2, 3, 4], [1, 4], [1, 4], [1, 2, 3]]\n",
    "# from collections import deque\n",
    "\n",
    "def BFS(graph,start,visited):\n",
    "    visited[start]=True\n",
    "    que=deque([start])\n",
    "    while que:\n",
    "        v=que.popleft()\n",
    "        order.append(str(v))\n",
    "        for node in graph[v]:\n",
    "            if not visited[node]:\n",
    "                que.append(node)\n",
    "                visited[node]=True\n",
    "                \n",
    "def DFS(graph,start,visited):\n",
    "    visited[start]=True # 방문처리\n",
    "    order.append(str(start))\n",
    "    for v in graph[start]:\n",
    "        if not visited[v]:\n",
    "            DFS(graph,v,visited)\n",
    "    \n",
    "visited=[False]*(N+1)\n",
    "order=[]\n",
    "DFS(graph,V,visited)\n",
    "print(' '.join(order))\n",
    "\n",
    "visited=[False]*(N+1)\n",
    "order=[]\n",
    "BFS(graph,V,visited)\n",
    "print(' '.join(order))"
   ]
  },
  {
   "cell_type": "markdown",
   "metadata": {},
   "source": [
    "### 2667. 단지번호 붙이기  \n",
    "+ 1: 집(O)\n",
    "+ 0: 집(X)"
   ]
  },
  {
   "cell_type": "code",
   "execution_count": null,
   "metadata": {},
   "outputs": [
    {
     "name": "stdout",
     "output_type": "stream",
     "text": [
      "3\n",
      "7\n",
      "8\n",
      "9\n"
     ]
    }
   ],
   "source": [
    "# import sys\n",
    "# input=sys.stdin.readline\n",
    "\n",
    "N=int(input())\n",
    "maps=[]\n",
    "for _ in range(N):\n",
    "    maps.append(list(map(int,list(input().rstrip()))))\n",
    "    \n",
    "def dfs(maps,x,y):\n",
    "    global cnt\n",
    "    if maps[x][y]==1:\n",
    "        cnt+=1\n",
    "        maps[x][y]=0\n",
    "        if ((x-1)>=0) and (y>=0) and ((x-1)<N) and (y<N) : dfs(maps,x-1,y) #상\n",
    "        if ((x+1)>=0) and (y>=0) and ((x+1)<N) and (y<N) : dfs(maps,x+1,y) #하\n",
    "        if (x>=0) and ((y-1)>=0) and (x<N) and ((y-1)<N) : dfs(maps,x,y-1) #좌\n",
    "        if (x>=0) and ((y+1)>=0) and (x<N) and ((y+1)<N) : dfs(maps,x,y+1) #우\n",
    "    else:\n",
    "        return\n",
    "\n",
    "lst=[]\n",
    "for x in range(N):\n",
    "    for y in range(N):\n",
    "        cnt=0\n",
    "        dfs(maps,x,y)\n",
    "        if cnt!=0: lst.append(cnt)\n",
    "        \n",
    "print(len(lst))\n",
    "lst.sort()\n",
    "print(*lst,sep='\\n')"
   ]
  },
  {
   "cell_type": "markdown",
   "metadata": {},
   "source": [
    "### 1012. 유기농 배추  \n",
    "+ 1: 배추(O)\n",
    "+ 0: 배추(X)"
   ]
  },
  {
   "cell_type": "code",
   "execution_count": null,
   "metadata": {},
   "outputs": [],
   "source": [
    "# import sys\n",
    "# input=sys.stdin.readline\n",
    "import copy"
   ]
  },
  {
   "cell_type": "code",
   "execution_count": null,
   "metadata": {},
   "outputs": [],
   "source": [
    "bat1=None\n",
    "def dfs(y,x):\n",
    "    if bat1[y][x]==1:\n",
    "        bat1[y][x]=0 #방문처리\n",
    "        if ((y-1)>=0) and ((y-1)<N) and (x>=0) and (x<M): dfs(y-1,x) #상\n",
    "        if ((y+1)>=0) and ((y+1)<N) and (x>=0) and (x<M): dfs(y+1,x) #하\n",
    "        if (y>=0) and (y<N) and ((x-1)>=0) and ((x-1)<M): dfs(y,x-1) #좌\n",
    "        if (y>=0) and (y<N) and ((x+1)>=0) and ((x+1)<M): dfs(y,x+1) #우\n",
    "        \n",
    "    else:\n",
    "        return"
   ]
  },
  {
   "cell_type": "code",
   "execution_count": null,
   "metadata": {},
   "outputs": [
    {
     "name": "stdout",
     "output_type": "stream",
     "text": [
      "2\n"
     ]
    }
   ],
   "source": [
    "T=int(input())\n",
    "for _ in range(T):\n",
    "    M,N,K=map(int,input().split()) # 가로, 세로, 배추 개수\n",
    "\n",
    "    bat=[[0]*M for _ in range(N)]\n",
    "    for _ in range(K):\n",
    "        X,Y=map(int,input().split())\n",
    "        bat[Y][X]=1\n",
    "\n",
    "    bat1=copy.deepcopy(bat)\n",
    "    cnt=0\n",
    "    for y in range(N):\n",
    "        for x in range(M):\n",
    "            if bat1[y][x]==1:\n",
    "                dfs(y,x)\n",
    "                cnt+=1\n",
    "    print(cnt)"
   ]
  },
  {
   "cell_type": "markdown",
   "metadata": {},
   "source": [
    "### 2178. 미로 탐색"
   ]
  },
  {
   "cell_type": "code",
   "execution_count": null,
   "metadata": {},
   "outputs": [
    {
     "name": "stdout",
     "output_type": "stream",
     "text": [
      "38\n"
     ]
    }
   ],
   "source": [
    "# import sys\n",
    "# input=sys.stdin.readlines\n",
    "from collections import deque\n",
    "\n",
    "N,M=map(int,input().split()) #세로, 가로\n",
    "\n",
    "maze=[]\n",
    "for _ in range(N):\n",
    "    maze.append(list(map(int,input().rstrip())))\n",
    "\n",
    "que=deque([(0,0,1)]) #x,y,d\n",
    "maze[0][0]=0\n",
    "cnt=0\n",
    "while que:\n",
    "    x,y,d=que.popleft()\n",
    "    if x==(N-1) and y==(M-1): \n",
    "        print(d)\n",
    "        break\n",
    "    \n",
    "    if ((x-1)>=0) and ((x-1)<N) and (y>=0) and (y<M) and maze[x-1][y]==1: #상\n",
    "        que.append((x-1,y,d+1))\n",
    "        maze[x-1][y]=0\n",
    "    \n",
    "    if ((x+1)>=0) and ((x+1)<N) and (y>=0) and (y<M) and maze[x+1][y]==1: #하\n",
    "        que.append((x+1,y,d+1))\n",
    "        maze[x+1][y]=0\n",
    "    \n",
    "    if (x>=0) and (x<N) and ((y-1)>=0) and ((y-1)<M) and maze[x][y-1]==1: #좌\n",
    "        que.append((x,y-1,d+1))\n",
    "        maze[x][y-1]=0\n",
    "    \n",
    "    if (x>=0) and (x<N) and ((y+1)>=0) and ((y+1)<M) and maze[x][y+1]==1: #우\n",
    "        que.append((x,y+1,d+1))\n",
    "        maze[x][y+1]=0"
   ]
  },
  {
   "cell_type": "markdown",
   "metadata": {},
   "source": [
    "### 1697. 숨바꼭질"
   ]
  },
  {
   "cell_type": "code",
   "execution_count": null,
   "metadata": {},
   "outputs": [],
   "source": [
    "# import sys\n",
    "# input=sys.stdin.readline\n",
    "from collections import deque\n",
    "\n",
    "N, K= map(int,input().split())\n",
    "que=deque([(N,0)]) # 초기위치\n",
    "\n",
    "bounds=max(K+2,N+2)\n",
    "visit=[False]*bounds\n",
    "visit[N]=True # 방문처리\n",
    "\n",
    "while que:\n",
    "    x,sec=que.popleft() # 위치,초\n",
    "    if x==K:\n",
    "        print(sec)\n",
    "        break\n",
    "            \n",
    "    if ((x*2)<bounds) and (not visit[x*2]): # 순간이동\n",
    "        que.append((x*2,sec+1))\n",
    "        visit[x*2]=True\n",
    "        if x*2==K:\n",
    "            print(sec+1)\n",
    "            break\n",
    "        \n",
    "    if ((x+1)<bounds) and (not visit[x+1]) : # 앞으로 걷기\n",
    "        que.append((x+1,sec+1)) \n",
    "        visit[x+1]=True\n",
    "        if x+1==K:\n",
    "            print(sec+1)\n",
    "            break\n",
    "    if ((x-1)>=0) and (not visit[x-1]) : # 뒤로 걷기\n",
    "        que.append((x-1,sec+1)) \n",
    "        visit[x-1]=True\n",
    "        if x-1==K:\n",
    "            print(sec+1)\n",
    "            break"
   ]
  },
  {
   "cell_type": "markdown",
   "metadata": {},
   "source": [
    "### 7562. 나이트의 이동\n",
    "+ l(4 ≤ l ≤ 300)"
   ]
  },
  {
   "cell_type": "code",
   "execution_count": null,
   "metadata": {},
   "outputs": [
    {
     "name": "stdout",
     "output_type": "stream",
     "text": [
      "5\n",
      "28\n",
      "0\n"
     ]
    }
   ],
   "source": [
    "# import sys\n",
    "# input=sys.stdin.readline\n",
    "\n",
    "from collections import deque\n",
    "moves=[(-2,-1),(-2,+1),(+2,-1),(+2,+1),(-1,-2),(+1,-2),(-1,+2),(+1,+2)]\n",
    "\n",
    "def bfs(now,goal,l):\n",
    "    board=[]\n",
    "    for _ in range(l):\n",
    "        board.append([0 for _ in range(l)])\n",
    "    \n",
    "    x,y=now\n",
    "    que=deque([(x,y,0)])\n",
    "    board[x][y]=1\n",
    "    \n",
    "    while True:\n",
    "        x,y,d=que.popleft()\n",
    "        if x==goal[0] and y==goal[1] : \n",
    "            print(d)\n",
    "            break\n",
    "        \n",
    "        for move in moves:\n",
    "            next_x=x+move[0]\n",
    "            next_y=y+move[1]\n",
    "            if (0<=next_x<l) and (0<=next_y<l) and (board[next_x][next_y]==0) :\n",
    "                board[next_x][next_y]=1\n",
    "                que.append((next_x,next_y,d+1))\n",
    "        \n",
    "T=int(input())\n",
    "\n",
    "for _ in range(T):\n",
    "\n",
    "    l=int(input())\n",
    "    now=list(map(int,input().split()))\n",
    "    goal=list(map(int,input().split()))\n",
    "    \n",
    "    bfs(now,goal,l)"
   ]
  },
  {
   "cell_type": "markdown",
   "metadata": {},
   "source": [
    "### 7576. 토마토 \n",
    "+ 2 ≤ M,N ≤ 1,000\n",
    "\n",
    "    + 1 : 익음\n",
    "    + 0 : 안익음\n",
    "    + -1: 안들어있음"
   ]
  },
  {
   "cell_type": "code",
   "execution_count": 1,
   "metadata": {},
   "outputs": [
    {
     "name": "stdout",
     "output_type": "stream",
     "text": [
      "8\n"
     ]
    }
   ],
   "source": [
    "# import sys\n",
    "# input=sys.stdin.readline\n",
    "from collections import deque\n",
    "\n",
    "M,N=map(int,input().split())\n",
    "\n",
    "tomatoes=[]\n",
    "for n in range(N):\n",
    "    tomatoes.append(list(map(int,input().split())))\n",
    "\n",
    "# tomatoes=[\n",
    "#     [1, -1, 0, 0, 0, 0],\n",
    "#     [0, -1, 0, 0, 0, 0],\n",
    "#     [0, 0, 0, 0, -1, 0],\n",
    "#     [0, 0, 0, 0, -1, 1]]\n",
    "\n",
    "ripe=[]\n",
    "empty=[]  \n",
    "for n in range(N):\n",
    "    for m in range(M):\n",
    "        if tomatoes[n][m]==1: ripe.append((n,m))\n",
    "        elif tomatoes[n][m]==-1:empty.append((n,m))\n",
    "\n",
    "moves=[(-1,0),(+1,0),(0,-1),(0,+1)]\n",
    "def bfs(ripe):\n",
    "    \n",
    "    if len(ripe)+len(empty)==N*M: # 처음부터 모두 익어있을때\n",
    "        return 0\n",
    "\n",
    "    que=deque()\n",
    "    for r in ripe:\n",
    "        que.append((r[0],r[1],0))\n",
    "    d=-1\n",
    "    \n",
    "    while que:\n",
    "        x,y,d=que.popleft()\n",
    "        \n",
    "        for move in moves:\n",
    "            next_x=x+move[0]\n",
    "            next_y=y+move[1]\n",
    "            \n",
    "            if (0<=next_x<N) and (0<=next_y<M) and (tomatoes[next_x][next_y]==0):\n",
    "                tomatoes[next_x][next_y]=1\n",
    "                que.append((next_x,next_y,d+1))\n",
    "    \n",
    "    return d\n",
    "\n",
    "\n",
    "ret=bfs(ripe)\n",
    "\n",
    "if ret==0: # 처음부터 다 익음\n",
    "    print(0)\n",
    "elif ret==-1: # 애초에 익은게 없음\n",
    "    print(-1)\n",
    "else:\n",
    "    for row in tomatoes:\n",
    "        if 0 in row: # 안 익은게 있음\n",
    "            ret=-1\n",
    "            break\n",
    "    print(ret)"
   ]
  },
  {
   "cell_type": "markdown",
   "metadata": {},
   "source": [
    "### 7569. 토마토  \n",
    "+ 2 ≤ M ≤ 100\n",
    "+ 2 ≤ N ≤ 100\n",
    "+ 1 ≤ H ≤ 100"
   ]
  },
  {
   "cell_type": "code",
   "execution_count": null,
   "metadata": {},
   "outputs": [],
   "source": [
    "# import sys\n",
    "# input=sys.stdin.readline\n",
    "from collections import deque\n",
    "\n",
    "M,N,H=map(int,input().split())\n",
    "\n",
    "tomatoes=[[list(map(int,input().split())) for _ in range(N)] for _ in range(H)]\n",
    "    \n",
    "# M,N,H=5,3,2\n",
    "# tomatoes=[\n",
    "#     [[0, 0, 0, 0, 0], \n",
    "#      [0, 0, 0, 0, 0], \n",
    "#      [0, 0, 0, 0, 0]],\n",
    "    \n",
    "#     [[0, 0, 0, 0, 0], \n",
    "#      [0, 0, 1, 0, 0], \n",
    "#      [0, 0, 0, 0, 0]]]\n",
    "\n",
    "ripe=[]\n",
    "empty=[]\n",
    "\n",
    "for h in range(H):\n",
    "    for n in range(N):\n",
    "        for m in range(M):\n",
    "            if tomatoes[h][n][m]==1: ripe.append((h,n,m))\n",
    "            elif tomatoes[h][n][m]==-1: empty.append((h,n,m))\n",
    "moves=[(1,0,0),(-1,0,0),(0,1,0),(0,-1,0),(0,0,1),(0,0,-1)]\n",
    "\n",
    "def bfs(ripe):\n",
    "    if len(ripe)+len(empty)==H*N*M: # 저장될 때부터 모든 토마토가 익어있는 상태\n",
    "        return 0\n",
    "    \n",
    "    que=deque()\n",
    "    \n",
    "    for r in ripe:\n",
    "        que.append((r[0],r[1],r[2],0))\n",
    "    \n",
    "    d=-1 # 모든 토마토 안익어있는 경우\n",
    "    while que:\n",
    "        h,n,m,d=que.popleft()\n",
    "        \n",
    "        for move in moves:\n",
    "            next_h=h+move[0]\n",
    "            next_n=n+move[1]\n",
    "            next_m=m+move[2]\n",
    "            \n",
    "            if (0<=next_h<H) and (0<=next_n<N) and (0<=next_m<M) and (tomatoes[next_h][next_n][next_m]==0):\n",
    "                tomatoes[next_h][next_n][next_m]=1\n",
    "                que.append((next_h,next_n,next_m,d+1))\n",
    "    \n",
    "    return d\n",
    "ret=bfs(ripe)\n",
    "\n",
    "if ret==0: # 처음부터 다 익음\n",
    "    print(0)\n",
    "elif ret==-1: # 애초에 익은게 없음\n",
    "    print(-1)\n",
    "else:\n",
    "    for floor in tomatoes:\n",
    "        for row in floor:\n",
    "            if 0 in row:\n",
    "                ret=-1\n",
    "                break\n",
    "    print(ret)"
   ]
  }
 ],
 "metadata": {
  "kernelspec": {
   "display_name": "base",
   "language": "python",
   "name": "python3"
  },
  "language_info": {
   "codemirror_mode": {
    "name": "ipython",
    "version": 3
   },
   "file_extension": ".py",
   "mimetype": "text/x-python",
   "name": "python",
   "nbconvert_exporter": "python",
   "pygments_lexer": "ipython3",
   "version": "3.9.13"
  }
 },
 "nbformat": 4,
 "nbformat_minor": 2
}
