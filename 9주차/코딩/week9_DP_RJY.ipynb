{
 "cells": [
  {
   "cell_type": "markdown",
   "metadata": {},
   "source": [
    "## 알고리즘 수업 - 피보나치 수 1\n",
    "+ https://www.acmicpc.net/step/16"
   ]
  },
  {
   "cell_type": "markdown",
   "metadata": {},
   "source": [
    "### 24416. 알고리즘 수업-피보나치 수 1"
   ]
  },
  {
   "cell_type": "markdown",
   "metadata": {},
   "source": [
    "+ 시간 초과 ver"
   ]
  },
  {
   "cell_type": "code",
   "execution_count": null,
   "metadata": {},
   "outputs": [],
   "source": [
    "# import sys\n",
    "# input=sys.stdin.readline\n",
    "n=int(input())\n",
    "cnt_fib=0\n",
    "def fib(n): #재귀호출\n",
    "    if n==1 or n==2:\n",
    "        global cnt_fib\n",
    "        cnt_fib+=1\n",
    "        return 1 #코드1\n",
    "    return fib(n-1) + fib(n-2)\n"
   ]
  },
  {
   "cell_type": "code",
   "execution_count": null,
   "metadata": {},
   "outputs": [],
   "source": [
    "cnt_fibonacci=0\n",
    "f=[0]*41\n",
    "def fibonacci(n): # 동적프로그래밍 - TopDown\n",
    "    f[1]=1\n",
    "    f[2]=1\n",
    "    for i in range(3,n+1):\n",
    "        global cnt_fibonacci\n",
    "        cnt_fibonacci+=1\n",
    "        f[i]=f[i-1]+f[i-2] # 코드2\n",
    "    \n",
    "    return f[n]"
   ]
  },
  {
   "cell_type": "code",
   "execution_count": null,
   "metadata": {},
   "outputs": [],
   "source": [
    "fib(n),fibonacci(n)\n",
    "print(cnt_fib, cnt_fibonacci)"
   ]
  },
  {
   "cell_type": "markdown",
   "metadata": {},
   "source": [
    "+ 수정"
   ]
  },
  {
   "cell_type": "code",
   "execution_count": null,
   "metadata": {},
   "outputs": [],
   "source": [
    "n=int(input())"
   ]
  },
  {
   "cell_type": "code",
   "execution_count": null,
   "metadata": {},
   "outputs": [],
   "source": [
    "cnt_fibonacci=0\n",
    "f=[0]*41\n",
    "def fibonacci(n): # 동적프로그래밍 - TopDown\n",
    "    f[1]=1\n",
    "    f[2]=1\n",
    "    for i in range(3,n+1):\n",
    "        global cnt_fibonacci\n",
    "        cnt_fibonacci+=1\n",
    "        f[i]=f[i-1]+f[i-2] # 코드2\n",
    "    \n",
    "    return f[n]"
   ]
  },
  {
   "cell_type": "code",
   "execution_count": null,
   "metadata": {},
   "outputs": [
    {
     "name": "stdout",
     "output_type": "stream",
     "text": [
      "5 3\n"
     ]
    }
   ],
   "source": [
    "print(fibonacci(n),cnt_fibonacci)"
   ]
  },
  {
   "cell_type": "markdown",
   "metadata": {},
   "source": [
    "### 1932. 정수 삼각형"
   ]
  },
  {
   "cell_type": "code",
   "execution_count": null,
   "metadata": {},
   "outputs": [],
   "source": [
    "# import sys\n",
    "# input=sys.stdin.readlines\n",
    "n=int(input())\n",
    "nums=[]\n",
    "\n",
    "for _ in range(n):\n",
    "    nums.append(list(map(int,input().split())))\n",
    "    \n",
    "# nums=[[7], [3, 8], [8, 1, 0], [2, 7, 4, 4], [4, 5, 2, 6, 5]]\n",
    "\n",
    "for idx1,val1 in enumerate(nums):\n",
    "    if idx1==0:\n",
    "        pass\n",
    "    else:\n",
    "        tmp=[]\n",
    "        # print(val1)\n",
    "        for idx2,val2 in enumerate(val1):\n",
    "            if idx2==0:\n",
    "                tmp.append(val2+nums[idx1-1][idx2])\n",
    "            elif idx2==(len(val1)-1):\n",
    "                tmp.append(val2+nums[idx1-1][idx2-1])\n",
    "            else:\n",
    "                tmp.append(max(val2+nums[idx1-1][idx2],val2+nums[idx1-1][idx2-1]))\n",
    "        nums[idx1]=tmp  \n",
    "print(max(nums[-1]))"
   ]
  }
 ],
 "metadata": {
  "language_info": {
   "name": "python"
  }
 },
 "nbformat": 4,
 "nbformat_minor": 2
}
