{
 "cells": [
  {
   "cell_type": "markdown",
   "metadata": {},
   "source": [
    "## BOJ 그리디 알고리즘\n",
    "https://www.acmicpc.net/step/33  \n",
    "https://school.programmers.co.kr/learn/courses/30/lessons/42862?language=python3"
   ]
  },
  {
   "cell_type": "markdown",
   "metadata": {},
   "source": [
    "### Porgrammers. 체육복"
   ]
  },
  {
   "cell_type": "markdown",
   "metadata": {},
   "source": [
    "+ 오답"
   ]
  },
  {
   "cell_type": "code",
   "execution_count": 6,
   "metadata": {},
   "outputs": [],
   "source": [
    "n=5\n",
    "lost=[2,4]\n",
    "reserve=[1, 3, 5]"
   ]
  },
  {
   "cell_type": "code",
   "execution_count": 43,
   "metadata": {},
   "outputs": [
    {
     "data": {
      "text/plain": [
       "9"
      ]
     },
     "execution_count": 43,
     "metadata": {},
     "output_type": "execute_result"
    }
   ],
   "source": [
    "n=10\n",
    "lost=[3,5,7,9]\n",
    "reserve=[2,4,6,8]\n",
    "\n",
    "def solution(n, lost, reserve):\n",
    "    # 본인거\n",
    "    lost1=[]\n",
    "    for l in lost:\n",
    "        if l not in reserve: lost1.append(l)\n",
    "        else:reserve.remove(l)\n",
    "    reserve2=reserve\n",
    "    \n",
    "    \n",
    "    # 뒤 -> 앞\n",
    "    lost2=[]\n",
    "    for l in lost1:\n",
    "        if l+1 not in reserve:lost2.append(l)\n",
    "        else:reserve.remove(l+1)\n",
    "    lost3=[]\n",
    "    for l in lost2:\n",
    "        if l-1 not in reserve:lost3.append(l)\n",
    "        else: reserve.remove(l-1)\n",
    "        \n",
    "    # 앞 -> 뒤\n",
    "    lost22=[]\n",
    "    for l in lost1:\n",
    "        if l-1 not in reserve2:lost22.append(l)\n",
    "        else:reserve2.remove(l-1)\n",
    "    lost33=[]\n",
    "    for l in lost22:\n",
    "        if l+1 not in reserve2:lost33.append(l)\n",
    "        else: reserve2.remove(l+1)\n",
    "\n",
    "    answer = n-min(len(lost3),len(lost33))\n",
    "    return answer\n",
    "\n",
    "solution(n,lost,reserve)"
   ]
  },
  {
   "cell_type": "code",
   "execution_count": 163,
   "metadata": {},
   "outputs": [
    {
     "name": "stdout",
     "output_type": "stream",
     "text": [
      "[1, 3, 10]\n",
      "- [[2], [2], [-1, -1, -1]]\n",
      "[[], [], [-1, -1, -1]]\n"
     ]
    },
    {
     "data": {
      "text/plain": [
       "9"
      ]
     },
     "execution_count": 163,
     "metadata": {},
     "output_type": "execute_result"
    }
   ],
   "source": [
    "n=10\n",
    "lost=[1,3,5,6,10]\n",
    "reserve=[2,5,6]\n",
    "\n",
    "def solution(n, lost, reserve):\n",
    "\n",
    "    # 본인거\n",
    "    lost2=[]\n",
    "    for idx,l in enumerate(lost):\n",
    "        if l in reserve: reserve.remove(l)\n",
    "        else: lost2.append(l)\n",
    "    print(lost2)\n",
    "    \n",
    "    for idx,l in enumerate(lost2): \n",
    "        temp=[]\n",
    "        if l-1 in reserve:temp.append(l-1)\n",
    "        if l+1 in reserve:temp.append(l+1)\n",
    "        if (l-1 not in reserve) and (l+1 not in reserve) : temp=[-1,-1,-1] #아무것도nono\n",
    "        lost2[idx]=temp      \n",
    "\n",
    "    # 한사람한테 만 빌릴 수 있을 때 먼저 처리   \n",
    "    for _ in range(n):\n",
    "        pre=lost2.copy()\n",
    "        print('-',lost2)\n",
    "        for idx,temp in enumerate(lost2):\n",
    "            if (len(temp)==1) and (temp[0] in reserve): \n",
    "                reserve.remove(temp[0])\n",
    "                if (idx-1>=0) and temp[0] in lost2[idx-1]: lost2[idx-1].remove(temp[0])\n",
    "                if (idx+1<len(lost)) and temp[0] in lost2[idx+1] : lost2[idx+1].remove(temp[0])\n",
    "                temp.remove(temp[0])\n",
    "        \n",
    "        if lost2==pre: break\n",
    "        \n",
    "    print(lost2)\n",
    "\n",
    "    for l in lost2:\n",
    "        if len(l)==3:\n",
    "            n-=1\n",
    "\n",
    "    answer=n\n",
    "    return answer\n",
    "\n",
    "solution(n, lost, reserve)"
   ]
  },
  {
   "cell_type": "markdown",
   "metadata": {},
   "source": [
    "### 11047. 동전0 "
   ]
  },
  {
   "cell_type": "code",
   "execution_count": 17,
   "metadata": {},
   "outputs": [
    {
     "name": "stdout",
     "output_type": "stream",
     "text": [
      "13\n"
     ]
    }
   ],
   "source": [
    "# import sys\n",
    "# input=sys.stdin.readline\n",
    "N,K = map(int,input().split())\n",
    "\n",
    "coins=[int(input()) for _ in range(N)]\n",
    "coins.reverse()\n",
    "\n",
    "cnt=0\n",
    "for c in coins:\n",
    "    cnt+=K//c\n",
    "    K%=c\n",
    "    if (K==1) and (c==1): break\n",
    "    \n",
    "print(cnt)\n"
   ]
  },
  {
   "cell_type": "markdown",
   "metadata": {},
   "source": [
    "### 1931. 회의실 배정"
   ]
  },
  {
   "cell_type": "code",
   "execution_count": 46,
   "metadata": {},
   "outputs": [
    {
     "name": "stdout",
     "output_type": "stream",
     "text": [
      "4\n"
     ]
    }
   ],
   "source": [
    "# import sys\n",
    "# input=sys.stdin.readline\n",
    "\n",
    "N=int(input())\n",
    "info={}\n",
    "for _ in range(N):\n",
    "    start,end=map(int,input().split())\n",
    "    if end not in info.keys():\n",
    "        info[end]=[]\n",
    "    info[end].append(start)\n",
    "\n",
    "ends=sorted(list(info.keys()))\n",
    "\n",
    "temp=-1\n",
    "cnt=0\n",
    "for e in ends:\n",
    "    if temp<=max(info[e]): # 마지막 회의의 end보다 start값이 크다면\n",
    "        temp=e\n",
    "        cnt+=1\n",
    "        if max(info[e])==e: # 시작값과 끝 값이 같은 경우\n",
    "            cnt+=info[e].count(e)-1\n",
    "            if len(info[e])!=info[e].count(e):\n",
    "                cnt+=1\n",
    "        \n",
    "print(cnt)"
   ]
  },
  {
   "cell_type": "markdown",
   "metadata": {},
   "source": [
    "### 11399. ATM"
   ]
  },
  {
   "cell_type": "code",
   "execution_count": 52,
   "metadata": {},
   "outputs": [],
   "source": [
    "N=int(input())\n",
    "P=sorted(list(map(int,input().split())))\n",
    "\n",
    "ret=0\n",
    "for i in range(N):\n",
    "    ret+=P[N-i-1]*(i+1)\n",
    "    \n",
    "print(ret)"
   ]
  },
  {
   "cell_type": "markdown",
   "metadata": {},
   "source": [
    "### 1541. 잃어버린 괄호"
   ]
  },
  {
   "cell_type": "code",
   "execution_count": 91,
   "metadata": {},
   "outputs": [
    {
     "name": "stdout",
     "output_type": "stream",
     "text": [
      "0\n"
     ]
    }
   ],
   "source": [
    "# import sys\n",
    "# input=sys.stdin.readline\n",
    "string=input()\n",
    "\n",
    "temp=[]\n",
    "num=[]\n",
    "operator=[]\n",
    "\n",
    "for s in string:\n",
    "    if (s=='-') or (s=='+'):\n",
    "        operator.append(s)\n",
    "        num.append(int(''.join(temp)))\n",
    "        temp=[]\n",
    "    else:\n",
    "        temp.append(s)\n",
    "num.append(int(''.join(temp)))\n",
    "\n",
    "if '-' in operator:\n",
    "    print(sum(num[:operator.index('-')+1])-sum(num[operator.index('-')+1:]))\n",
    "else:\n",
    "    print(sum(num))"
   ]
  },
  {
   "cell_type": "markdown",
   "metadata": {},
   "source": [
    "### 13305. 주유소"
   ]
  },
  {
   "cell_type": "code",
   "execution_count": 51,
   "metadata": {},
   "outputs": [
    {
     "name": "stdout",
     "output_type": "stream",
     "text": [
      "10\n"
     ]
    }
   ],
   "source": [
    "# import sys\n",
    "# input=sys.stdin.readline\n",
    "\n",
    "N=int(input())\n",
    "distance=list(map(int,input().split()))\n",
    "price=list(map(int,input().split()))\n",
    "\n",
    "cost=0\n",
    "temp=N+1\n",
    "while True:\n",
    "    idx=price.index(min(price[:temp]))\n",
    "    #print(f'{sum(distance[idx:temp+1])}*{price[idx]}')\n",
    "    cost+=sum(distance[idx:temp])*price[idx]\n",
    "    temp=idx\n",
    "    if idx==0: break\n",
    "print(cost)"
   ]
  },
  {
   "cell_type": "code",
   "execution_count": 107,
   "metadata": {},
   "outputs": [
    {
     "name": "stdout",
     "output_type": "stream",
     "text": [
      "18\n"
     ]
    }
   ],
   "source": [
    "# import sys\n",
    "# input=sys.stdin.readline\n",
    "\n",
    "N=int(input())\n",
    "distance=list(map(int,input().split()))\n",
    "price=list(map(int,input().split()))\n",
    "price_sort=sorted(price)\n",
    "\n",
    "for i in range(N-1):\n",
    "    if price[i]<price[i+1]:\n",
    "        price[i+1]=price[i]\n",
    "\n",
    "cost=0       \n",
    "for i in range(N-1):\n",
    "    cost+=price[i]*distance[i]\n",
    "    \n",
    "print(cost)"
   ]
  }
 ],
 "metadata": {
  "kernelspec": {
   "display_name": "base",
   "language": "python",
   "name": "python3"
  },
  "language_info": {
   "codemirror_mode": {
    "name": "ipython",
    "version": 3
   },
   "file_extension": ".py",
   "mimetype": "text/x-python",
   "name": "python",
   "nbconvert_exporter": "python",
   "pygments_lexer": "ipython3",
   "version": "3.9.13"
  },
  "orig_nbformat": 4
 },
 "nbformat": 4,
 "nbformat_minor": 2
}
