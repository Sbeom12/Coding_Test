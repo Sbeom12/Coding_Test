{
 "cells": [
  {
   "cell_type": "markdown",
   "metadata": {},
   "source": [
    "## BOJ 브루트 포스  \n",
    "+ https://www.acmicpc.net/step/22"
   ]
  },
  {
   "cell_type": "markdown",
   "metadata": {},
   "source": [
    "### 2798. 블랙잭  \n",
    "N(3 ≤ N ≤ 100) M(10 ≤ M ≤ 300,000)"
   ]
  },
  {
   "cell_type": "code",
   "execution_count": 1,
   "metadata": {},
   "outputs": [
    {
     "name": "stdout",
     "output_type": "stream",
     "text": [
      "161700\n"
     ]
    }
   ],
   "source": [
    "from itertools import combinations\n",
    "\n",
    "n=[str(i) for i in range(100)]\n",
    "cnt=0\n",
    "for i in combinations(n,3):\n",
    "    cnt+=1\n",
    "print(cnt)"
   ]
  },
  {
   "cell_type": "markdown",
   "metadata": {},
   "source": [
    "최대 연산횟수 약 16만번 -> 부르트포스"
   ]
  },
  {
   "cell_type": "code",
   "execution_count": 11,
   "metadata": {},
   "outputs": [
    {
     "name": "stdout",
     "output_type": "stream",
     "text": [
      "497\n"
     ]
    }
   ],
   "source": [
    "from itertools import combinations\n",
    "\n",
    "N,M=map(int,input().split())\n",
    "cards=list(map(int,input().split()))\n",
    "ret=0\n",
    "for c in combinations(cards,3):\n",
    "    if (sum(c)>ret) and (sum(c)<=M):\n",
    "        ret=sum(c)\n",
    "\n",
    "print(ret)"
   ]
  },
  {
   "cell_type": "markdown",
   "metadata": {},
   "source": [
    "### 2231. 분해합  \n",
    "N(1 ≤ N ≤ 1,000,000)"
   ]
  },
  {
   "cell_type": "code",
   "execution_count": 18,
   "metadata": {},
   "outputs": [
    {
     "name": "stdout",
     "output_type": "stream",
     "text": [
      "198\n"
     ]
    }
   ],
   "source": [
    "N=int(input())\n",
    "\n",
    "for M in range(N):\n",
    "    nums=[int(m) for m in str(M)]\n",
    "    if sum(nums)+M==N: \n",
    "        print(M)\n",
    "        break\n",
    "\n",
    "if M==N-1: print(0)"
   ]
  },
  {
   "cell_type": "markdown",
   "metadata": {},
   "source": [
    "### 19532. 수학은 비대면강의입니다"
   ]
  },
  {
   "cell_type": "markdown",
   "metadata": {},
   "source": [
    "$\\begin{cases} \n",
    "ax + by = c\\\\\n",
    "dx + ey = f\\\\\n",
    "\\end{cases}$  \n",
    "\n",
    "+ $(a-\\frac{bd}{e})x=c-\\frac{bf}{e} \\Rightarrow x=\\frac{c-\\frac{bf}{e}}{a-\\frac{bd}{e}}=\\frac{ce-bf}{ae-bd}$  \n",
    "+ $(b-\\frac{ae}{d})y=c-\\frac{af}{d} \\Rightarrow y=\\frac{c-\\frac{af}{d}}{b-\\frac{ae}{d}}=\\frac{cd-af}{bd-ae}$"
   ]
  },
  {
   "cell_type": "code",
   "execution_count": 9,
   "metadata": {},
   "outputs": [
    {
     "name": "stdout",
     "output_type": "stream",
     "text": [
      "-1\n",
      "2\n"
     ]
    }
   ],
   "source": [
    "a,b,c,d,e,f=map(int,input().split())\n",
    "print(int((c*e-b*f)/(a*e-b*d)))\n",
    "print(int((c*d-a*f)/(b*d-a*e)))"
   ]
  },
  {
   "cell_type": "code",
   "execution_count": 19,
   "metadata": {},
   "outputs": [
    {
     "name": "stdout",
     "output_type": "stream",
     "text": [
      "3996001\n"
     ]
    }
   ],
   "source": [
    "# 최대 연산횟수\n",
    "print((999+999+1)**2)"
   ]
  },
  {
   "cell_type": "code",
   "execution_count": 21,
   "metadata": {},
   "outputs": [
    {
     "name": "stdout",
     "output_type": "stream",
     "text": [
      "3996001\n",
      "-1\n",
      "2\n"
     ]
    }
   ],
   "source": [
    "# 브루트포스\n",
    "# -999<=x,y<=999\n",
    "print((999+999+1)**2) # 최대 연산횟수\n",
    "\n",
    "a,b,c,d,e,f=map(int,input().split())\n",
    "for x in range(-999,1000):\n",
    "    for y in range(-999,1000):\n",
    "        if (a*x+b*y==c) and (d*x+e*y==f):\n",
    "            print(x)\n",
    "            print(y)\n",
    "            break"
   ]
  },
  {
   "cell_type": "markdown",
   "metadata": {},
   "source": [
    "### 1018. 체스판 다시 칠하기  \n",
    "+ 8 <= N,M <= 50 : 최대 1849개의 체스판 확인하기 (50-7)^2\n",
    "+ 2451개의 체스판 당 64개의 색깔 확인 : 118336회 연산\n"
   ]
  },
  {
   "cell_type": "code",
   "execution_count": 2,
   "metadata": {},
   "outputs": [
    {
     "name": "stdout",
     "output_type": "stream",
     "text": [
      "32\n"
     ]
    }
   ],
   "source": [
    "N,M=map(int,input().split())\n",
    "board=[]\n",
    "for _ in range(N):\n",
    "    board.append(list(input().rstrip()))\n",
    "\n",
    "black=[['B','W']*4,['W','B']*4]*4\n",
    "tot_cnt=[]\n",
    "for n in range(N-7):\n",
    "    for m in range(M-7):\n",
    "        temp=[board[nn][m:m+8] for nn in range(n,n+8)]\n",
    "        cnt=0\n",
    "        for i,row in enumerate(temp):\n",
    "            for j,col in enumerate(row):\n",
    "                if col!=black[i][j]: cnt+=1\n",
    "        tot_cnt.append(min(cnt,64-cnt))\n",
    "        \n",
    "print(min(tot_cnt))"
   ]
  },
  {
   "cell_type": "markdown",
   "metadata": {},
   "source": [
    "### 1436. 영화감독 숌  \n",
    "N은 10,000보다 작거나 같은 자연수"
   ]
  },
  {
   "cell_type": "code",
   "execution_count": 51,
   "metadata": {},
   "outputs": [],
   "source": [
    "nums=['0','1','2','3','4','5','6','7','8','9']"
   ]
  },
  {
   "cell_type": "code",
   "execution_count": 58,
   "metadata": {},
   "outputs": [
    {
     "name": "stdout",
     "output_type": "stream",
     "text": [
      "66666\n"
     ]
    }
   ],
   "source": [
    "from itertools import combinations_with_replacement\n",
    "from itertools import permutations\n",
    "\n",
    "N=int(input())\n",
    "nums=['0','1','2','3','4','5','6','7','8','9']\n",
    "six={666}\n",
    "c=1\n",
    "while len(six)<=10000:\n",
    "    for i in combinations_with_replacement(nums,c):\n",
    "        for j in permutations(list(i)+['666']):\n",
    "            if ''.join(j)[0]!='0':six.add(int(''.join(j)))\n",
    "    c+=1\n",
    "    \n",
    "print(sorted(list(six))[N-1])"
   ]
  },
  {
   "cell_type": "markdown",
   "metadata": {},
   "source": [
    "### 2839. 설탕배달  \n",
    "+ 3 ≤ N ≤ 5000"
   ]
  },
  {
   "cell_type": "code",
   "execution_count": 19,
   "metadata": {},
   "outputs": [
    {
     "name": "stdout",
     "output_type": "stream",
     "text": [
      "3\n"
     ]
    }
   ],
   "source": [
    "fives=[5*i for i in range(1001)] #1000\n",
    "threes=[3*i for i in range(1667)] #1666\n",
    "\n",
    "N=int(input())\n",
    "temp=[]\n",
    "for idx_f,f in enumerate(fives):\n",
    "    for idx_t,t in enumerate(threes):\n",
    "        if N==f+t: temp.append(idx_f+idx_t)\n",
    "        \n",
    "if len(temp)!=0: print(min(temp))\n",
    "else:\n",
    "    print(-1)"
   ]
  },
  {
   "cell_type": "markdown",
   "metadata": {},
   "source": [
    "## Programmers 완전탐색\n",
    "https://school.programmers.co.kr/learn/courses/30/parts/12230"
   ]
  },
  {
   "cell_type": "markdown",
   "metadata": {},
   "source": [
    "### Level1. 최소직사각형  \n",
    "+ sizes의 길이는 1 이상 10,000 이하"
   ]
  },
  {
   "cell_type": "code",
   "execution_count": null,
   "metadata": {},
   "outputs": [],
   "source": [
    "sizes=[[60, 50], [30, 70], [60, 30], [80, 40]]\n",
    "sizes=[[10, 7], [12, 3], [8, 15], [14, 7], [5, 15]]\n",
    "sizes=[[14, 4], [19, 6], [6, 16], [18, 7], [7, 11]]"
   ]
  },
  {
   "cell_type": "code",
   "execution_count": null,
   "metadata": {},
   "outputs": [],
   "source": [
    "def solution(sizes):\n",
    "    m=0\n",
    "    M=0\n",
    "    for s in sizes:\n",
    "        if min(s)>m:m=min(s)\n",
    "        if max(s)>M:M=max(s)\n",
    "    answer = m*M\n",
    "    return answer"
   ]
  },
  {
   "cell_type": "code",
   "execution_count": null,
   "metadata": {},
   "outputs": [
    {
     "data": {
      "text/plain": [
       "133"
      ]
     },
     "metadata": {},
     "output_type": "display_data"
    }
   ],
   "source": [
    "solution(sizes)"
   ]
  },
  {
   "cell_type": "markdown",
   "metadata": {},
   "source": [
    "### Level1. 모의고사"
   ]
  },
  {
   "cell_type": "code",
   "execution_count": null,
   "metadata": {},
   "outputs": [],
   "source": [
    "answers=[1,3,2,4,2]"
   ]
  },
  {
   "cell_type": "code",
   "execution_count": null,
   "metadata": {},
   "outputs": [],
   "source": [
    "def solution(answers):\n",
    "    one=[1,2,3,4,5]*2000\n",
    "    two=[2,1,2,3,2,4,2,5]*1250 \n",
    "    three=[3,3,1,1,2,2,4,4,5,5]*1000\n",
    "    \n",
    "    score1=0\n",
    "    score2=0\n",
    "    score3=0\n",
    "    for idx,a in enumerate(answers):\n",
    "        if a==one[idx]:score1+=1\n",
    "        if a==two[idx]:score2+=1\n",
    "        if a==three[idx]:score3+=1\n",
    "    \n",
    "    answer = []\n",
    "    s=max(score1,score2,score3)\n",
    "    for idx,score in enumerate([score1,score2,score3]):\n",
    "        if score==s:answer.append(idx+1)\n",
    "    return answer"
   ]
  },
  {
   "cell_type": "code",
   "execution_count": null,
   "metadata": {},
   "outputs": [
    {
     "data": {
      "text/plain": [
       "[1, 2, 3]"
      ]
     },
     "metadata": {},
     "output_type": "display_data"
    }
   ],
   "source": [
    "solution(answers)"
   ]
  },
  {
   "cell_type": "markdown",
   "metadata": {},
   "source": [
    "### Level2. 소수 찾기  \n",
    "+ numbers는 길이 1 이상 7 이하인 문자열\n",
    "+ numbers는 0~9까지 숫자만"
   ]
  },
  {
   "cell_type": "code",
   "execution_count": null,
   "metadata": {},
   "outputs": [],
   "source": [
    "numbers='011'"
   ]
  },
  {
   "cell_type": "code",
   "execution_count": null,
   "metadata": {},
   "outputs": [],
   "source": [
    "from itertools import permutations\n",
    "\n",
    "def solution(numbers):\n",
    "    numbers=list(numbers)\n",
    "    prime=set()\n",
    "    for c in range(1,len(numbers)+1):\n",
    "        for p in permutations(numbers,c):\n",
    "            temp=int(''.join(p))\n",
    "            if temp==1: \n",
    "                continue\n",
    "            elif temp==2: \n",
    "                prime.add(temp)\n",
    "                continue\n",
    "            else:\n",
    "                for t in range(2,temp):\n",
    "                    if temp%t==0:break\n",
    "                    if t==temp-1:prime.add(temp)\n",
    "    answer = len(prime)\n",
    "    return answer"
   ]
  },
  {
   "cell_type": "code",
   "execution_count": null,
   "metadata": {},
   "outputs": [
    {
     "data": {
      "text/plain": [
       "2"
      ]
     },
     "metadata": {},
     "output_type": "display_data"
    }
   ],
   "source": [
    "solution(numbers)"
   ]
  },
  {
   "cell_type": "markdown",
   "metadata": {},
   "source": [
    "### Level2. 카펫  \n",
    "+ 갈색 격자의 수 brown은 8 이상 5,000 이하인 자연수  \n",
    "+ 노란색 격자의 수 yellow는 1 이상 2,000,000 이하인 자연수  \n",
    "+ 가로길이 >= 세로길이"
   ]
  },
  {
   "cell_type": "code",
   "execution_count": null,
   "metadata": {},
   "outputs": [],
   "source": [
    "brown=10\n",
    "yellow=2"
   ]
  },
  {
   "cell_type": "code",
   "execution_count": null,
   "metadata": {},
   "outputs": [],
   "source": [
    "def solution(brown, yellow):\n",
    "    temp=(brown-4)//2\n",
    "    for h in range(1,temp):\n",
    "        if h*(temp-h)==yellow:\n",
    "            answer=[temp-h+2,h+2]\n",
    "            break\n",
    "    return answer"
   ]
  },
  {
   "cell_type": "code",
   "execution_count": null,
   "metadata": {},
   "outputs": [
    {
     "data": {
      "text/plain": [
       "[4, 3]"
      ]
     },
     "metadata": {},
     "output_type": "display_data"
    }
   ],
   "source": [
    "solution(brown,yellow)"
   ]
  },
  {
   "cell_type": "markdown",
   "metadata": {},
   "source": [
    "### Level2. 피로도  \n",
    "+ k는 1 이상 5,000 이하인 자연수  \n",
    "+ dungeons의 세로(행) 길이(즉, 던전의 개수)는 1 이상 8 이하입니다. : `최대 경우의수 403230(8!)`\n",
    "+ dungeons의 가로(열) 길이는 2 입니다.\n",
    "    + dungeons의 각 행은 각 던전의 [\"최소 필요 피로도\", \"소모 피로도\"] 입니다.\n",
    "    + \"최소 필요 피로도\" >= \"소모 피로도\"\n",
    "    + 1 <= \"최소 필요 피로도\",\"소모 피로도\" <= 1,000\n",
    "+ 서로 다른 던전의 [\"최소 필요 피로도\", \"소모 피로도\"]가 서로 같을 수 있습니다"
   ]
  },
  {
   "cell_type": "code",
   "execution_count": null,
   "metadata": {},
   "outputs": [],
   "source": [
    "k=80\n",
    "dungeons=[[80,20],[50,40],[30,10]]"
   ]
  },
  {
   "cell_type": "code",
   "execution_count": null,
   "metadata": {},
   "outputs": [],
   "source": [
    "from itertools import permutations\n",
    "\n",
    "def solution(k, dungeons):\n",
    "    tot_cnt=[]\n",
    "    for p in permutations(dungeons): \n",
    "        cnt=0\n",
    "        k2=k\n",
    "        for d in p:\n",
    "            if k2>=d[0]: \n",
    "                k2-=d[1]\n",
    "                cnt+=1\n",
    "            else:\n",
    "                break\n",
    "        tot_cnt.append(cnt)\n",
    "    answer=max(tot_cnt)\n",
    "    return answer"
   ]
  },
  {
   "cell_type": "code",
   "execution_count": null,
   "metadata": {},
   "outputs": [
    {
     "data": {
      "text/plain": [
       "3"
      ]
     },
     "metadata": {},
     "output_type": "display_data"
    }
   ],
   "source": [
    "solution(k,dungeons)"
   ]
  },
  {
   "cell_type": "markdown",
   "metadata": {},
   "source": [
    "### Level2. 전력망을 둘로 나누기  \n",
    "+ 2 <= n <= 100\n",
    "+ 1 <= v1 < v2 <= n"
   ]
  },
  {
   "cell_type": "code",
   "execution_count": null,
   "metadata": {},
   "outputs": [],
   "source": [
    "n=9;wires=[[1,3],[2,3],[3,4],[4,5],[4,6],[4,7],[7,8],[7,9]]\n",
    "n=4;wires=[[1,2],[2,3],[3,4]]\n",
    "n=7;wires=[[1,2],[2,7],[3,7],[3,4],[4,5],[6,7]]"
   ]
  },
  {
   "cell_type": "code",
   "execution_count": null,
   "metadata": {},
   "outputs": [
    {
     "data": {
      "text/plain": [
       "[[1, 3], [2, 3], [3, 4], [4, 5], [4, 6], [4, 7], [7, 8], [7, 9]]"
      ]
     },
     "metadata": {},
     "output_type": "display_data"
    }
   ],
   "source": [
    "wires=[[1,3],[2,3],[3,4],[4,5],[4,7],[4,6],[7,8],[7,9]]\n",
    "sorted(wires)"
   ]
  },
  {
   "cell_type": "code",
   "execution_count": null,
   "metadata": {},
   "outputs": [],
   "source": [
    "def solution(n,wires):\n",
    "    print(wires)\n",
    "    wires=sorted(wires)\n",
    "    print(wires)\n",
    "    print('------------------------------------------')\n",
    "    if n==2: return 0\n",
    "    diff=[]\n",
    "    for remove_wire in wires:\n",
    "        print(f'Remove : {remove_wire}', end=' ')\n",
    "        temp_wires=[w for w in wires if w!=remove_wire]\n",
    "        net={temp_wires[0][0]}\n",
    "        for wire in temp_wires:\n",
    "            if wire[0]  in net: net.add(wire[1])\n",
    "            if wire[1] in net: net.add(wire[0])\n",
    "        \n",
    "        print(net,len(net),n-len(net),'->',abs(n-2*len(net)))\n",
    "        diff.append(abs(n-2*len(net)))\n",
    "        \n",
    "    answer=min(diff)\n",
    "    return answer"
   ]
  },
  {
   "cell_type": "code",
   "execution_count": null,
   "metadata": {},
   "outputs": [
    {
     "name": "stdout",
     "output_type": "stream",
     "text": [
      "[[1, 2], [3, 4], [2, 3]]\n",
      "[[1, 2], [2, 3], [3, 4]]\n",
      "------------------------------------------\n",
      "Remove : [1, 2] {2, 3, 4} 3 1 -> 2\n",
      "Remove : [2, 3] {1, 2} 2 2 -> 0\n",
      "Remove : [3, 4] {1, 2, 3} 3 1 -> 2\n"
     ]
    },
    {
     "data": {
      "text/plain": [
       "0"
      ]
     },
     "metadata": {},
     "output_type": "display_data"
    }
   ],
   "source": [
    "n=4;wires=[[1, 2], [3, 4], [2, 3]]\n",
    "solution(n,wires)"
   ]
  },
  {
   "cell_type": "markdown",
   "metadata": {},
   "source": [
    "### Level2. 모음 사전"
   ]
  },
  {
   "cell_type": "code",
   "execution_count": null,
   "metadata": {},
   "outputs": [],
   "source": [
    "from itertools import combinations_with_replacement\n",
    "from itertools import permutations\n",
    "\n",
    "vowels=['A','E','I','O','U']\n",
    "\n",
    "dictionary=set()\n",
    "\n",
    "for length in range(1,6):\n",
    "    for word in combinations_with_replacement(vowels,length):\n",
    "        for i in permutations(word):\n",
    "            dictionary.add(''.join(i))\n",
    "\n",
    "dictionary=sorted(list(dictionary))"
   ]
  },
  {
   "cell_type": "code",
   "execution_count": null,
   "metadata": {},
   "outputs": [],
   "source": [
    "def solution(word):\n",
    "    answer=dictionary.index(word)+1\n",
    "    return answer"
   ]
  },
  {
   "cell_type": "code",
   "execution_count": null,
   "metadata": {},
   "outputs": [
    {
     "data": {
      "text/plain": [
       "1189"
      ]
     },
     "metadata": {},
     "output_type": "display_data"
    }
   ],
   "source": [
    "solution('EIO')"
   ]
  }
 ],
 "metadata": {
  "kernelspec": {
   "display_name": "base",
   "language": "python",
   "name": "python3"
  },
  "language_info": {
   "codemirror_mode": {
    "name": "ipython",
    "version": 3
   },
   "file_extension": ".py",
   "mimetype": "text/x-python",
   "name": "python",
   "nbconvert_exporter": "python",
   "pygments_lexer": "ipython3",
   "version": "3.9.13"
  }
 },
 "nbformat": 4,
 "nbformat_minor": 2
}
