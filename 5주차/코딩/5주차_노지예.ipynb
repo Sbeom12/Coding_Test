{
 "cells": [
  {
   "cell_type": "markdown",
   "metadata": {},
   "source": [
    "## BOJ 브루트 포스  \n",
    "+ https://www.acmicpc.net/step/22"
   ]
  },
  {
   "cell_type": "markdown",
   "metadata": {},
   "source": [
    "### 2798. 블랙잭  \n",
    "N(3 ≤ N ≤ 100) M(10 ≤ M ≤ 300,000)"
   ]
  },
  {
   "cell_type": "code",
   "execution_count": 1,
   "metadata": {},
   "outputs": [
    {
     "name": "stdout",
     "output_type": "stream",
     "text": [
      "161700\n"
     ]
    }
   ],
   "source": [
    "from itertools import combinations\n",
    "\n",
    "n=[str(i) for i in range(100)]\n",
    "cnt=0\n",
    "for i in combinations(n,3):\n",
    "    cnt+=1\n",
    "print(cnt)"
   ]
  },
  {
   "cell_type": "markdown",
   "metadata": {},
   "source": [
    "최대 연산횟수 약 16만번 -> 부르트포스"
   ]
  },
  {
   "cell_type": "code",
   "execution_count": 11,
   "metadata": {},
   "outputs": [
    {
     "name": "stdout",
     "output_type": "stream",
     "text": [
      "497\n"
     ]
    }
   ],
   "source": [
    "from itertools import combinations\n",
    "\n",
    "N,M=map(int,input().split())\n",
    "cards=list(map(int,input().split()))\n",
    "ret=0\n",
    "for c in combinations(cards,3):\n",
    "    if (sum(c)>ret) and (sum(c)<=M):\n",
    "        ret=sum(c)\n",
    "\n",
    "print(ret)"
   ]
  },
  {
   "cell_type": "markdown",
   "metadata": {},
   "source": [
    "### 2231. 분해합  \n",
    "N(1 ≤ N ≤ 1,000,000)"
   ]
  },
  {
   "cell_type": "code",
   "execution_count": 18,
   "metadata": {},
   "outputs": [
    {
     "name": "stdout",
     "output_type": "stream",
     "text": [
      "198\n"
     ]
    }
   ],
   "source": [
    "N=int(input())\n",
    "\n",
    "for M in range(N):\n",
    "    nums=[int(m) for m in str(M)]\n",
    "    if sum(nums)+M==N: \n",
    "        print(M)\n",
    "        break\n",
    "\n",
    "if M==N-1: print(0)"
   ]
  },
  {
   "cell_type": "markdown",
   "metadata": {},
   "source": [
    "### 19532. 수학은 비대면강의입니다"
   ]
  },
  {
   "cell_type": "markdown",
   "metadata": {},
   "source": [
    "$\\begin{cases} \n",
    "ax + by = c\\\\\n",
    "dx + ey = f\\\\\n",
    "\\end{cases}$  \n",
    "\n",
    "+ $(a-\\frac{bd}{e})x=c-\\frac{bf}{e} \\Rightarrow x=\\frac{c-\\frac{bf}{e}}{a-\\frac{bd}{e}}=\\frac{ce-bf}{ae-bd}$  \n",
    "+ $(b-\\frac{ae}{d})y=c-\\frac{af}{d} \\Rightarrow y=\\frac{c-\\frac{af}{d}}{b-\\frac{ae}{d}}=\\frac{cd-af}{bd-ae}$"
   ]
  },
  {
   "cell_type": "code",
   "execution_count": 9,
   "metadata": {},
   "outputs": [
    {
     "name": "stdout",
     "output_type": "stream",
     "text": [
      "-1\n",
      "2\n"
     ]
    }
   ],
   "source": [
    "a,b,c,d,e,f=map(int,input().split())\n",
    "print(int((c*e-b*f)/(a*e-b*d)))\n",
    "print(int((c*d-a*f)/(b*d-a*e)))"
   ]
  },
  {
   "cell_type": "code",
   "execution_count": 19,
   "metadata": {},
   "outputs": [
    {
     "name": "stdout",
     "output_type": "stream",
     "text": [
      "3996001\n"
     ]
    }
   ],
   "source": [
    "# 최대 연산횟수\n",
    "print((999+999+1)**2)"
   ]
  },
  {
   "cell_type": "code",
   "execution_count": 21,
   "metadata": {},
   "outputs": [
    {
     "name": "stdout",
     "output_type": "stream",
     "text": [
      "3996001\n",
      "-1\n",
      "2\n"
     ]
    }
   ],
   "source": [
    "# 브루트포스\n",
    "# -999<=x,y<=999\n",
    "print((999+999+1)**2) # 최대 연산횟수\n",
    "\n",
    "a,b,c,d,e,f=map(int,input().split())\n",
    "for x in range(-999,1000):\n",
    "    for y in range(-999,1000):\n",
    "        if (a*x+b*y==c) and (d*x+e*y==f):\n",
    "            print(x)\n",
    "            print(y)\n",
    "            break"
   ]
  },
  {
   "cell_type": "markdown",
   "metadata": {},
   "source": [
    "### 1018. 체스판 다시 칠하기  \n",
    "+ 8 <= N,M <= 50 : 최대 1849개의 체스판 확인하기 (50-7)^2\n",
    "+ 2451개의 체스판 당 64개의 색깔 확인 : 118336회 연산\n"
   ]
  },
  {
   "cell_type": "code",
   "execution_count": 2,
   "metadata": {},
   "outputs": [
    {
     "name": "stdout",
     "output_type": "stream",
     "text": [
      "32\n"
     ]
    }
   ],
   "source": [
    "N,M=map(int,input().split())\n",
    "board=[]\n",
    "for _ in range(N):\n",
    "    board.append(list(input().rstrip()))\n",
    "\n",
    "black=[['B','W']*4,['W','B']*4]*4\n",
    "tot_cnt=[]\n",
    "for n in range(N-7):\n",
    "    for m in range(M-7):\n",
    "        temp=[board[nn][m:m+8] for nn in range(n,n+8)]\n",
    "        cnt=0\n",
    "        for i,row in enumerate(temp):\n",
    "            for j,col in enumerate(row):\n",
    "                if col!=black[i][j]: cnt+=1\n",
    "        tot_cnt.append(min(cnt,64-cnt))\n",
    "        \n",
    "print(min(tot_cnt))"
   ]
  },
  {
   "cell_type": "markdown",
   "metadata": {},
   "source": [
    "### 1436. 영화감독 숌  \n",
    "N은 10,000보다 작거나 같은 자연수"
   ]
  },
  {
   "cell_type": "code",
   "execution_count": 51,
   "metadata": {},
   "outputs": [],
   "source": [
    "nums=['0','1','2','3','4','5','6','7','8','9']"
   ]
  },
  {
   "cell_type": "code",
   "execution_count": 58,
   "metadata": {},
   "outputs": [
    {
     "name": "stdout",
     "output_type": "stream",
     "text": [
      "66666\n"
     ]
    }
   ],
   "source": [
    "from itertools import combinations_with_replacement\n",
    "from itertools import permutations\n",
    "\n",
    "N=int(input())\n",
    "nums=['0','1','2','3','4','5','6','7','8','9']\n",
    "six={666}\n",
    "c=1\n",
    "while len(six)<=10000:\n",
    "    for i in combinations_with_replacement(nums,c):\n",
    "        for j in permutations(list(i)+['666']):\n",
    "            if ''.join(j)[0]!='0':six.add(int(''.join(j)))\n",
    "    c+=1\n",
    "    \n",
    "print(sorted(list(six))[N-1])"
   ]
  },
  {
   "cell_type": "code",
   "execution_count": null,
   "metadata": {},
   "outputs": [],
   "source": []
  }
 ],
 "metadata": {
  "kernelspec": {
   "display_name": "base",
   "language": "python",
   "name": "python3"
  },
  "language_info": {
   "codemirror_mode": {
    "name": "ipython",
    "version": 3
   },
   "file_extension": ".py",
   "mimetype": "text/x-python",
   "name": "python",
   "nbconvert_exporter": "python",
   "pygments_lexer": "ipython3",
   "version": "3.9.13"
  }
 },
 "nbformat": 4,
 "nbformat_minor": 2
}
