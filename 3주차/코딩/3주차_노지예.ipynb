{
 "cells": [
  {
   "cell_type": "markdown",
   "metadata": {},
   "source": [
    "## BOJ 스택, 큐, 덱\n",
    "https://www.acmicpc.net/step/11"
   ]
  },
  {
   "cell_type": "markdown",
   "metadata": {},
   "source": [
    "### 28278. 스택2"
   ]
  },
  {
   "cell_type": "code",
   "execution_count": 1,
   "metadata": {},
   "outputs": [
    {
     "name": "stdout",
     "output_type": "stream",
     "text": [
      "1\n",
      "2\n",
      "5\n",
      "3\n",
      "3\n",
      "-1\n",
      "-1\n"
     ]
    }
   ],
   "source": [
    "#import sys\n",
    "#input=sys.stdin.readline\n",
    "\n",
    "stack=[]\n",
    "N=int(input())\n",
    "for _ in range(N):\n",
    "    cmd= list(map(int,input().split())) # 명령입력\n",
    "    \n",
    "    if cmd[0]==1: #push\n",
    "        X=cmd[1]\n",
    "        stack.append(X)\n",
    "    \n",
    "    elif cmd[0]==2: #pop\n",
    "        if len(stack)==0: \n",
    "            print(-1)\n",
    "        else: \n",
    "            print(stack.pop())\n",
    "    \n",
    "    elif cmd[0]==3: #len\n",
    "        print(len(stack))\n",
    "        \n",
    "    elif cmd[0]==4: #is_empty\n",
    "        print(int(len(stack)==0))\n",
    "    \n",
    "    elif cmd[0]==5: #peek\n",
    "        if len(stack)==0: \n",
    "            print(-1)\n",
    "        else:   \n",
    "            print(stack[-1])"
   ]
  },
  {
   "cell_type": "markdown",
   "metadata": {},
   "source": [
    "### 10773. 제로"
   ]
  },
  {
   "cell_type": "code",
   "execution_count": 2,
   "metadata": {},
   "outputs": [
    {
     "name": "stdout",
     "output_type": "stream",
     "text": [
      "0\n"
     ]
    }
   ],
   "source": [
    "#import sys\n",
    "#input=sys.stdin.readline\n",
    "K=int(input())\n",
    "\n",
    "stack=[]\n",
    "for _ in range(K):\n",
    "    num=int(input())\n",
    "    if num!=0:\n",
    "        stack.append(num)\n",
    "    else:\n",
    "        stack.pop()\n",
    "print(sum(stack))"
   ]
  },
  {
   "cell_type": "markdown",
   "metadata": {},
   "source": [
    "### 9012. 괄호"
   ]
  },
  {
   "cell_type": "code",
   "execution_count": 24,
   "metadata": {},
   "outputs": [
    {
     "name": "stdout",
     "output_type": "stream",
     "text": [
      "NO\n"
     ]
    }
   ],
   "source": [
    "# 시간 초과 버전\n",
    "T=int(input())\n",
    "for _ in range(T):\n",
    "    string=input()\n",
    "    \n",
    "    while len(string)>2:\n",
    "        string=string.replace('()','')\n",
    "        \n",
    "    if string=='()':print('YES')\n",
    "    else:print('NO')"
   ]
  },
  {
   "cell_type": "markdown",
   "metadata": {},
   "source": [
    "+ `replace()`의 시간 복잡도  \n",
    "    + 문자열 길이만큼 전체 문자열을 하나씩 탐색하고 교체 문자열의 길이만큼 이전 값을 탐색  \n",
    "    + $O(문자열길이 \\times (교체할 문자열 길이 + \\frac{교체되는 문자열길이}{교체할 문자열의 길이}))$\n",
    "    + 최악의 경우 $O(N^2)$"
   ]
  },
  {
   "cell_type": "code",
   "execution_count": 6,
   "metadata": {},
   "outputs": [
    {
     "name": "stdout",
     "output_type": "stream",
     "text": [
      "NO\n",
      "NO\n",
      "YES\n",
      "NO\n",
      "YES\n",
      "NO\n"
     ]
    }
   ],
   "source": [
    "# 통과 버전\n",
    "\n",
    "T=int(input())\n",
    "\n",
    "for _ in range(T):\n",
    "    stack=[]\n",
    "    string=input()\n",
    "    ret=0\n",
    "    \n",
    "    for char in string:\n",
    "        if char=='(':\n",
    "            stack.append(1)\n",
    "        elif len(stack)!=0:\n",
    "            stack.pop()\n",
    "        else:\n",
    "            ret=1\n",
    "            break\n",
    "        \n",
    "    if (len(stack)==0) & (ret==0):\n",
    "        print('YES')\n",
    "    else:\n",
    "        print('NO')\n",
    "        "
   ]
  },
  {
   "cell_type": "markdown",
   "metadata": {},
   "source": [
    "### 4949. 균형잡힌 세상"
   ]
  },
  {
   "cell_type": "code",
   "execution_count": 27,
   "metadata": {},
   "outputs": [
    {
     "name": "stdout",
     "output_type": "stream",
     "text": [
      "yes\n"
     ]
    }
   ],
   "source": [
    "# import sys\n",
    "# input=sys.stdin.readline\n",
    "while True:\n",
    "    string=input().rstrip()\n",
    "    if string=='.': break\n",
    "    \n",
    "    stack=[]\n",
    "    ret=0\n",
    "    \n",
    "    for char in string:\n",
    "        if char=='(':\n",
    "            stack.append(1)\n",
    "        elif char=='[':\n",
    "            stack.append(2)\n",
    "        elif char==')':\n",
    "            if len(stack)==0:\n",
    "                ret=1\n",
    "                break\n",
    "            elif stack.pop()!=1:\n",
    "                ret=1\n",
    "                break\n",
    "        elif char==']':\n",
    "            if len(stack)==0:\n",
    "                ret=1\n",
    "                break\n",
    "            elif stack.pop()!=2:\n",
    "                ret=1\n",
    "                break  \n",
    "            \n",
    "    if len(stack)+ret==0:\n",
    "        print('yes')\n",
    "    else:\n",
    "        print('no')"
   ]
  },
  {
   "cell_type": "code",
   "execution_count": 31,
   "metadata": {},
   "outputs": [
    {
     "name": "stdout",
     "output_type": "stream",
     "text": [
      "yes\n",
      "yes\n",
      "no\n",
      "no\n",
      "no\n",
      "yes\n",
      "yes\n"
     ]
    }
   ],
   "source": [
    "# import sys\n",
    "# input=sys.stdin.readline\n",
    "while True:\n",
    "    string=input().rstrip()\n",
    "    if string=='.': break\n",
    "    \n",
    "    stack=[]\n",
    "    \n",
    "    for char in string:\n",
    "        if char=='(':\n",
    "            stack.append(1)\n",
    "        elif char=='[':\n",
    "            stack.append(2)\n",
    "        elif char==')':\n",
    "            if len(stack)==0:\n",
    "                break\n",
    "            elif stack.pop()!=1:\n",
    "                break\n",
    "        elif char==']':\n",
    "            if len(stack)==0:\n",
    "                break\n",
    "            elif stack.pop()!=2:\n",
    "                break  \n",
    "            \n",
    "    if len(stack)+int(char!='.')==0:\n",
    "        print('yes')\n",
    "    else:\n",
    "        print('no')"
   ]
  },
  {
   "cell_type": "markdown",
   "metadata": {},
   "source": [
    "### 12789. 도키도키 간식 드리미"
   ]
  },
  {
   "cell_type": "code",
   "execution_count": 49,
   "metadata": {},
   "outputs": [
    {
     "name": "stdout",
     "output_type": "stream",
     "text": [
      "--------Until 1--------\n",
      "LINE : [2, 1, 3, 4, 5]\n",
      "TEMP : ['temp']\n",
      "line -> temp\n",
      "--------Until 1--------\n",
      "LINE : [2, 1, 3, 4]\n",
      "TEMP : ['temp', 5]\n",
      "line -> temp\n",
      "--------Until 1--------\n",
      "LINE : [2, 1, 3]\n",
      "TEMP : ['temp', 5, 4]\n",
      "line -> temp\n",
      "--------Until 1--------\n",
      "LINE : [2, 1]\n",
      "TEMP : ['temp', 5, 4, 3]\n",
      "line->pass\n",
      "--------Until 2--------\n",
      "LINE : [2]\n",
      "TEMP : ['temp', 5, 4, 3]\n",
      "line->pass\n",
      "--------Until 3--------\n",
      "LINE : []\n",
      "TEMP : ['temp', 5, 4, 3]\n",
      "temp->pass\n",
      "--------Until 4--------\n",
      "LINE : []\n",
      "TEMP : ['temp', 5, 4]\n",
      "temp->pass\n",
      "--------Until 5--------\n",
      "LINE : []\n",
      "TEMP : ['temp', 5]\n",
      "temp->pass\n",
      "Nice\n"
     ]
    }
   ],
   "source": [
    "# import sys\n",
    "# input=sys.stdin.readline\n",
    "\n",
    "N=int(input())\n",
    "line=list(map(int,input().split()))\n",
    "line.reverse() #O(N)\n",
    "temp=['temp']\n",
    "turn=1\n",
    "\n",
    "top_line=line[-1]\n",
    "top_temp=temp[-1]\n",
    "\n",
    "while turn<=N:\n",
    "    print(f'--------Until {turn}--------')\n",
    "    print(f'LINE : {line}')\n",
    "    print(f'TEMP : {temp}')\n",
    "    if (len(line)!=0)and(line[-1]==turn):\n",
    "        print('line->pass')\n",
    "        turn+=1\n",
    "        line.pop()\n",
    "    elif (len(temp)!=0)and(temp[-1]==turn): \n",
    "        print('temp->pass')\n",
    "        turn+=1\n",
    "        temp.pop()\n",
    "    elif len(line)!=0:\n",
    "        print('line -> temp')\n",
    "        temp.append(line[-1])\n",
    "        line.pop()\n",
    "    else:\n",
    "        break\n",
    "    \n",
    "    \n",
    "\n",
    "if turn==N+1:\n",
    "    print('Nice')\n",
    "else:\n",
    "    print('Sad')"
   ]
  },
  {
   "cell_type": "markdown",
   "metadata": {},
   "source": [
    "+ `split()`\n",
    "+ `split(' ')`"
   ]
  },
  {
   "cell_type": "markdown",
   "metadata": {},
   "source": [
    "+ `&` 와 `and` 차이"
   ]
  },
  {
   "cell_type": "markdown",
   "metadata": {},
   "source": [
    "### 18258. 큐2  \n",
    "+ push X: 정수 X를 큐에 넣는 연산이다.\n",
    "+ pop: 큐에서 가장 앞에 있는 정수를 빼고, 그 수를 출력한다. 만약 큐에 들어있는 정수가 없는 경우에는 -1을 출력한다.\n",
    "+ size: 큐에 들어있는 정수의 개수를 출력한다.\n",
    "+ empty: 큐가 비어있으면 1, 아니면 0을 출력한다.\n",
    "+ front: 큐의 가장 앞에 있는 정수를 출력한다. 만약 큐에 들어있는 정수가 없는 경우에는 -1을 출력한다.\n",
    "+ back: 큐의 가장 뒤에 있는 정수를 출력한다. 만약 큐에 들어있는 정수가 없는 경우에는 -1을 출력한다."
   ]
  },
  {
   "cell_type": "code",
   "execution_count": 1,
   "metadata": {},
   "outputs": [
    {
     "name": "stdout",
     "output_type": "stream",
     "text": [
      "1\n",
      "2\n",
      "2\n",
      "0\n",
      "1\n",
      "2\n",
      "-1\n",
      "0\n",
      "1\n",
      "-1\n",
      "0\n",
      "3\n"
     ]
    }
   ],
   "source": [
    "# import sys\n",
    "# input=sys.stdin.readline\n",
    "\n",
    "N=int(input())\n",
    "q=[]\n",
    "\n",
    "size=0\n",
    "front=0\n",
    "back=0\n",
    "\n",
    "for _ in range(N):\n",
    "    cmd=input().split()\n",
    "    \n",
    "    if cmd[0]=='push':\n",
    "        q.append(int(cmd[1]))\n",
    "        size+=1\n",
    "        back+=1\n",
    "        \n",
    "    elif cmd[0]=='pop':\n",
    "        if size<=0:\n",
    "            print(-1)\n",
    "        else:\n",
    "            print(q[front])\n",
    "            size-=1\n",
    "            front+=1\n",
    "    \n",
    "    elif cmd[0]=='size':\n",
    "        print(size)\n",
    "    \n",
    "    elif cmd[0]=='empty':\n",
    "        print(int(size==0))\n",
    "    \n",
    "    elif cmd[0]=='front':\n",
    "        if size==0: print(-1)\n",
    "        else: print(q[front])\n",
    "        \n",
    "    elif cmd[0]=='back':\n",
    "        if size==0: print(-1)\n",
    "        else: print(q[back-1])"
   ]
  },
  {
   "cell_type": "markdown",
   "metadata": {},
   "source": [
    "### 2164. 카드2"
   ]
  },
  {
   "cell_type": "code",
   "execution_count": 11,
   "metadata": {},
   "outputs": [
    {
     "name": "stdout",
     "output_type": "stream",
     "text": [
      "4\n"
     ]
    }
   ],
   "source": [
    "# 원형 큐\n",
    "N=int(input())\n",
    "q=[n for n in range(1,N+1)]\n",
    "front=0\n",
    "back=0\n",
    "size=N\n",
    "\n",
    "for i in range(N-1):\n",
    "    front+=1 # 맨 앞버리기\n",
    "    if front>N-1:\n",
    "        front=0\n",
    "        \n",
    "    q[back]=q[front] # 그다음 맨 뒤로\n",
    "    back+=1\n",
    "    if back>N-1:\n",
    "        back=0\n",
    "\n",
    "    front+=1 \n",
    "    if front>N-1:\n",
    "        front=0\n",
    "\n",
    "print(q[back-1])\n",
    "\n"
   ]
  },
  {
   "cell_type": "markdown",
   "metadata": {},
   "source": [
    "### 11866. 요세푸스 문제0  \n",
    "+ (7, 3)-요세푸스 순열은 <3, 6, 2, 7, 5, 1, 4>이다."
   ]
  },
  {
   "cell_type": "code",
   "execution_count": 46,
   "metadata": {},
   "outputs": [
    {
     "name": "stdout",
     "output_type": "stream",
     "text": [
      "<3, 6, 2, 7, 5, 1, 4>\n"
     ]
    }
   ],
   "source": [
    "# import sys\n",
    "# input=sys.stdin.readline\n",
    "\n",
    "N,K=map(int,input().split())\n",
    "q=[n for n in range(1,N+1)]\n",
    "front=0\n",
    "back=N-1\n",
    "\n",
    "\n",
    "stack=[]\n",
    "for _ in range(N):\n",
    "    \n",
    "    for _ in range(K-1):\n",
    "        # push-pop\n",
    "        back+=1 \n",
    "        if back>=N:\n",
    "            back=0\n",
    "        q[back]=q[front]\n",
    "        front+=1\n",
    "        if front>=N:\n",
    "            front=0\n",
    "    \n",
    "    # pop\n",
    "    stack.append(str(q[front]))\n",
    "    front+=1\n",
    "    if front>=N:\n",
    "        front=0\n",
    "        \n",
    "print(f\"<{', '.join(stack)}>\")\n"
   ]
  },
  {
   "cell_type": "markdown",
   "metadata": {},
   "source": [
    "### 28279. 덱2  \n",
    "+ 1 X: 정수 X를 덱의 앞에 넣는다. (1 ≤ X ≤ 100,000)\n",
    "+ 2 X: 정수 X를 덱의 뒤에 넣는다. (1 ≤ X ≤ 100,000)\n",
    "+ 3: 덱에 정수가 있다면 맨 앞의 정수를 빼고 출력한다. 없다면 -1을 대신 출력한다.\n",
    "+ 4: 덱에 정수가 있다면 맨 뒤의 정수를 빼고 출력한다. 없다면 -1을 대신 출력한다.\n",
    "+ 5: 덱에 들어있는 정수의 개수를 출력한다.\n",
    "+ 6: 덱이 비어있으면 1, 아니면 0을 출력한다.\n",
    "+ 7: 덱에 정수가 있다면 맨 앞의 정수를 출력한다. 없다면 -1을 대신 출력한다.\n",
    "+ 8: 덱에 정수가 있다면 맨 뒤의 정수를 출력한다. 없다면 -1을 대신 출력한다."
   ]
  },
  {
   "cell_type": "code",
   "execution_count": 66,
   "metadata": {},
   "outputs": [
    {
     "name": "stdout",
     "output_type": "stream",
     "text": [
      "-------empty-------\n",
      "1\n",
      "-------left-push-------\n",
      "-------left-push-------\n",
      "-------left-peek-------\n",
      "8\n",
      "-------right-peek-------\n",
      "3\n",
      "-------left-pop-------\n",
      "8\n",
      "-------right-push-------\n",
      "-------left-push-------\n",
      "-------size-------\n",
      "3\n",
      "-------right-pop-------\n",
      "5\n",
      "-------right-pop-------\n",
      "3\n"
     ]
    }
   ],
   "source": [
    "# import sys\n",
    "# input=sys.stdin.readline\n",
    "\n",
    "N=int(input())\n",
    "dq=[None]*N\n",
    "left=N-1\n",
    "right=0\n",
    "size=0\n",
    "\n",
    "for _ in range(N):\n",
    "    cmd=list(map(int,input().split()))\n",
    "\n",
    "    if cmd[0]==1: # left-push\n",
    "        print('-------left-push-------')\n",
    "        dq[left]=cmd[1]\n",
    "        size+=1\n",
    "        left-=1\n",
    "        if left<0:\n",
    "            left=N-1\n",
    "        \n",
    "    elif cmd[0]==2: # right-push\n",
    "        print('-------right-push-------')\n",
    "        dq[right]=cmd[1]\n",
    "        size+=1\n",
    "        right+=1\n",
    "        if right>N-1:\n",
    "            right=0\n",
    "        \n",
    "    elif cmd[0]==3: # left-pop\n",
    "        print('-------left-pop-------')\n",
    "        if size<=0:\n",
    "            print(-1)\n",
    "        else:\n",
    "            left+=1\n",
    "            size-=1\n",
    "            if left>N-1: left=0\n",
    "            print(dq[left])\n",
    "            \n",
    "    \n",
    "    elif cmd[0]==4: # right-pop\n",
    "        print('-------right-pop-------')\n",
    "        if size<=0:\n",
    "            print(-1)\n",
    "        else:\n",
    "            right-=1\n",
    "            size-=1\n",
    "            if right<0:right=N-1\n",
    "            print(dq[right])\n",
    "\n",
    "    elif cmd[0]==5: # size\n",
    "        print('-------size-------')\n",
    "        print(size)\n",
    "        \n",
    "    elif cmd[0]==6: # empty\n",
    "        print('-------empty-------')\n",
    "        print(int(size==0))\n",
    "        \n",
    "    elif cmd[0]==7: # left-peek\n",
    "        print('-------left-peek-------')\n",
    "        if size<=0:\n",
    "            print(-1)\n",
    "        elif left==N-1:\n",
    "            print(dq[0])\n",
    "        else:\n",
    "            print(dq[left+1])\n",
    "    \n",
    "    else: # right-peek\n",
    "        print('-------right-peek-------')\n",
    "        if size<=0:\n",
    "            print(-1)\n",
    "        elif right==0:\n",
    "            print(dq[N-1])\n",
    "        else:\n",
    "            print(dq[right-1])"
   ]
  },
  {
   "cell_type": "code",
   "execution_count": 79,
   "metadata": {},
   "outputs": [
    {
     "name": "stdout",
     "output_type": "stream",
     "text": [
      "-------empty-------\n",
      "1\n",
      "-------left-push-------\n",
      "-------left-push-------\n",
      "-------left-peek-------\n",
      "8\n",
      "-------right-peek-------\n",
      "3\n",
      "-------left-pop-------\n",
      "8\n",
      "-------right-push-------\n",
      "-------left-push-------\n",
      "-------size-------\n",
      "3\n",
      "-------right-pop-------\n",
      "5\n",
      "-------right-pop-------\n",
      "3\n"
     ]
    }
   ],
   "source": [
    "# import sys\n",
    "# input=sys.stdin.readline\n",
    "\n",
    "from collections import deque\n",
    "dq=deque()\n",
    "N=int(input())\n",
    "\n",
    "for _ in range(N):\n",
    "    cmd=list(map(int,input().split()))\n",
    "\n",
    "    if cmd[0]==1: # left-push\n",
    "        print('-------left-push-------')\n",
    "        dq.appendleft(int(cmd[1]))\n",
    "        \n",
    "    elif cmd[0]==2: # right-push\n",
    "        print('-------right-push-------')\n",
    "        dq.append(int(cmd[1]))\n",
    "        \n",
    "    elif cmd[0]==3: # left-pop\n",
    "        print('-------left-pop-------')\n",
    "        if len(dq)==0: print(-1)\n",
    "        else: print(dq.popleft())\n",
    "            \n",
    "    elif cmd[0]==4: # right-pop\n",
    "        print('-------right-pop-------')\n",
    "        if len(dq)==0: print(-1)\n",
    "        else: print(dq.pop())\n",
    "\n",
    "    elif cmd[0]==5: # size\n",
    "        print('-------size-------')\n",
    "        print(len(dq))\n",
    "        \n",
    "    elif cmd[0]==6: # empty\n",
    "        print('-------empty-------')\n",
    "        print(int(len(dq)==0))\n",
    "        \n",
    "    elif cmd[0]==7: # left-peek\n",
    "        print('-------left-peek-------')\n",
    "        if len(dq)==0: print(-1)\n",
    "        else: print(dq[0])\n",
    "    \n",
    "    else: # right-peek\n",
    "        print('-------right-peek-------')\n",
    "        if len(dq)==0: print(-1)\n",
    "        else: print(dq[-1])\n",
    "\n"
   ]
  },
  {
   "cell_type": "markdown",
   "metadata": {},
   "source": [
    "### 2346. 풍선 터뜨리기"
   ]
  },
  {
   "cell_type": "code",
   "execution_count": 11,
   "metadata": {},
   "outputs": [],
   "source": [
    "def dump(front,size,balloons):\n",
    "    print('[',end='')\n",
    "    i=front\n",
    "    for _ in range(size):\n",
    "        if i>N-1:i=i%N\n",
    "        print(balloons[i],end=' ')\n",
    "        i+=1\n",
    "    print(']')"
   ]
  },
  {
   "cell_type": "code",
   "execution_count": 23,
   "metadata": {},
   "outputs": [],
   "source": [
    "from collections import deque"
   ]
  },
  {
   "cell_type": "code",
   "execution_count": 46,
   "metadata": {},
   "outputs": [],
   "source": [
    "N=int(input())\n",
    "nums=list(map(int,input().split()))\n",
    "dq=deque([(b,n) for b,n in zip(range(1,N+1),nums)])"
   ]
  },
  {
   "cell_type": "code",
   "execution_count": 48,
   "metadata": {},
   "outputs": [],
   "source": [
    "dq=deque([(b,n) for b,n in zip(range(1,N+1),nums)])"
   ]
  },
  {
   "cell_type": "code",
   "execution_count": 49,
   "metadata": {},
   "outputs": [
    {
     "data": {
      "text/plain": [
       "deque([(1, -1), (2, 1), (3, -1), (4, 1), (5, -1)])"
      ]
     },
     "execution_count": 49,
     "metadata": {},
     "output_type": "execute_result"
    }
   ],
   "source": [
    "dq"
   ]
  },
  {
   "cell_type": "code",
   "execution_count": 50,
   "metadata": {},
   "outputs": [],
   "source": [
    "dq.rotate(1)"
   ]
  },
  {
   "cell_type": "code",
   "execution_count": 51,
   "metadata": {},
   "outputs": [
    {
     "data": {
      "text/plain": [
       "deque([(5, -1), (1, -1), (2, 1), (3, -1), (4, 1)])"
      ]
     },
     "execution_count": 51,
     "metadata": {},
     "output_type": "execute_result"
    }
   ],
   "source": [
    "dq"
   ]
  },
  {
   "cell_type": "code",
   "execution_count": null,
   "metadata": {},
   "outputs": [],
   "source": []
  },
  {
   "cell_type": "code",
   "execution_count": 47,
   "metadata": {},
   "outputs": [
    {
     "name": "stdout",
     "output_type": "stream",
     "text": [
      "--------------\n",
      "deque([(1, -1), (2, 1), (3, -1), (4, 1), (5, -1)])\n",
      "--------------\n",
      "deque([(5, -1), (2, 1), (3, -1), (4, 1)])\n",
      "--------------\n",
      "deque([(4, 1), (2, 1), (3, -1)])\n",
      "--------------\n",
      "deque([(3, -1), (2, 1)])\n",
      "--------------\n",
      "deque([(2, 1)])\n",
      "1 5 4 3 2\n"
     ]
    }
   ],
   "source": [
    "ret=[]\n",
    "for _ in range(N):\n",
    "    print('--------------')\n",
    "    print(dq)\n",
    "    popped=dq.popleft()\n",
    "    ret.append(str(popped[0]))\n",
    "    dq.rotate(-popped[1])\n",
    "print(' '.join(ret))\n",
    "    "
   ]
  },
  {
   "cell_type": "code",
   "execution_count": 20,
   "metadata": {},
   "outputs": [
    {
     "name": "stdout",
     "output_type": "stream",
     "text": [
      "-1 0\n",
      "Ballon 1: -1->4\n",
      "----------------------\n",
      "[5 2 3 4 ]\n",
      "-1 4\n",
      "Ballon 5: -1->3\n",
      "----------------------\n",
      "[4 2 3 ]\n",
      "-1 2\n",
      "Ballon 4: -1->2\n",
      "----------------------\n",
      "[3 2 ]\n",
      "-1 4\n",
      "Ballon 3: -1->1\n",
      "----------------------\n",
      "[2 ]\n",
      "1 5 4 3 2\n"
     ]
    }
   ],
   "source": [
    "# import sys\n",
    "# input=sys.stdin.readline\n",
    "\n",
    "N=int(input())\n",
    "nums=list(map(int,input().split()))\n",
    "balloons=[n for n in range(1,N+1)]\n",
    "\n",
    "front=0\n",
    "rear=N-1\n",
    "size=N\n",
    "\n",
    "ret=[]\n",
    "\n",
    "for _ in range(N-1):\n",
    "    num=nums[front]\n",
    "    size-=1\n",
    "    print(num,front)\n",
    "    if num<0: num2=num%(size)+1\n",
    "    else:num2=num\n",
    "    # pop\n",
    "    print(f'Ballon {balloons[front]}: {num}->{num2}')\n",
    "    ret.append(str(balloons[front]))\n",
    "    front+=1\n",
    "    if front>N-1: front=0\n",
    "    \n",
    "    for _ in range(num2-1):\n",
    "        # push-pop\n",
    "        rear+=1\n",
    "        if rear>N-1: rear=0\n",
    "        balloons[rear]=balloons[front]\n",
    "        front+=1\n",
    "        if front>N-1:front=0 \n",
    "    print('----------------------')\n",
    "    dump(front,size,balloons)\n",
    "ret.append(str(balloons[front]))    \n",
    "print(' '.join(ret))"
   ]
  },
  {
   "cell_type": "code",
   "execution_count": null,
   "metadata": {},
   "outputs": [],
   "source": []
  },
  {
   "cell_type": "code",
   "execution_count": 1,
   "metadata": {},
   "outputs": [
    {
     "name": "stdout",
     "output_type": "stream",
     "text": [
      "1 5 4 3 2\n"
     ]
    }
   ],
   "source": [
    "# import sys\n",
    "# input=sys.stdin.readline\n",
    "\n",
    "N=int(input())\n",
    "nums=list(map(int,input().split()))\n",
    "balloons=[n for n in range(1,N+1)]\n",
    "\n",
    "front=0\n",
    "rear=N-1\n",
    "size=N\n",
    "\n",
    "ret=[]\n",
    "\n",
    "for _ in range(N-1):\n",
    "    num=nums[front]\n",
    "    size-=1\n",
    "    if num<0: num=num%(size)+1\n",
    "    # pop\n",
    "    ret.append(str(balloons[front]))\n",
    "    front+=1\n",
    "    if front>N-1: front=0\n",
    "    \n",
    "    for _ in range(num-1):\n",
    "        # push-pop\n",
    "        rear+=1\n",
    "        if rear>N-1: rear=0\n",
    "        balloons[rear]=balloons[front]\n",
    "        front+=1\n",
    "        if front>N-1:front=0 \n",
    "\n",
    "ret.append(str(balloons[front]))    \n",
    "print(' '.join(ret))"
   ]
  },
  {
   "cell_type": "markdown",
   "metadata": {},
   "source": [
    "+ 반례  \n",
    "    + 5\n",
    "    + -1 1 -1 1 -1"
   ]
  },
  {
   "cell_type": "code",
   "execution_count": 2,
   "metadata": {},
   "outputs": [
    {
     "data": {
      "text/plain": [
       "4"
      ]
     },
     "execution_count": 2,
     "metadata": {},
     "output_type": "execute_result"
    }
   ],
   "source": [
    "-1%4+1"
   ]
  },
  {
   "cell_type": "markdown",
   "metadata": {},
   "source": [
    "+ `collections.deque`"
   ]
  },
  {
   "cell_type": "markdown",
   "metadata": {},
   "source": [
    "### 24511. questack"
   ]
  },
  {
   "cell_type": "code",
   "execution_count": 31,
   "metadata": {},
   "outputs": [
    {
     "name": "stdout",
     "output_type": "stream",
     "text": [
      "[deque([2]), deque([2]), deque([3]), deque([1])]\n",
      "[deque([4]), deque([2]), deque([3]), deque([2])]\n",
      "[deque([7]), deque([2]), deque([3]), deque([4])]\n",
      "4 1 2\n"
     ]
    }
   ],
   "source": [
    "# import sys\n",
    "# input=sys.stdin.readline\n",
    "\n",
    "N=int(input())\n",
    "A=list(map(int,input().split()))\n",
    "B=[deque([b]) for b in list(map(int,input().split()))]\n",
    "M=int(input())\n",
    "C=list(map(int,input().split()))\n",
    "\n",
    "ret=[]\n",
    "for c in C:\n",
    "    x=c\n",
    "    for i in range(N):\n",
    "        if A[i]==0 : #큐\n",
    "            B[i].append(x)\n",
    "            x=B[i].popleft() #FIFO\n",
    "    ret.append(str(x))\n",
    "    print(B)\n",
    "print(' '.join(ret))"
   ]
  },
  {
   "cell_type": "code",
   "execution_count": 48,
   "metadata": {},
   "outputs": [
    {
     "name": "stdout",
     "output_type": "stream",
     "text": [
      "4 1 2\n"
     ]
    }
   ],
   "source": [
    "# import sys\n",
    "# input=sys.stdin.readline\n",
    "\n",
    "N=int(input())\n",
    "A=list(map(int,input().split()))\n",
    "B=list(map(int,input().split()))\n",
    "M=int(input())\n",
    "C=list(map(int,input().split()))\n",
    "lst=[i for i in range(N) if A[i]==0]\n",
    "\n",
    "ret=[]\n",
    "for c in C:\n",
    "    x=c\n",
    "    for i in lst: x,B[i]=B[i],x\n",
    "    #print(B)\n",
    "    ret.append(str(x))\n",
    "print(' '.join(ret))"
   ]
  },
  {
   "cell_type": "code",
   "execution_count": 58,
   "metadata": {},
   "outputs": [
    {
     "name": "stdout",
     "output_type": "stream",
     "text": [
      "4 1 2\n"
     ]
    }
   ],
   "source": [
    "# import sys\n",
    "# input=sys.stdin.readline\n",
    "\n",
    "N=int(input())\n",
    "A=list(map(int,input().split()))\n",
    "B=[d for i,d in enumerate(list(map(int,input().split()))) if A[i]==0]\n",
    "B=deque(B)\n",
    "M=int(input())\n",
    "C=list(map(int,input().split()))\n",
    "\n",
    "ret=[]\n",
    "for c in C:\n",
    "    B.appendleft(c)\n",
    "    ret.append(str(B.pop()))\n",
    "    \n",
    "print(' '.join(ret))"
   ]
  }
 ],
 "metadata": {
  "kernelspec": {
   "display_name": "Python 3 (ipykernel)",
   "language": "python",
   "name": "python3"
  },
  "language_info": {
   "codemirror_mode": {
    "name": "ipython",
    "version": 3
   },
   "file_extension": ".py",
   "mimetype": "text/x-python",
   "name": "python",
   "nbconvert_exporter": "python",
   "pygments_lexer": "ipython3",
   "version": "3.9.13"
  }
 },
 "nbformat": 4,
 "nbformat_minor": 4
}
