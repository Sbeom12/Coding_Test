{
 "cells": [
  {
   "cell_type": "markdown",
   "metadata": {},
   "source": [
    "# 문자열 여러 번 뒤집기\n",
    "![alt text](image.png)"
   ]
  },
  {
   "cell_type": "code",
   "execution_count": 12,
   "metadata": {},
   "outputs": [
    {
     "data": {
      "text/plain": [
       "'programmers'"
      ]
     },
     "execution_count": 12,
     "metadata": {},
     "output_type": "execute_result"
    }
   ],
   "source": [
    "def solution(my_string, queries):\n",
    "    my_string = list(my_string)\n",
    "    answer = []\n",
    "    for query in queries:\n",
    "        start,end= query\n",
    "        answer = my_string[:start] + my_string[start:end+1][::-1] + my_string[end+1:]\n",
    "        my_string = answer\n",
    "    return \"\".join(answer)\n",
    "solution(\"rermgorpsam\", [[2, 3], [0, 7], [5, 9], [6, 10]])"
   ]
  },
  {
   "cell_type": "markdown",
   "metadata": {},
   "source": [
    "# 할인 행사\n",
    "![alt text](image-1.png)"
   ]
  },
  {
   "cell_type": "code",
   "execution_count": 18,
   "metadata": {},
   "outputs": [
    {
     "name": "stdout",
     "output_type": "stream",
     "text": [
      "['chicken', 'apple', 'apple', 'banana', 'rice', 'apple', 'pork', 'banana', 'pork', 'rice'] 10\n",
      "['apple', 'apple', 'banana', 'rice', 'apple', 'pork', 'banana', 'pork', 'rice', 'pot'] 10\n",
      "['apple', 'banana', 'rice', 'apple', 'pork', 'banana', 'pork', 'rice', 'pot', 'banana'] 10\n",
      "['banana', 'rice', 'apple', 'pork', 'banana', 'pork', 'rice', 'pot', 'banana', 'apple'] 10\n",
      "['rice', 'apple', 'pork', 'banana', 'pork', 'rice', 'pot', 'banana', 'apple', 'banana'] 10\n",
      "['apple', 'pork', 'banana', 'pork', 'rice', 'pot', 'banana', 'apple', 'banana'] 9\n",
      "['pork', 'banana', 'pork', 'rice', 'pot', 'banana', 'apple', 'banana'] 8\n",
      "['banana', 'pork', 'rice', 'pot', 'banana', 'apple', 'banana'] 7\n",
      "['pork', 'rice', 'pot', 'banana', 'apple', 'banana'] 6\n",
      "['rice', 'pot', 'banana', 'apple', 'banana'] 5\n",
      "['pot', 'banana', 'apple', 'banana'] 4\n",
      "['banana', 'apple', 'banana'] 3\n",
      "['apple', 'banana'] 2\n",
      "['banana'] 1\n"
     ]
    },
    {
     "data": {
      "text/plain": [
       "14"
      ]
     },
     "execution_count": 18,
     "metadata": {},
     "output_type": "execute_result"
    }
   ],
   "source": [
    "def solution(want, number, discount):\n",
    "    answer = 0\n",
    "    want_dict ={}\n",
    "    \n",
    "    for val, num in zip(want, number):\n",
    "        want_dict[val] = num\n",
    "    for i in range(len(discount)):\n",
    "        check_dict = {}\n",
    "        temp = discount[i:i+10]\n",
    "        print(temp, len(temp))\n",
    "        for val in temp:\n",
    "            if val in want_dict:\n",
    "                if val in check_dict:\n",
    "                    check_dict[val] += 1\n",
    "                else:\n",
    "                    check_dict[val] = 1\n",
    "        for key in want_dict:\n",
    "            if key in check_dict:\n",
    "                if check_dict[key] < want_dict[key]:\n",
    "                    answer = -1\n",
    "                    break\n",
    "            else:\n",
    "                answer = -1\n",
    "                break\n",
    "        answer = i+1\n",
    "    if answer == -1:\n",
    "        return 0   \n",
    "    return answer\n",
    "solution([\"banana\", \"apple\", \"rice\", \"pork\", \"pot\"], [3, 2, 2, 2, 1], [\"chicken\", \"apple\", \"apple\", \"banana\", \"rice\", \"apple\", \"pork\", \"banana\", \"pork\", \"rice\", \"pot\", \"banana\", \"apple\", \"banana\"])"
   ]
  },
  {
   "cell_type": "code",
   "execution_count": null,
   "metadata": {},
   "outputs": [],
   "source": []
  }
 ],
 "metadata": {
  "kernelspec": {
   "display_name": "Python 3",
   "language": "python",
   "name": "python3"
  },
  "language_info": {
   "codemirror_mode": {
    "name": "ipython",
    "version": 3
   },
   "file_extension": ".py",
   "mimetype": "text/x-python",
   "name": "python",
   "nbconvert_exporter": "python",
   "pygments_lexer": "ipython3",
   "version": "3.12.1"
  }
 },
 "nbformat": 4,
 "nbformat_minor": 2
}
