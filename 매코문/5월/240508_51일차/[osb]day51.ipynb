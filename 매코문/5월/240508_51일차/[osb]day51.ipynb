{
 "cells": [
  {
   "cell_type": "markdown",
   "metadata": {},
   "source": [
    "# 커피 심부름\n",
    "![alt text](image.png)"
   ]
  },
  {
   "cell_type": "code",
   "execution_count": 1,
   "metadata": {},
   "outputs": [],
   "source": [
    "def solution(orders):\n",
    "    answer = 0\n",
    "    for order in orders:\n",
    "        if order.find('cafe')!=-1:\n",
    "            answer+=5000\n",
    "        else:\n",
    "            answer+=4500\n",
    "\n",
    "    return answer"
   ]
  },
  {
   "cell_type": "code",
   "execution_count": null,
   "metadata": {},
   "outputs": [],
   "source": []
  },
  {
   "cell_type": "code",
   "execution_count": 28,
   "metadata": {},
   "outputs": [
    {
     "name": "stdout",
     "output_type": "stream",
     "text": [
      "muzi ryan 0 3\n",
      "muzi frodo 2 1\n",
      "muzi neo 0 1\n",
      "ryan frodo 0 1\n",
      "ryan neo 0 0\n",
      "frodo neo 0 0\n",
      "{'muzi': 1, 'ryan': 2, 'frodo': 1, 'neo': 2}\n"
     ]
    },
    {
     "data": {
      "text/plain": [
       "2"
      ]
     },
     "execution_count": 28,
     "metadata": {},
     "output_type": "execute_result"
    }
   ],
   "source": [
    "from collections import defaultdict\n",
    "def solution(friends, gifts):\n",
    "    answer = 0\n",
    "    give_dict = defaultdict(defaultdict)\n",
    "    get_dict = defaultdict(defaultdict) \n",
    "    for gift in gifts:\n",
    "        from_, to_ = gift.split()\n",
    "        if to_ not in give_dict[from_]:\n",
    "            give_dict[from_][to_] = 1\n",
    "        else:\n",
    "            give_dict[from_][to_] += 1\n",
    "        if from_ not in get_dict[to_]:\n",
    "            get_dict[to_][from_] = 1\n",
    "        else:\n",
    "            get_dict[to_][from_] += 1\n",
    "\n",
    "    gift_score = []\n",
    "    for friend in friends:\n",
    "        give = 0\n",
    "        receive = 0\n",
    "        if friend in give_dict:\n",
    "            for key in give_dict[friend]:\n",
    "                give += give_dict[friend][key]\n",
    "                \n",
    "        if friend in get_dict:\n",
    "            for key in get_dict[friend]:\n",
    "                receive += get_dict[friend][key]\n",
    "        gift_score.append(give-receive)\n",
    "    answer_dict = {friend:0 for friend in friends}\n",
    "    for i in range(len(friends)):\n",
    "        for j in range(i+1,len(friends)):\n",
    "            friend1 = friends[i]\n",
    "            friend2 = friends[j]\n",
    "            give, get = 0, 0\n",
    "            if friend1 in give_dict and friend2 in give_dict[friend1]:\n",
    "                give = give_dict[friend1][friend2]\n",
    "            if friend1 in get_dict and friend2 in get_dict[friend1]:\n",
    "                get = get_dict[friend1][friend2]\n",
    "            if give > get: \n",
    "                answer_dict[friend1] += 1\n",
    "            elif give < get:\n",
    "                answer_dict[friend2] += 1\n",
    "            if give == get and gift_score[i] > gift_score[j]:\n",
    "                answer_dict[friend1] += 1\n",
    "            elif give==get and gift_score[i] < gift_score[j]:\n",
    "                answer_dict[friend2] += 1\n",
    "    return max(answer_dict.values())\n",
    "solution([\"muzi\", \"ryan\", \"frodo\", \"neo\"], [\"muzi frodo\", \"muzi frodo\", \"ryan muzi\", \"ryan muzi\", \"ryan muzi\", \"frodo muzi\", \"frodo ryan\", \"neo muzi\"])"
   ]
  },
  {
   "cell_type": "code",
   "execution_count": null,
   "metadata": {},
   "outputs": [],
   "source": []
  }
 ],
 "metadata": {
  "kernelspec": {
   "display_name": "Python 3",
   "language": "python",
   "name": "python3"
  },
  "language_info": {
   "codemirror_mode": {
    "name": "ipython",
    "version": 3
   },
   "file_extension": ".py",
   "mimetype": "text/x-python",
   "name": "python",
   "nbconvert_exporter": "python",
   "pygments_lexer": "ipython3",
   "version": "3.11.9"
  }
 },
 "nbformat": 4,
 "nbformat_minor": 2
}
