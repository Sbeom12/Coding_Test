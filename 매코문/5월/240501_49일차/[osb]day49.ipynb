{
 "cells": [
  {
   "cell_type": "markdown",
   "metadata": {},
   "source": [
    "# 조이스틱\n",
    "![image.png](./image.png)"
   ]
  },
  {
   "cell_type": "code",
   "execution_count": 6,
   "metadata": {},
   "outputs": [
    {
     "name": "stdout",
     "output_type": "stream",
     "text": [
      "a 0 3 9\n",
      "a 1 3 7\n",
      "a 2 3 7\n",
      "b 3 9 7\n",
      "a 4 9 5\n",
      "a 5 9 5\n",
      "a 6 9 5\n",
      "a 7 9 5\n",
      "a 8 9 5\n",
      "c 9 10 5\n"
     ]
    },
    {
     "data": {
      "text/plain": [
       "8"
      ]
     },
     "execution_count": 6,
     "metadata": {},
     "output_type": "execute_result"
    }
   ],
   "source": [
    "def solution(name):\n",
    "    name = name.lower() # 먼저 소문자로 변환\n",
    "    len_name = len(name)\n",
    "    alphabet = 'bcdefghijklmnopqrstuvwxyz'\n",
    "    front_dict = {x:y for y, x in enumerate(alphabet, start=1)}\n",
    "    back_dict = {x:y for y, x in enumerate(alphabet[::-1], start=1)}\n",
    "    front_dict['a'], back_dict['a'] = 0, 0\n",
    "    answer = 0\n",
    "    min_move = len_name - 1\n",
    "    \n",
    "    for i, char in enumerate(name):\n",
    "        answer+=min(front_dict[char], back_dict[char])\n",
    "        \n",
    "        next_idx = i + 1\n",
    "        while next_idx < len_name and name[next_idx] == 'a':\n",
    "            next_idx += 1\n",
    "        min_move = min(min_move, i + len_name - next_idx+min(i, len_name - next_idx)) # 왼쪽으로 이동했을 경우\n",
    "        \n",
    "    answer += min_move\n",
    "    return answer "
   ]
  },
  {
   "cell_type": "code",
   "execution_count": null,
   "metadata": {},
   "outputs": [],
   "source": []
  }
 ],
 "metadata": {
  "kernelspec": {
   "display_name": "Python 3",
   "language": "python",
   "name": "python3"
  },
  "language_info": {
   "codemirror_mode": {
    "name": "ipython",
    "version": 3
   },
   "file_extension": ".py",
   "mimetype": "text/x-python",
   "name": "python",
   "nbconvert_exporter": "python",
   "pygments_lexer": "ipython3",
   "version": "3.11.3"
  }
 },
 "nbformat": 4,
 "nbformat_minor": 2
}
