{
 "cells": [
  {
   "cell_type": "markdown",
   "metadata": {},
   "source": [
    "# n^2 배열 자르기\n",
    "![alt text](image.png)"
   ]
  },
  {
   "cell_type": "code",
   "execution_count": null,
   "metadata": {},
   "outputs": [],
   "source": [
    "'''\n",
    "n =4 , array =[1,2,3,4],[2,2,3,4],[3,3,3,4],[4,4,4,4]\n",
    "n =3 , array =[1,2,3],[2,2,3],[3,3,3]\n",
    "n =2 , array =[1,2],[2,2]\n",
    "n =5 , array =[1,2,3,4,5],[2,2,3,4,5],[3,3,3,4,5],[4,4,4,4,5],[5,5,5,5,5]\n",
    "'''\n",
    "def generate_array(n):\n",
    "    array = []\n",
    "    for i in range(1, n+1):\n",
    "        row = [max(i, j) for j in range(1, n+1)]        \n",
    "        array.append(row)\n",
    "    return array\n",
    "# Test cases\n",
    "print(generate_array(4))\n",
    "print(generate_array(3))\n",
    "print(generate_array(2))\n",
    "print(generate_array(5))"
   ]
  },
  {
   "cell_type": "code",
   "execution_count": null,
   "metadata": {},
   "outputs": [],
   "source": [
    "import copy\n",
    "def solution(n, left, right):\n",
    "    answer = []\n",
    "    array = [i for i in range(1, n+1)]\n",
    "    temp = copy.deepcopy(array)\n",
    "    for i in range(1, n):\n",
    "        for idx, j in enumerate(temp):\n",
    "            if j == i:\n",
    "                temp[idx] = i+1\n",
    "        array.extend(temp)\n",
    "    return answer[left:right+1]"
   ]
  },
  {
   "cell_type": "code",
   "execution_count": 3,
   "metadata": {},
   "outputs": [
    {
     "data": {
      "text/plain": [
       "[1, 2, 3, 2, 2, 3, 3, 3, 3]"
      ]
     },
     "execution_count": 3,
     "metadata": {},
     "output_type": "execute_result"
    }
   ],
   "source": [
    "'''\n",
    "1<n<=10^7이므로 2중 for문으로 문제 해결 시 시간초과 발생\n",
    "for문을 한개만 사용해서 문제 해결   \n",
    "'''\n",
    "def solution(n, left, right):\n",
    "    result = []\n",
    "    for i in range(n**2):\n",
    "        row = i // n\n",
    "        col = i % n\n",
    "        result.append(max(row, col) + 1)\n",
    "    return result[left:right+1]\n",
    "solution(3,0,8)"
   ]
  },
  {
   "cell_type": "code",
   "execution_count": null,
   "metadata": {},
   "outputs": [],
   "source": [
    "'''\n",
    "여전히 for문이지만, n^2의 길이를 가진 리스트이므로 시간초과 발생.\n",
    "범위를 줄이기 위해 left와 right를 사용\n",
    "'''\n",
    "def solution(n, left, right):\n",
    "    result = []\n",
    "    for i in range(n**2):\n",
    "        row = i // n\n",
    "        col = i % n\n",
    "        result.append(max(row, col) + 1)\n",
    "    return result[left:right+1]\n",
    "solution(3,0,8)"
   ]
  }
 ],
 "metadata": {
  "kernelspec": {
   "display_name": "Python 3",
   "language": "python",
   "name": "python3"
  },
  "language_info": {
   "codemirror_mode": {
    "name": "ipython",
    "version": 3
   },
   "file_extension": ".py",
   "mimetype": "text/x-python",
   "name": "python",
   "nbconvert_exporter": "python",
   "pygments_lexer": "ipython3",
   "version": "3.11.9"
  }
 },
 "nbformat": 4,
 "nbformat_minor": 2
}
