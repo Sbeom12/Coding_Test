{
 "cells": [
  {
   "cell_type": "markdown",
   "metadata": {},
   "source": [
    "# n^2 배열 자르기\n",
    "![alt text](image.png)"
   ]
  },
  {
   "cell_type": "code",
   "execution_count": null,
   "metadata": {},
   "outputs": [],
   "source": [
    "import copy\n",
    "def solution(n, left, right):\n",
    "    answer = []\n",
    "    array = [i for i in range(1, n+1)]\n",
    "    temp = copy.deepcopy(array)\n",
    "    for i in range(1, n):\n",
    "        for idx, j in enumerate(temp):\n",
    "            if j == i:\n",
    "                temp[idx] = i+1\n",
    "        array.extend(temp)\n",
    "    return answer[left:right+1]"
   ]
  },
  {
   "cell_type": "code",
   "execution_count": 18,
   "metadata": {},
   "outputs": [
    {
     "data": {
      "text/plain": [
       "[1, 2, 3, 4, 2, 2, 3, 4, 3, 3, 3, 4, 4, 4, 4, 4]"
      ]
     },
     "execution_count": 18,
     "metadata": {},
     "output_type": "execute_result"
    }
   ],
   "source": [
    "import copy\n",
    "def solve_problem(n):\n",
    "    array = [i for i in range(1, n+1)]\n",
    "    temp = copy.deepcopy(array)\n",
    "    for i in range(1, n):\n",
    "        for idx, j in enumerate(temp):\n",
    "            if j == i:\n",
    "                temp[idx] = i+1\n",
    "        array.extend(temp)\n",
    "    return array\n",
    "solve_problem(4)"
   ]
  },
  {
   "cell_type": "code",
   "execution_count": 19,
   "metadata": {},
   "outputs": [
    {
     "name": "stdout",
     "output_type": "stream",
     "text": [
      "[[1, 2, 3, 4], [2, 2, 3, 4], [3, 3, 3, 4], [4, 4, 4, 4]]\n",
      "[[1, 2, 3], [2, 2, 3], [3, 3, 3]]\n",
      "[[1, 2], [2, 2]]\n",
      "[[1, 2, 3, 4, 5], [2, 2, 3, 4, 5], [3, 3, 3, 4, 5], [4, 4, 4, 4, 5], [5, 5, 5, 5, 5]]\n"
     ]
    }
   ],
   "source": [
    "'''\n",
    "n =4 , array =[1,2,3,4],[2,2,3,4],[3,3,3,4],[4,4,4,4]\n",
    "n =3 , array =[1,2,3],[2,2,3],[3,3,3]\n",
    "n =2 , array =[1,2],[2,2]\n",
    "n =5 , array =[1,2,3,4,5],[2,2,3,4,5],[3,3,3,4,5],[4,4,4,4,5],[5,5,5,5,5]\n",
    "'''\n",
    "def generate_array(n):\n",
    "    array = []\n",
    "    for i in range(1, n+1):\n",
    "        row = [max(i, j) for j in range(1, n+1)]        \n",
    "        array.append(row)\n",
    "    return array\n",
    "# Test cases\n",
    "print(generate_array(4))\n",
    "print(generate_array(3))\n",
    "print(generate_array(2))\n",
    "print(generate_array(5))"
   ]
  },
  {
   "cell_type": "code",
   "execution_count": null,
   "metadata": {},
   "outputs": [],
   "source": [
    "'''\n",
    "n =4 , array =[1,2,3,4],[2,2,3,4],[3,3,3,4],[4,4,4,4]\n",
    "n =3 , array =[1,2,3],[2,2,3],[3,3,3]\n",
    "n =2 , array =[1,2],[2,2]\n",
    "n =5 , array =[1,2,3,4,5],[2,2,3,4,5],[3,3,3,4,5],[4,4,4,4,5],[5,5,5,5,5]\n",
    "'''"
   ]
  }
 ],
 "metadata": {
  "kernelspec": {
   "display_name": "Python 3",
   "language": "python",
   "name": "python3"
  },
  "language_info": {
   "codemirror_mode": {
    "name": "ipython",
    "version": 3
   },
   "file_extension": ".py",
   "mimetype": "text/x-python",
   "name": "python",
   "nbconvert_exporter": "python",
   "pygments_lexer": "ipython3",
   "version": "3.11.9"
  }
 },
 "nbformat": 4,
 "nbformat_minor": 2
}
