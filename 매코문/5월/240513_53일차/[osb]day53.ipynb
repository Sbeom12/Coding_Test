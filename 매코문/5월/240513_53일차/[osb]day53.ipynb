{
 "cells": [
  {
   "cell_type": "markdown",
   "metadata": {},
   "source": [
    "# 이진 변환 반복하기\n",
    "![alt text](image.png)"
   ]
  },
  {
   "cell_type": "code",
   "execution_count": 10,
   "metadata": {},
   "outputs": [
    {
     "data": {
      "text/plain": [
       "[3, 8]"
      ]
     },
     "execution_count": 10,
     "metadata": {},
     "output_type": "execute_result"
    }
   ],
   "source": [
    "def solution(s):\n",
    "    zero = 0\n",
    "    try_num = 0\n",
    "    while len(s) >1:\n",
    "        temp = []\n",
    "        for string in s:\n",
    "            if string == '0':\n",
    "                zero +=1\n",
    "            else:\n",
    "                temp.append(string)\n",
    "        s= ''.join(temp)\n",
    "        len_s = len(s)\n",
    "        answer = []\n",
    "        while len_s > 0:\n",
    "            answer.append(str(len_s%2))\n",
    "            len_s = len_s//2   \n",
    "        s= ''.join(answer[::-1])\n",
    "        try_num+=1\n",
    "    return [try_num, zero]\n",
    "solution(\"110010101001\")"
   ]
  },
  {
   "cell_type": "code",
   "execution_count": null,
   "metadata": {},
   "outputs": [],
   "source": []
  }
 ],
 "metadata": {
  "kernelspec": {
   "display_name": "Python 3",
   "language": "python",
   "name": "python3"
  },
  "language_info": {
   "codemirror_mode": {
    "name": "ipython",
    "version": 3
   },
   "file_extension": ".py",
   "mimetype": "text/x-python",
   "name": "python",
   "nbconvert_exporter": "python",
   "pygments_lexer": "ipython3",
   "version": "3.12.1"
  }
 },
 "nbformat": 4,
 "nbformat_minor": 2
}
