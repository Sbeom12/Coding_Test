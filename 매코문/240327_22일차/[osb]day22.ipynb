{
 "cells": [
  {
   "cell_type": "markdown",
   "metadata": {},
   "source": [
    "# 문자열 내 마음대로 정렬하기\n",
    "![alt text](image.png)"
   ]
  },
  {
   "cell_type": "code",
   "execution_count": 35,
   "metadata": {},
   "outputs": [],
   "source": [
    "def solution(strings, n):\n",
    "    strings = sorted(strings, key = lambda x: (x[n],x))\n",
    "    return strings"
   ]
  },
  {
   "cell_type": "markdown",
   "metadata": {},
   "source": [
    "# [PCCP 기출문제] 1번/붕대 감기\n",
    "![alt text](image-1.png)  \n",
    "![alt text](image-2.png)"
   ]
  },
  {
   "cell_type": "code",
   "execution_count": 49,
   "metadata": {},
   "outputs": [],
   "source": [
    "def solution(bandage, health, attacks):\n",
    "    current_health = health\n",
    "    heal_time, heal, bonus_heal = bandage[0], bandage[1], bandage[2]\n",
    "    temp = 0\n",
    "    for attack in attacks:\n",
    "        time, demage = attack[0], attack[1]\n",
    "        # 처음 체력회복\n",
    "        healtime = time - temp-1\n",
    "        check_bouns_heal = healtime // heal_time\n",
    "        current_health += (healtime * heal + check_bouns_heal*bonus_heal)\n",
    "        if current_health >= health:\n",
    "            current_health = health\n",
    "        current_health -= demage\n",
    "        temp = time\n",
    "        if current_health <= 0:\n",
    "            break\n",
    "    if current_health <= 0:\n",
    "        return -1\n",
    "    return current_health"
   ]
  },
  {
   "cell_type": "code",
   "execution_count": 51,
   "metadata": {},
   "outputs": [
    {
     "data": {
      "text/plain": [
       "0"
      ]
     },
     "execution_count": 51,
     "metadata": {},
     "output_type": "execute_result"
    }
   ],
   "source": [
    "solution([3, 2, 7],20,[[1, 15], [5, 16], [8, 6]])"
   ]
  },
  {
   "cell_type": "code",
   "execution_count": null,
   "metadata": {},
   "outputs": [],
   "source": []
  }
 ],
 "metadata": {
  "kernelspec": {
   "display_name": "Python 3",
   "language": "python",
   "name": "python3"
  },
  "language_info": {
   "codemirror_mode": {
    "name": "ipython",
    "version": 3
   },
   "file_extension": ".py",
   "mimetype": "text/x-python",
   "name": "python",
   "nbconvert_exporter": "python",
   "pygments_lexer": "ipython3",
   "version": "3.11.8"
  }
 },
 "nbformat": 4,
 "nbformat_minor": 2
}
