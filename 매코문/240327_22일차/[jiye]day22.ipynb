{
 "cells": [
  {
   "cell_type": "markdown",
   "metadata": {},
   "source": [
    "### [DFS/BFS-퍼즐조각 채우기](https://school.programmers.co.kr/learn/courses/30/lessons/84021)\n",
    "...이어서"
   ]
  },
  {
   "cell_type": "markdown",
   "metadata": {},
   "source": [
    "![image](../240325_20일차/image_jiye.png)"
   ]
  },
  {
   "cell_type": "code",
   "execution_count": 35,
   "metadata": {},
   "outputs": [],
   "source": [
    "game_board=[[1,1,0,0,1,0],\n",
    "            [0,0,1,0,1,0],\n",
    "            [0,1,1,0,0,1],\n",
    "            [1,1,0,1,1,1],\n",
    "            [1,0,0,0,1,0],\n",
    "            [0,1,1,1,0,0]]\n",
    "table=[[1,0,0,1,1,0],[1,0,1,0,1,0],[0,1,1,0,1,1],[0,0,1,0,0,0],[1,1,0,1,1,0],[0,1,0,0,0,0]]"
   ]
  },
  {
   "cell_type": "code",
   "execution_count": 36,
   "metadata": {},
   "outputs": [],
   "source": [
    "from collections import *\n",
    "que=deque()"
   ]
  },
  {
   "cell_type": "code",
   "execution_count": 37,
   "metadata": {},
   "outputs": [],
   "source": [
    "def bfs(board,number,start_x,start_y):\n",
    "    que=deque([(start_x, start_y)])\n",
    "    temp=[(start_x, start_y)]\n",
    "    dx=[1,-1,0,0]\n",
    "    dy=[0,0,1,-1]\n",
    "\n",
    "    while que:\n",
    "        x,y = que.popleft()\n",
    "        board[x][y] = -1 # 방문처리\n",
    "        \n",
    "        for i in range(4):\n",
    "            if (0 <= x + dx[i] <= len(board)-1) and (0 <= y+dy[i] <= len(board[0])-1) and  (board[x + dx[i]][y + dy[i]] == number) :\n",
    "                que.append((x + dx[i], y + dy[i]))\n",
    "                temp.append((x + dx[i], y + dy[i]))\n",
    "                board[x + dx[i]][y + dy[i]] = -1\n",
    "\n",
    "    return temp"
   ]
  },
  {
   "cell_type": "code",
   "execution_count": 38,
   "metadata": {},
   "outputs": [],
   "source": [
    "def get_list(board,number):\n",
    "    lst=[]\n",
    "    for x in range(len(board)):\n",
    "        for y in range(len(board[0])):\n",
    "            if board[x][y] == number:\n",
    "                lst.append(bfs(board,number,x,y))\n",
    "    return lst"
   ]
  },
  {
   "cell_type": "code",
   "execution_count": 40,
   "metadata": {},
   "outputs": [],
   "source": [
    "gb=get_list(game_board,0)\n",
    "tb=get_list(table,1)"
   ]
  },
  {
   "cell_type": "code",
   "execution_count": 41,
   "metadata": {},
   "outputs": [
    {
     "data": {
      "text/plain": [
       "[[(0, 2), (0, 3), (1, 3), (2, 3), (2, 4)],\n",
       " [(0, 5), (1, 5)],\n",
       " [(1, 0), (2, 0), (1, 1)],\n",
       " [(3, 2), (4, 2), (4, 3), (4, 1)],\n",
       " [(4, 5), (5, 5), (5, 4)],\n",
       " [(5, 0)]]"
      ]
     },
     "execution_count": 41,
     "metadata": {},
     "output_type": "execute_result"
    }
   ],
   "source": [
    "gb"
   ]
  },
  {
   "cell_type": "code",
   "execution_count": 42,
   "metadata": {},
   "outputs": [
    {
     "data": {
      "text/plain": [
       "[[(0, 0), (1, 0)],\n",
       " [(0, 3), (0, 4), (1, 4), (2, 4), (2, 5)],\n",
       " [(1, 2), (2, 2), (3, 2), (2, 1)],\n",
       " [(4, 0), (4, 1), (5, 1)],\n",
       " [(4, 3), (4, 4)]]"
      ]
     },
     "execution_count": 42,
     "metadata": {},
     "output_type": "execute_result"
    }
   ],
   "source": [
    "tb"
   ]
  }
 ],
 "metadata": {
  "kernelspec": {
   "display_name": "base",
   "language": "python",
   "name": "python3"
  },
  "language_info": {
   "codemirror_mode": {
    "name": "ipython",
    "version": 3
   },
   "file_extension": ".py",
   "mimetype": "text/x-python",
   "name": "python",
   "nbconvert_exporter": "python",
   "pygments_lexer": "ipython3",
   "version": "3.9.13"
  }
 },
 "nbformat": 4,
 "nbformat_minor": 2
}
