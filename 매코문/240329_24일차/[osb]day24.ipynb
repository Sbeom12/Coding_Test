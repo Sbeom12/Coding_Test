{
 "cells": [
  {
   "cell_type": "markdown",
   "metadata": {},
   "source": [
    "# 부족한 금액 계산하기\n",
    "![alt text](image.png)"
   ]
  },
  {
   "cell_type": "code",
   "execution_count": null,
   "metadata": {},
   "outputs": [],
   "source": [
    "def solution(price, money, count):\n",
    "    total_price = 0\n",
    "    for ride in range(1,count+1): # 1~count 까지\n",
    "        total_price += ride * price\n",
    "    \n",
    "    answer = total_price - money\n",
    "    if answer <= 0:\n",
    "        return 0\n",
    "    return answer"
   ]
  },
  {
   "cell_type": "markdown",
   "metadata": {},
   "source": [
    "# 햄버거 만들기\n",
    "![alt text](image-1.png)"
   ]
  },
  {
   "cell_type": "markdown",
   "metadata": {},
   "source": []
  },
  {
   "cell_type": "code",
   "execution_count": 1,
   "metadata": {},
   "outputs": [],
   "source": [
    "def solution(ingredients):\n",
    "    answer = 0\n",
    "    idx, len_gredient = 0, len(ingredients)\n",
    "    one_index = []\n",
    "    for idx, ingredient in enumerate(ingredients):\n",
    "        if ingredient == 1:\n",
    "            one_index.append(idx)\n",
    "    \n",
    "    while idx <= len_gredient-3:\n",
    "        if ingredients[idx] == 1 and ingredients[idx+1] == 2 and ingredients[idx+2] == 3 and ingredients[idx+3] == 1: # 햄버거를 만들 수 있다면\n",
    "            for _ in range(4):\n",
    "                ingredients.pop(idx)\n",
    "            len_gredient = len(ingredients)\n",
    "            idx = 0\n",
    "            answer += 1\n",
    "        idx +=1\n",
    "    return answer"
   ]
  }
 ],
 "metadata": {
  "kernelspec": {
   "display_name": "Python 3",
   "language": "python",
   "name": "python3"
  },
  "language_info": {
   "codemirror_mode": {
    "name": "ipython",
    "version": 3
   },
   "file_extension": ".py",
   "mimetype": "text/x-python",
   "name": "python",
   "nbconvert_exporter": "python",
   "pygments_lexer": "ipython3",
   "version": "3.11.3"
  }
 },
 "nbformat": 4,
 "nbformat_minor": 2
}
