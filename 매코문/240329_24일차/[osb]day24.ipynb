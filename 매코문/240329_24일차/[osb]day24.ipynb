{
 "cells": [
  {
   "cell_type": "markdown",
   "metadata": {},
   "source": [
    "# 부족한 금액 계산하기\n",
    "![alt text](image.png)"
   ]
  },
  {
   "cell_type": "code",
   "execution_count": null,
   "metadata": {},
   "outputs": [],
   "source": [
    "def solution(price, money, count):\n",
    "    total_price = 0\n",
    "    for ride in range(1,count+1): # 1~count 까지\n",
    "        total_price += ride * price\n",
    "    \n",
    "    answer = total_price - money\n",
    "    if answer <= 0:\n",
    "        return 0\n",
    "    return answer"
   ]
  },
  {
   "cell_type": "markdown",
   "metadata": {},
   "source": []
  },
  {
   "cell_type": "code",
   "execution_count": null,
   "metadata": {},
   "outputs": [],
   "source": [
    "def solution(ingredient):\n",
    "    answer = 0\n",
    "    idx, len_gredient = 0, len(ingredient)\n",
    "    while idx <= len_gredient-3:\n",
    "        if ingredient[idx] == 1 and sum(ingredient[idx:idx+4]) == 7:\n",
    "            for i in range(4):\n",
    "                len_gredient(idx)\n",
    "            len_gredient = len(ingredient)\n",
    "            idx = 0\n",
    "            answer += 1\n",
    "        idx +=1\n",
    "    return answer"
   ]
  },
  {
   "cell_type": "code",
   "execution_count": null,
   "metadata": {},
   "outputs": [],
   "source": []
  }
 ],
 "metadata": {
  "kernelspec": {
   "display_name": "Python 3",
   "language": "python",
   "name": "python3"
  },
  "language_info": {
   "name": "python",
   "version": "3.11.3"
  }
 },
 "nbformat": 4,
 "nbformat_minor": 2
}
