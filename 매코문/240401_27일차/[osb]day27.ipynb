{
 "cells": [
  {
   "cell_type": "markdown",
   "metadata": {},
   "source": [
    "# [PCCE 기출] 10번 데이터 분석\n",
    "![alt text](image.png)  \n",
    "![alt text](image-1.png)\n"
   ]
  },
  {
   "cell_type": "code",
   "execution_count": 13,
   "metadata": {},
   "outputs": [],
   "source": [
    "def solution(datas, ext, val_ext, sort_by):\n",
    "    sort_dict = {'remain' : 3, 'maximum' : 2, 'date': 1, 'code': 0}\n",
    "    condition = sort_dict[ext]\n",
    "    answer = []\n",
    "    for data in datas:\n",
    "        if data[condition] < val_ext:\n",
    "            answer.append(data)\n",
    "    answer = sorted(answer, key =lambda x : x[sort_dict[sort_by]]) # 정렬 기준으로 오름차순 정렬.\n",
    "    return answer"
   ]
  },
  {
   "cell_type": "code",
   "execution_count": null,
   "metadata": {},
   "outputs": [],
   "source": []
  }
 ],
 "metadata": {
  "kernelspec": {
   "display_name": "Python 3",
   "language": "python",
   "name": "python3"
  },
  "language_info": {
   "codemirror_mode": {
    "name": "ipython",
    "version": 3
   },
   "file_extension": ".py",
   "mimetype": "text/x-python",
   "name": "python",
   "nbconvert_exporter": "python",
   "pygments_lexer": "ipython3",
   "version": "3.11.8"
  }
 },
 "nbformat": 4,
 "nbformat_minor": 2
}
