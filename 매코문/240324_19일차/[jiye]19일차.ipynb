{
 "cells": [
  {
   "cell_type": "markdown",
   "metadata": {},
   "source": [
    "### [DFS/BFS-여행경로](https://school.programmers.co.kr/learn/courses/30/lessons/43164)"
   ]
  },
  {
   "cell_type": "markdown",
   "metadata": {},
   "source": [
    "![image](../240321_16일차/image_jiye.png)"
   ]
  },
  {
   "cell_type": "code",
   "execution_count": 27,
   "metadata": {},
   "outputs": [],
   "source": [
    "tickets=[[\"ICN\", \"BOO\"], [\"ICN\", \"COO\"], [\"COO\", \"DOO\"], [\"DOO\", \"COO\"], [\"BOO\", \"DOO\"], [\"DOO\", \"BOO\"], [\"BOO\", \"ICN\"], [\"COO\", \"DOO\"]]\n",
    "# tickets=[[\"ICN\", \"JFK\"], [\"HND\", \"IAD\"], [\"JFK\", \"HND\"]]\n",
    "# tickets=[[\"ICN\", \"SFO\"], [\"ICN\", \"ATL\"], [\"SFO\", \"ATL\"], [\"ATL\", \"ICN\"], [\"ATL\",\"SFO\"]]\n",
    "# tickets=sorted(tickets)"
   ]
  },
  {
   "cell_type": "code",
   "execution_count": 32,
   "metadata": {},
   "outputs": [],
   "source": [
    "def solution(tickets):\n",
    "    tickets=sorted(tickets)\n",
    "    stack=[['root','ICN']]\n",
    "    graph=dict()\n",
    "    for f,t in tickets:\n",
    "        if f not in graph:\n",
    "            graph[f]=[]\n",
    "        graph[f].append([f,t])\n",
    "\n",
    "    \n",
    "    while True:\n",
    "        _,now=stack[-1]\n",
    "        print(stack,len(tickets))\n",
    "        \n",
    "        if len(tickets)==1:\n",
    "            stack.append(tickets[0])\n",
    "            break\n",
    "\n",
    "        for f,t in graph[now]:\n",
    "            tickets.remove([f,t])\n",
    "            graph[now].remove([f,t])\n",
    "            stack.append([f,t])\n",
    "            break\n",
    "            \n",
    "        else:\n",
    "            tickets.append(stack[-1])\n",
    "            graph[now].append(stack[-1])\n",
    "            stack=stack[:-1]\n",
    "\n",
    "        \n",
    "    \n",
    "    answer=[i for _,i in stack]\n",
    "    \n",
    "    return answer"
   ]
  },
  {
   "cell_type": "code",
   "execution_count": 33,
   "metadata": {},
   "outputs": [
    {
     "name": "stdout",
     "output_type": "stream",
     "text": [
      "[['root', 'ICN']] 8\n",
      "[['root', 'ICN'], ['ICN', 'BOO']] 7\n",
      "[['root', 'ICN'], ['ICN', 'BOO'], ['BOO', 'DOO']] 6\n",
      "[['root', 'ICN'], ['ICN', 'BOO'], ['BOO', 'DOO'], ['DOO', 'BOO']] 5\n",
      "[['root', 'ICN'], ['ICN', 'BOO'], ['BOO', 'DOO'], ['DOO', 'BOO'], ['BOO', 'ICN']] 4\n",
      "[['root', 'ICN'], ['ICN', 'BOO'], ['BOO', 'DOO'], ['DOO', 'BOO'], ['BOO', 'ICN'], ['ICN', 'COO']] 3\n",
      "[['root', 'ICN'], ['ICN', 'BOO'], ['BOO', 'DOO'], ['DOO', 'BOO'], ['BOO', 'ICN'], ['ICN', 'COO'], ['COO', 'DOO']] 2\n",
      "[['root', 'ICN'], ['ICN', 'BOO'], ['BOO', 'DOO'], ['DOO', 'BOO'], ['BOO', 'ICN'], ['ICN', 'COO'], ['COO', 'DOO'], ['DOO', 'COO']] 1\n"
     ]
    },
    {
     "data": {
      "text/plain": [
       "['ICN', 'BOO', 'DOO', 'BOO', 'ICN', 'COO', 'DOO', 'COO', 'DOO']"
      ]
     },
     "execution_count": 33,
     "metadata": {},
     "output_type": "execute_result"
    }
   ],
   "source": [
    "solution(tickets)"
   ]
  },
  {
   "cell_type": "code",
   "execution_count": 31,
   "metadata": {},
   "outputs": [
    {
     "name": "stdout",
     "output_type": "stream",
     "text": [
      "Success\n"
     ]
    }
   ],
   "source": [
    "for i,t in []:\n",
    "    print('Fail')\n",
    "else:\n",
    "    print('Success')"
   ]
  },
  {
   "cell_type": "code",
   "execution_count": 129,
   "metadata": {},
   "outputs": [],
   "source": [
    "# answer=[]\n",
    "def dfs(graph, pre,now, visited,answer,idx):\n",
    "    visited[pre][idx] = True  # 현재 노드를 방문 처리\n",
    "    answer.append(now)\n",
    "    print(answer)\n",
    "    \n",
    "    # 현재 노드와 연결된 다른 노드를 재귀적으로 방문\n",
    "    for idx,next in enumerate(graph[now]):\n",
    "        if not visited[now][idx]:\n",
    "            print('------------')\n",
    "            print(graph)\n",
    "            print(visited)\n",
    "            dfs(graph,now,next,visited,answer,idx)\n",
    "\n"
   ]
  },
  {
   "cell_type": "code",
   "execution_count": 204,
   "metadata": {},
   "outputs": [],
   "source": [
    "graph=dict()\n",
    "\n",
    "for from_,to_ in tickets:\n",
    "    if from_ not in graph:\n",
    "        graph[from_]=[]\n",
    "    graph[from_].append(to_)\n",
    "\n",
    "for from_ in graph.keys():\n",
    "    graph[from_]=sorted(graph[from_],reverse=False)\n",
    "    graph[from_]=[(to_,idx) for idx,to_ in enumerate(graph[from_]) ]\n",
    "\n",
    "lst=[]\n",
    "for tmp in tickets:\n",
    "    lst.extend(tmp)\n",
    "tmp=set(lst)-set(graph.keys())\n",
    "for t in tmp:\n",
    "    graph[t]=[]\n",
    "    \n",
    "\n",
    "visited={key:[False]*len(value) for key,value in graph.items() }\n",
    "visited['root']=['False']\n",
    "graph['root']=[('ICN',0)]"
   ]
  },
  {
   "cell_type": "code",
   "execution_count": 205,
   "metadata": {},
   "outputs": [
    {
     "data": {
      "text/plain": [
       "{'ICN': [('COO', 0), ('BOO', 1)],\n",
       " 'COO': [('DOO', 0), ('BOO', 1)],\n",
       " 'DOO': [('COO', 0), ('BOO', 1)],\n",
       " 'BOO': [('ICN', 0), ('DOO', 1)],\n",
       " 'root': [('ICN', 0)]}"
      ]
     },
     "execution_count": 205,
     "metadata": {},
     "output_type": "execute_result"
    }
   ],
   "source": [
    "graph"
   ]
  },
  {
   "cell_type": "code",
   "execution_count": 206,
   "metadata": {},
   "outputs": [
    {
     "data": {
      "text/plain": [
       "{'ICN': [False, False],\n",
       " 'COO': [False, False],\n",
       " 'DOO': [False, False],\n",
       " 'BOO': [False, False],\n",
       " 'root': ['False']}"
      ]
     },
     "execution_count": 206,
     "metadata": {},
     "output_type": "execute_result"
    }
   ],
   "source": [
    "visited"
   ]
  },
  {
   "cell_type": "code",
   "execution_count": 207,
   "metadata": {},
   "outputs": [],
   "source": [
    "from collections import *\n",
    "stack=deque([('root',0)])"
   ]
  },
  {
   "cell_type": "code",
   "execution_count": 208,
   "metadata": {},
   "outputs": [
    {
     "name": "stdout",
     "output_type": "stream",
     "text": [
      "deque([('ICN', 0)])\n",
      "deque([('COO', 0)])\n",
      "deque([('COO', 0), ('BOO', 1)])\n",
      "deque([('COO', 0)])\n",
      "deque([('COO', 0), ('DOO', 1)])\n",
      "deque([('COO', 0), ('COO', 0)])\n",
      "deque([('COO', 0), ('COO', 0)])\n",
      "deque([('COO', 0), ('DOO', 0)])\n",
      "deque([('COO', 0), ('DOO', 0)])\n",
      "deque([('COO', 0)])\n",
      "deque([('COO', 0)])\n",
      "deque([])\n",
      "deque([])\n"
     ]
    }
   ],
   "source": [
    "answer=[]\n",
    "while stack:\n",
    "    now,idx=stack.pop()\n",
    "    visited[now][idx]=True #방문처리\n",
    "    # print(now, end=' ')\n",
    "    \n",
    "    for next,idx in graph[now]:\n",
    "        if not visited[next][idx]:\n",
    "            stack.append((next,idx))\n",
    "        print(stack)"
   ]
  },
  {
   "cell_type": "code",
   "execution_count": 209,
   "metadata": {},
   "outputs": [],
   "source": [
    "# answer=[]\n",
    "def dfs(graph, pre,now, visited,answer,idx):\n",
    "    visited[pre][idx] = True  # 현재 노드를 방문 처리\n",
    "    answer.append(now)\n",
    "    print(answer)\n",
    "    \n",
    "    # 현재 노드와 연결된 다른 노드를 재귀적으로 방문\n",
    "    for idx,next in enumerate(graph[now]):\n",
    "        if not visited[now][idx]:\n",
    "            dfs(graph,now,next,visited,answer,idx)"
   ]
  },
  {
   "cell_type": "code",
   "execution_count": 214,
   "metadata": {},
   "outputs": [],
   "source": [
    "def solution(tickets):\n",
    "    graph=dict()\n",
    "\n",
    "    for from_,to_ in tickets:\n",
    "        if from_ not in graph:\n",
    "            graph[from_]=[]\n",
    "        graph[from_].append(to_)\n",
    "\n",
    "    for from_ in graph.keys():\n",
    "        graph[from_]=sorted(graph[from_],reverse=False)\n",
    "\n",
    "    lst=[]\n",
    "    for tmp in tickets:\n",
    "        lst.extend(tmp)\n",
    "    tmp=set(lst)-set(graph.keys())\n",
    "    for t in tmp:\n",
    "        graph[t]=[]\n",
    "        \n",
    "\n",
    "    visited={key:[False]*len(value) for key,value in graph.items() }\n",
    "    visited['root']=['False']\n",
    "    graph['root']=['ICN']\n",
    "    \n",
    "    print(graph)\n",
    "    print(visited)\n",
    "    \n",
    "    answer=[]\n",
    "    dfs(graph,'root','ICN',visited,answer,0)\n",
    "    \n",
    "    return answer"
   ]
  },
  {
   "cell_type": "code",
   "execution_count": 215,
   "metadata": {},
   "outputs": [
    {
     "name": "stdout",
     "output_type": "stream",
     "text": [
      "{'ICN': ['BOO', 'COO'], 'COO': ['BOO', 'DOO'], 'DOO': ['BOO', 'COO'], 'BOO': ['DOO', 'ICN'], 'root': ['ICN']}\n",
      "{'ICN': [False, False], 'COO': [False, False], 'DOO': [False, False], 'BOO': [False, False], 'root': ['False']}\n",
      "['ICN']\n",
      "['ICN', 'BOO']\n",
      "['ICN', 'BOO', 'DOO']\n",
      "['ICN', 'BOO', 'DOO', 'BOO']\n",
      "['ICN', 'BOO', 'DOO', 'BOO', 'ICN']\n",
      "['ICN', 'BOO', 'DOO', 'BOO', 'ICN', 'COO']\n",
      "['ICN', 'BOO', 'DOO', 'BOO', 'ICN', 'COO', 'BOO']\n",
      "['ICN', 'BOO', 'DOO', 'BOO', 'ICN', 'COO', 'BOO', 'DOO']\n",
      "['ICN', 'BOO', 'DOO', 'BOO', 'ICN', 'COO', 'BOO', 'DOO', 'COO']\n"
     ]
    },
    {
     "data": {
      "text/plain": [
       "['ICN', 'BOO', 'DOO', 'BOO', 'ICN', 'COO', 'BOO', 'DOO', 'COO']"
      ]
     },
     "execution_count": 215,
     "metadata": {},
     "output_type": "execute_result"
    }
   ],
   "source": [
    "solution(tickets)"
   ]
  },
  {
   "cell_type": "code",
   "execution_count": 52,
   "metadata": {},
   "outputs": [],
   "source": [
    "graph=dict()\n",
    "for from_,to_ in tickets:\n",
    "    if from_ not in graph:\n",
    "        graph[from_]=[]\n",
    "    graph[from_].append(to_)\n",
    "\n",
    "for from_ in graph.keys():\n",
    "    graph[from_]=sorted(graph[from_],reverse=False)\n",
    "    graph[from_]=[(to_,idx) for idx,to_ in enumerate(graph[from_])]"
   ]
  },
  {
   "cell_type": "code",
   "execution_count": 54,
   "metadata": {},
   "outputs": [],
   "source": [
    "graph['root']=[('ICN',0)]"
   ]
  },
  {
   "cell_type": "code",
   "execution_count": 55,
   "metadata": {},
   "outputs": [
    {
     "data": {
      "text/plain": [
       "{'ICN': [('JFK', 0)],\n",
       " 'HND': [('IAD', 0)],\n",
       " 'JFK': [('HND', 0)],\n",
       " 'root': [('ICN', 0)]}"
      ]
     },
     "execution_count": 55,
     "metadata": {},
     "output_type": "execute_result"
    }
   ],
   "source": [
    "graph"
   ]
  },
  {
   "cell_type": "code",
   "execution_count": null,
   "metadata": {},
   "outputs": [],
   "source": [
    "from collections import *\n",
    "stack=deque(['ICN'])\n",
    "\n",
    "\n",
    "while stack:\n",
    "    now,idx=stack.pop()\n",
    "    print(now,end=' ')\n",
    "    for v in graph[now]:\n",
    "        if v"
   ]
  }
 ],
 "metadata": {
  "kernelspec": {
   "display_name": "base",
   "language": "python",
   "name": "python3"
  },
  "language_info": {
   "codemirror_mode": {
    "name": "ipython",
    "version": 3
   },
   "file_extension": ".py",
   "mimetype": "text/x-python",
   "name": "python",
   "nbconvert_exporter": "python",
   "pygments_lexer": "ipython3",
   "version": "3.9.13"
  }
 },
 "nbformat": 4,
 "nbformat_minor": 2
}
