{
 "cells": [
  {
   "cell_type": "markdown",
   "metadata": {},
   "source": [
    "# 문자열을 정수로 바꾸기\n",
    "![alt text](image.png)"
   ]
  },
  {
   "cell_type": "code",
   "execution_count": null,
   "metadata": {
    "vscode": {
     "languageId": "plaintext"
    }
   },
   "outputs": [],
   "source": [
    "def solution(s):\n",
    "    if s[0]  =='-':\n",
    "        answer = -1*int(s[1:])\n",
    "    else:\n",
    "        answer = int(s)\n",
    "    return answer"
   ]
  },
  {
   "cell_type": "markdown",
   "metadata": {},
   "source": [
    "# 수박수박수박수박수박수?\n",
    "![alt text](image-1.png)"
   ]
  },
  {
   "cell_type": "code",
   "execution_count": null,
   "metadata": {
    "vscode": {
     "languageId": "plaintext"
    }
   },
   "outputs": [],
   "source": [
    "def solution(n):\n",
    "    num = n//2\n",
    "    a = n%2\n",
    "    answer = '수박'*num + a*'수'\n",
    "    return answer"
   ]
  },
  {
   "cell_type": "markdown",
   "metadata": {},
   "source": [
    "# 콜라츠 추축\n",
    "![alt text](image-3.png)"
   ]
  },
  {
   "cell_type": "code",
   "execution_count": null,
   "metadata": {
    "vscode": {
     "languageId": "plaintext"
    }
   },
   "outputs": [],
   "source": [
    "def solution(num):\n",
    "    try_num = 0\n",
    "    while not(num == 1):\n",
    "        if num%2 == 0:\n",
    "            num = num//2\n",
    "        else:\n",
    "            num = num*3+1\n",
    "        try_num += 1\n",
    "        if try_num >500:\n",
    "            return -1\n",
    "    answer = try_num\n",
    "    return answer"
   ]
  }
 ],
 "metadata": {
  "language_info": {
   "name": "python"
  }
 },
 "nbformat": 4,
 "nbformat_minor": 2
}
