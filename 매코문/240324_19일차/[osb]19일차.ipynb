{
 "cells": [
  {
   "cell_type": "markdown",
   "metadata": {},
   "source": [
    "# 문자열을 정수로 바꾸기\n",
    "![alt text](image.png)"
   ]
  },
  {
   "cell_type": "code",
   "execution_count": null,
   "metadata": {},
   "outputs": [],
   "source": [
    "def solution(s):\n",
    "    if s[0]  =='-':\n",
    "        answer = -1*int(s[1:])\n",
    "    else:\n",
    "        answer = int(s)\n",
    "    return answer"
   ]
  },
  {
   "cell_type": "markdown",
   "metadata": {},
   "source": [
    "# 수박수박수박수박수박수?\n",
    "![alt text](image-1.png)"
   ]
  },
  {
   "cell_type": "code",
   "execution_count": null,
   "metadata": {},
   "outputs": [],
   "source": [
    "def solution(n):\n",
    "    num = n//2\n",
    "    a = n%2\n",
    "    answer = '수박'*num + a*'수'\n",
    "    return answer"
   ]
  },
  {
   "cell_type": "markdown",
   "metadata": {},
   "source": [
    "# 콜라츠 추축\n",
    "![alt text](image-3.png)"
   ]
  },
  {
   "cell_type": "code",
   "execution_count": null,
   "metadata": {},
   "outputs": [],
   "source": [
    "def solution(num):\n",
    "    try_num = 0\n",
    "    while not(num == 1):\n",
    "        if num%2 == 0:\n",
    "            num = num//2\n",
    "        else:\n",
    "            num = num*3+1\n",
    "        try_num += 1\n",
    "        if try_num >500:\n",
    "            return -1\n",
    "    answer = try_num\n",
    "    return answer"
   ]
  },
  {
   "cell_type": "markdown",
   "metadata": {},
   "source": [
    "# 실패율\n",
    "![alt text](image-4.png)  \n",
    "![alt text](image-5.png)  \n",
    "\n"
   ]
  },
  {
   "cell_type": "code",
   "execution_count": 117,
   "metadata": {},
   "outputs": [],
   "source": [
    "from collections import defaultdict\n",
    "def solution(N, stages):\n",
    "    answer = []\n",
    "    fail_dict = defaultdict()\n",
    "    for i in range(N+1):\n",
    "        fail_dict[i+1] = 0\n",
    "    for stage in stages:\n",
    "        fail_dict[stage] +=1\n",
    "    total_num = 0\n",
    "    for idx, stage in enumerate(sorted(fail_dict.keys(), reverse=True)):\n",
    "        fail_num =  fail_dict[stage]\n",
    "        total_num += fail_num\n",
    "        if total_num == 0:\n",
    "            answer.append((stage, 0))\n",
    "        else:\n",
    "            if stage!=N+1:\n",
    "                answer.append((stage, fail_num/total_num))\n",
    "    answer = sorted(answer, key= lambda x:(x[1], -x[0]), reverse=True)\n",
    "    temp = []\n",
    "    if len(answer) == N+1:\n",
    "        answer = answer[:-1]\n",
    "    for idx,_ in answer:\n",
    "        temp.append(idx)\n",
    "    return temp"
   ]
  },
  {
   "cell_type": "code",
   "execution_count": null,
   "metadata": {},
   "outputs": [],
   "source": []
  },
  {
   "cell_type": "code",
   "execution_count": null,
   "metadata": {},
   "outputs": [],
   "source": []
  }
 ],
 "metadata": {
  "kernelspec": {
   "display_name": "Python 3",
   "language": "python",
   "name": "python3"
  },
  "language_info": {
   "codemirror_mode": {
    "name": "ipython",
    "version": 3
   },
   "file_extension": ".py",
   "mimetype": "text/x-python",
   "name": "python",
   "nbconvert_exporter": "python",
   "pygments_lexer": "ipython3",
   "version": "3.11.3"
  }
 },
 "nbformat": 4,
 "nbformat_minor": 2
}
