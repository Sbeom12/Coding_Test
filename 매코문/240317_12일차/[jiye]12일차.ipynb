{
 "cells": [
  {
   "cell_type": "markdown",
   "metadata": {},
   "source": [
    "### [DFS/BFS-네트워크](https://school.programmers.co.kr/learn/courses/30/lessons/43162)"
   ]
  },
  {
   "cell_type": "markdown",
   "metadata": {},
   "source": [
    "![image](image_jiye.png)"
   ]
  },
  {
   "cell_type": "code",
   "execution_count": 28,
   "metadata": {},
   "outputs": [],
   "source": [
    "n=3\n",
    "computers=[[1, 1, 0], [1, 1, 0], [0, 0, 1]]\n",
    "computers=[[1, 1, 0], [1, 1, 1], [0, 1, 1]]"
   ]
  },
  {
   "cell_type": "markdown",
   "metadata": {},
   "source": [
    "+ 0번 컴퓨터 -> 0 번, 1번\n",
    "+ 1번 컴퓨터 -> 0번, 1번\n",
    "+ 2번 컴퓨터 -> 2번"
   ]
  },
  {
   "cell_type": "code",
   "execution_count": 33,
   "metadata": {},
   "outputs": [
    {
     "name": "stdout",
     "output_type": "stream",
     "text": [
      "\n",
      "1번째 network BFS\n",
      "0 1 2 \n",
      "\n",
      "****** ANSWER : 1 ******\n"
     ]
    }
   ],
   "source": [
    "from collections import *\n",
    "que=deque()\n",
    "\n",
    "visited=[False]*n # 방문기록 저장\n",
    "\n",
    "net=0\n",
    "for i in range(n):\n",
    "    que=deque()\n",
    "    \n",
    "    if not visited[i]:\n",
    "        net+=1\n",
    "        print(f'\\n{net}번째 network BFS')\n",
    "        que.append(i)\n",
    "        visited[i]=True # 방문처리\n",
    "        \n",
    "        while que:\n",
    "            v=que.popleft()\n",
    "            print(v,end=' ')\n",
    "            for j in range(n):\n",
    "                if (j!=v) and (computers[v][j]==1) and (visited[j]==False):\n",
    "                    que.append(j)\n",
    "                    visited[j]=True\n",
    "    \n",
    "print(f'\\n\\n****** ANSWER : {net} ******')"
   ]
  },
  {
   "cell_type": "code",
   "execution_count": null,
   "metadata": {},
   "outputs": [],
   "source": []
  }
 ],
 "metadata": {
  "kernelspec": {
   "display_name": "base",
   "language": "python",
   "name": "python3"
  },
  "language_info": {
   "codemirror_mode": {
    "name": "ipython",
    "version": 3
   },
   "file_extension": ".py",
   "mimetype": "text/x-python",
   "name": "python",
   "nbconvert_exporter": "python",
   "pygments_lexer": "ipython3",
   "version": "3.9.13"
  }
 },
 "nbformat": 4,
 "nbformat_minor": 2
}
