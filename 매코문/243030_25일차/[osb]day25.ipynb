{
 "cells": [
  {
   "cell_type": "markdown",
   "metadata": {},
   "source": [
    "# 성격 유형 검사하기\n",
    "![alt text](image.png)  \n",
    "![alt text](image-1.png)  \n",
    "![alt text](image-2.png)  \n",
    "![alt text](image-3.png)"
   ]
  },
  {
   "cell_type": "code",
   "execution_count": 17,
   "metadata": {},
   "outputs": [],
   "source": [
    "def solution(surveys, choices):\n",
    "    rt, cf, an, jm = 0,0,0,0\n",
    "    for idx, survey in enumerate(surveys):\n",
    "        score = choices[idx]-4\n",
    "        if score == 0:\n",
    "            continue\n",
    "        if survey == 'RT':\n",
    "            rt -= score\n",
    "        elif survey == 'TR':\n",
    "            rt += score\n",
    "        elif survey == 'CF':\n",
    "            cf -= score    \n",
    "        elif survey == 'FC':\n",
    "            cf -= score\n",
    "        elif survey == 'AN':\n",
    "            an -= score\n",
    "        elif survey == 'NA':\n",
    "            an += score\n",
    "        elif survey == 'JM':\n",
    "            jm -= score\n",
    "        elif survey == 'MJ':\n",
    "            jm += score\n",
    "    score_list = [rt, cf,jm, an]\n",
    "    personality = ['RT', 'CF', 'JM', 'AN']\n",
    "    answer = ''\n",
    "    for personal, score in zip(personality,score_list):\n",
    "        if score <0:\n",
    "            answer += personal[1]\n",
    "        else:\n",
    "            answer += personal[0]\n",
    "    return answer"
   ]
  },
  {
   "cell_type": "code",
   "execution_count": 18,
   "metadata": {},
   "outputs": [
    {
     "data": {
      "text/plain": [
       "'TCMA'"
      ]
     },
     "execution_count": 18,
     "metadata": {},
     "output_type": "execute_result"
    }
   ],
   "source": [
    "solution([\"AN\", \"CF\", \"MJ\", \"RT\", \"NA\"],[5, 3, 2, 7, 5])"
   ]
  },
  {
   "cell_type": "code",
   "execution_count": null,
   "metadata": {},
   "outputs": [],
   "source": [
    "def solution(surveys, choices):\n",
    "    score_dict = {'R': 0, 'T': 0, 'C': 0, 'F': 0, 'J': 0, 'M': 0, 'A': 0, 'N': 0}\n",
    "    personality_types = [('R', 'T'), ('C', 'F'), ('J', 'M'), ('A', 'N')]\n",
    "\n",
    "    for survey, choice in zip(surveys, choices):\n",
    "        score = choice - 4\n",
    "        if score != 0:\n",
    "            if score < 0:\n",
    "                score_dict[survey[0]] += abs(score)\n",
    "            else:\n",
    "                score_dict[survey[1]] += score\n",
    "\n",
    "    answer = ''\n",
    "    for type1, type2 in personality_types:\n",
    "        if score_dict[type1] >= score_dict[type2]:\n",
    "            answer += type1\n",
    "        else:\n",
    "            answer += type2\n",
    "\n",
    "    return answer"
   ]
  }
 ],
 "metadata": {
  "kernelspec": {
   "display_name": "Python 3",
   "language": "python",
   "name": "python3"
  },
  "language_info": {
   "codemirror_mode": {
    "name": "ipython",
    "version": 3
   },
   "file_extension": ".py",
   "mimetype": "text/x-python",
   "name": "python",
   "nbconvert_exporter": "python",
   "pygments_lexer": "ipython3",
   "version": "3.11.3"
  }
 },
 "nbformat": 4,
 "nbformat_minor": 2
}
