{
 "cells": [
  {
   "cell_type": "markdown",
   "metadata": {},
   "source": [
    "# 연속 부분 수열 합의 개수\n",
    "![alt text](image-1.png)"
   ]
  },
  {
   "cell_type": "code",
   "execution_count": 16,
   "metadata": {},
   "outputs": [
    {
     "data": {
      "text/plain": [
       "18"
      ]
     },
     "execution_count": 16,
     "metadata": {},
     "output_type": "execute_result"
    }
   ],
   "source": [
    "def solution(elements):\n",
    "    len_elements = len(elements)\n",
    "    elements.extend(elements[:-1])\n",
    "    answer_num = set(elements) # n =1\n",
    "    for i in range(2, len_elements+1):\n",
    "        for j in range(0, len_elements+i-1):\n",
    "            temp = elements[j:j+i]\n",
    "            answer_num.add(sum(temp))\n",
    "    return len(answer_num)"
   ]
  },
  {
   "cell_type": "markdown",
   "metadata": {},
   "source": [
    "# 겹치는 선분의 길이\n",
    "![alt text](image.png)"
   ]
  },
  {
   "cell_type": "code",
   "execution_count": 4,
   "metadata": {},
   "outputs": [
    {
     "name": "stdout",
     "output_type": "stream",
     "text": [
      "10 0\n"
     ]
    },
    {
     "data": {
      "text/plain": [
       "8"
      ]
     },
     "execution_count": 4,
     "metadata": {},
     "output_type": "execute_result"
    }
   ],
   "source": [
    "def solution(lines):\n",
    "    line_1, line_2, line_3 = lines\n",
    "    max_x, min_x = max(lines, key=lambda x:x[1])[1], min(lines, key=lambda x:x[0])[0]\n",
    "    print(max_x, min_x)\n",
    "    answer = 0\n",
    "    for i in range(min_x, max_x+1):\n",
    "        count_overlap = 0\n",
    "\n",
    "        if line_1[0] <= i < line_1[1]:\n",
    "            count_overlap += 1\n",
    "        if line_2[0] <= i < line_2[1]:\n",
    "            count_overlap += 1\n",
    "        if line_3[0] <= i < line_3[1]:\n",
    "            count_overlap += 1\n",
    "\n",
    "        if count_overlap >= 2:\n",
    "            answer += 1\n",
    "    return answer\n",
    "solution([[0, 5], [3, 9], [1, 10]])"
   ]
  },
  {
   "cell_type": "markdown",
   "metadata": {},
   "source": [
    "# K진수에서 소수 개수 구하기\n",
    "![alt text](image-2.png)"
   ]
  },
  {
   "cell_type": "code",
   "execution_count": 70,
   "metadata": {},
   "outputs": [
    {
     "name": "stdout",
     "output_type": "stream",
     "text": [
      "211\n",
      "2\n",
      "1\n",
      "1\n",
      "11\n"
     ]
    },
    {
     "data": {
      "text/plain": [
       "3"
      ]
     },
     "execution_count": 70,
     "metadata": {},
     "output_type": "execute_result"
    }
   ],
   "source": [
    "def convert_num(n, k):\n",
    "    digits = []\n",
    "    while n > 0:\n",
    "        digits.append(str(n % k))\n",
    "        n //= k\n",
    "    \n",
    "    return ''.join(digits[::-1])\n",
    "def is_prime(num):\n",
    "    if num == 1:\n",
    "        return False\n",
    "    if num == 2:\n",
    "        return True\n",
    "    for i in range(2, int(num**0.5)+1):\n",
    "        if num % i == 0:\n",
    "            return False\n",
    "    return True\n",
    "\n",
    "def solution(n, k):\n",
    "    answer = 0\n",
    "    n = convert_num(n, k)\n",
    "    num_string = str(n)\n",
    "    for num in num_string.split('0'):\n",
    "        if num == '':\n",
    "            continue\n",
    "        else:\n",
    "            if is_prime(int(num)):\n",
    "                answer += 1\n",
    "    return answer\n",
    "solution(437674,3)"
   ]
  }
 ],
 "metadata": {
  "kernelspec": {
   "display_name": "Python 3",
   "language": "python",
   "name": "python3"
  },
  "language_info": {
   "codemirror_mode": {
    "name": "ipython",
    "version": 3
   },
   "file_extension": ".py",
   "mimetype": "text/x-python",
   "name": "python",
   "nbconvert_exporter": "python",
   "pygments_lexer": "ipython3",
   "version": "3.11.9"
  }
 },
 "nbformat": 4,
 "nbformat_minor": 2
}
