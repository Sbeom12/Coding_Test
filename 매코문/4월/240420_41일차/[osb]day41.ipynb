{
 "cells": [
  {
   "cell_type": "markdown",
   "metadata": {},
   "source": [
    "# 푸드 파이트 대회\n",
    "![alt text](image.png)"
   ]
  },
  {
   "cell_type": "code",
   "execution_count": 1,
   "metadata": {},
   "outputs": [],
   "source": [
    "def solution(foods):\n",
    "    answer_list = []  # 정답을 저장할 문자열 리스트\n",
    "\n",
    "    for idx, food in enumerate(foods[1:], start=1):\n",
    "        if food == 1:\n",
    "            continue\n",
    "        elif food % 2 == 0:\n",
    "            repeated_str = str(idx) * (food // 2)\n",
    "        else:\n",
    "            repeated_str = str(idx) * (food // 2)\n",
    "\n",
    "        answer_list.append(repeated_str)\n",
    "\n",
    "    # 문자열 리스트를 뒤집어서 연결\n",
    "    reversed_str = ''.join(answer_list[::-1])\n",
    "    # 가운데 '0'을 추가하여 최종 정답 생성\n",
    "    answer = ''.join(answer_list) + '0' + reversed_str\n",
    "    return answer"
   ]
  },
  {
   "cell_type": "markdown",
   "metadata": {},
   "source": [
    "# 배열 만들기 2\n",
    "![alt text](image-1.png)"
   ]
  },
  {
   "cell_type": "code",
   "execution_count": 37,
   "metadata": {},
   "outputs": [],
   "source": [
    "from itertools import product\n",
    "def solution(l, r):\n",
    "    answer = []\n",
    "    permus = product(['0','5'], repeat=3)\n",
    "    print(permus)\n",
    "    for permu in permus:\n",
    "        temp = int(permu[0]+permu[1]+permu[2])\n",
    "        if temp >= l and temp <= r:\n",
    "            answer.append(temp)\n",
    "    if len(answer) == 0:\n",
    "        return [-1]\n",
    "    return answer\n"
   ]
  },
  {
   "cell_type": "code",
   "execution_count": 38,
   "metadata": {},
   "outputs": [
    {
     "name": "stdout",
     "output_type": "stream",
     "text": [
      "<itertools.product object at 0x000001E0DB15AD40>\n"
     ]
    },
    {
     "data": {
      "text/plain": [
       "[5, 50, 55, 500, 505, 550, 555]"
      ]
     },
     "execution_count": 38,
     "metadata": {},
     "output_type": "execute_result"
    }
   ],
   "source": [
    "solution(5,555)"
   ]
  },
  {
   "cell_type": "code",
   "execution_count": null,
   "metadata": {},
   "outputs": [],
   "source": []
  }
 ],
 "metadata": {
  "kernelspec": {
   "display_name": "Python 3",
   "language": "python",
   "name": "python3"
  },
  "language_info": {
   "codemirror_mode": {
    "name": "ipython",
    "version": 3
   },
   "file_extension": ".py",
   "mimetype": "text/x-python",
   "name": "python",
   "nbconvert_exporter": "python",
   "pygments_lexer": "ipython3",
   "version": "3.11.3"
  }
 },
 "nbformat": 4,
 "nbformat_minor": 2
}
