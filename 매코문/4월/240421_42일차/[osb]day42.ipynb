{
 "cells": [
  {
   "cell_type": "markdown",
   "metadata": {},
   "source": [
    "# 최빈값 구하기\n",
    "![alt text](image.png)"
   ]
  },
  {
   "cell_type": "code",
   "execution_count": 7,
   "metadata": {},
   "outputs": [],
   "source": [
    "from collections import Counter\n",
    "def solution(array):\n",
    "    answer = 0\n",
    "    count = Counter(array)\n",
    "    if len(count.keys()) == 1:\n",
    "        return array[0]\n",
    "    commom = count.most_common(2)\n",
    "    max_num1, num1_count, num2_count = commom[0][0],  commom[0][1], commom[1][1]\n",
    "    if num1_count == num2_count:\n",
    "        return -1\n",
    "    return max_num1"
   ]
  },
  {
   "cell_type": "markdown",
   "metadata": {},
   "source": [
    "# 다항식 더하기\n",
    "![alt text](image-1.png)"
   ]
  },
  {
   "cell_type": "code",
   "execution_count": null,
   "metadata": {},
   "outputs": [],
   "source": [
    "def solution(polynomial):\n",
    "    split_poly = polynomial.split(' + ')\n",
    "    num, x_num = 0,0\n",
    "    for data in split_poly:\n",
    "        if data == 'x':\n",
    "            x_num += 1\n",
    "        elif 'x' in data:\n",
    "            x_num += int(data.split('x')[0])\n",
    "        else:\n",
    "            num += int(data)\n",
    "\n",
    "    if x_num == 1 and num == 0 :\n",
    "        return f'x'\n",
    "    if x_num == 0:\n",
    "        return f'{num}'\n",
    "    if x_num ==1:\n",
    "        return f'x + {num}'\n",
    "    if num == 0:\n",
    "        return f'{x_num}x'\n",
    "    return f'{x_num}x + {num}'"
   ]
  }
 ],
 "metadata": {
  "kernelspec": {
   "display_name": "Python 3",
   "language": "python",
   "name": "python3"
  },
  "language_info": {
   "codemirror_mode": {
    "name": "ipython",
    "version": 3
   },
   "file_extension": ".py",
   "mimetype": "text/x-python",
   "name": "python",
   "nbconvert_exporter": "python",
   "pygments_lexer": "ipython3",
   "version": "3.11.3"
  }
 },
 "nbformat": 4,
 "nbformat_minor": 2
}
