{
 "cells": [
  {
   "cell_type": "markdown",
   "metadata": {},
   "source": [
    "# 광물 캐기\n",
    "![alt text](image.png)  \n",
    "![alt text](image-1.png)"
   ]
  },
  {
   "cell_type": "code",
   "execution_count": 12,
   "metadata": {},
   "outputs": [
    {
     "data": {
      "text/plain": [
       "3"
      ]
     },
     "execution_count": 12,
     "metadata": {},
     "output_type": "execute_result"
    }
   ],
   "source": [
    "pick_dict = {'diamond': 1, 'iron': 1, 'stone': 1}\n",
    "sum(pick_dict.values())from itertools import permutations\n",
    "def solution(picks, minerals):\n",
    "    answer = 0\n",
    "    len_minerals = len(minerals)\n",
    "    diamond, iron, stone = picks\n",
    "    picks_list = ['diamond']*diamond + ['iron']*iron + ['stone']*stone\n",
    "    len_pick = len(picks_list)\n",
    "    if len_minerals >= len_pick*5:\n",
    "        permuts = permutations(picks_list, len_pick)\n",
    "    else:\n",
    "        permuts = permutations(picks_list,int(len_minerals/5)+1)\n",
    "    min_answer = 1e9\n",
    "    for permut in permuts:\n",
    "        idx = 0\n",
    "        answer = 0\n",
    "        for pick in permut:\n",
    "            if idx >= len_minerals:\n",
    "                break\n",
    "            elif pick == 'diamond':\n",
    "                for _ in range(5):\n",
    "                    if idx >= len_minerals:\n",
    "                        break\n",
    "                    answer += 1\n",
    "                    idx += 1\n",
    "                continue\n",
    "            elif pick == 'iron':\n",
    "                for _ in range(5):\n",
    "                    if idx >= len_minerals:\n",
    "                        break\n",
    "                    elif minerals[idx] == 'diamond':\n",
    "                        answer += 5\n",
    "                    elif minerals[idx] == 'iron':\n",
    "                        answer += 1\n",
    "                    elif minerals[idx] == 'stone':\n",
    "                        answer += 1\n",
    "                    idx += 1\n",
    "                continue\n",
    "            elif pick == 'stone':\n",
    "                for _ in range(5):\n",
    "                    if idx >= len_minerals:\n",
    "                        break\n",
    "                    elif minerals[idx] == 'diamond':\n",
    "                        answer += 25\n",
    "                    elif minerals[idx] == 'iron':\n",
    "                        answer += 5\n",
    "                    elif minerals[idx] == 'stone':\n",
    "                        answer += 1\n",
    "                    idx += 1\n",
    "                continue\n",
    "        min_answer = min(min_answer,answer)\n",
    "    return min_answer"
   ]
  },
  {
   "cell_type": "code",
   "execution_count": 20,
   "metadata": {},
   "outputs": [
    {
     "name": "stdout",
     "output_type": "stream",
     "text": [
      "[['diamond', 'diamond', 'diamond', 'diamond', 'diamond'], 125]\n",
      "pick iron\n",
      "[['iron', 'iron', 'iron', 'iron', 'iron'], 25]\n",
      "pick stone\n"
     ]
    },
    {
     "data": {
      "text/plain": [
       "50"
      ]
     },
     "execution_count": 20,
     "metadata": {},
     "output_type": "execute_result"
    }
   ],
   "source": [
    "def solution(picks, minerals):\n",
    "    answer = 0\n",
    "    fatigue_dict = {'diamond' : 25, 'iron' : 5, 'stone' : 1} # 철곡갱이 기준.\n",
    "    sum_picks = sum(picks)\n",
    "    mine_list = []\n",
    "    diamond, iron, stone = picks\n",
    "    pick_dict = {'diamond': diamond, 'iron': iron, 'stone': stone}\n",
    "    for i in range(sum_picks) :\n",
    "        s = minerals[i*5 : i*5 + 5]\n",
    "        count = 0\n",
    "        if len(s) != 0 :\n",
    "            for j in s :\n",
    "                count += fatigue_dict[j]\n",
    "            mine_list.append([s,count])\n",
    "    mine_list.sort(key = lambda x : x[1])\n",
    "    # 우선 순위가 높을 수록 좋은 곡갱이 사용.\n",
    "    while len(mine_list) != 0 :\n",
    "        mining = mine_list.pop()\n",
    "        if pick_dict['diamond']  != 0 : # 다이아 곡갱이를 사용 가능 시\n",
    "            answer += len(mining[0])\n",
    "            pick_dict['diamond'] -= 1\n",
    "        elif pick_dict['iron'] != 0 : # 철 곡갱이 사용 가능 시\n",
    "            for i in mining[0] :\n",
    "                if i == 'diamond' :\n",
    "                    answer += 5\n",
    "                else :\n",
    "                    answer += 1\n",
    "            pick_dict['iron'] -= 1\n",
    "        else : # 돌 곡갱이를 사용 가능 시\n",
    "            for i in mining[0] :\n",
    "                if i == 'diamond' :\n",
    "                    answer += 25\n",
    "                elif i == 'iron' : \n",
    "                    answer += 5\n",
    "                else :\n",
    "                    answer += 1\n",
    "            pick_dict['stone'] -= 1\n",
    "    return answer\n",
    "solution([0, 1, 1],[\"diamond\", \"diamond\", \"diamond\", \"diamond\", \"diamond\", \"iron\", \"iron\", \"iron\", \"iron\", \"iron\", \"diamond\"])"
   ]
  },
  {
   "cell_type": "markdown",
   "metadata": {},
   "source": [
    "# 다리를 지나는 트럭\n",
    "![alt text](image-2.png)"
   ]
  },
  {
   "cell_type": "code",
   "execution_count": null,
   "metadata": {},
   "outputs": [],
   "source": [
    "from collections import deque\n",
    "\n",
    "def solution(bridge_length, weight, truck_weights):\n",
    "    answer = 0\n",
    "    onbridge = deque([0] * bridge_length)\n",
    "    total_weight = 0\n",
    "    truck_weights = deque(truck_weights)\n",
    "\n",
    "    while onbridge:\n",
    "        answer += 1\n",
    "        total_weight -= onbridge.popleft()\n",
    "\n",
    "        if truck_weights:\n",
    "            if total_weight + truck_weights[0] <= weight:\n",
    "                truck = truck_weights.popleft()\n",
    "                onbridge.append(truck)\n",
    "                total_weight += truck\n",
    "            else:\n",
    "                onbridge.append(0)\n",
    "\n",
    "    return answer"
   ]
  }
 ],
 "metadata": {
  "kernelspec": {
   "display_name": "Python 3",
   "language": "python",
   "name": "python3"
  },
  "language_info": {
   "codemirror_mode": {
    "name": "ipython",
    "version": 3
   },
   "file_extension": ".py",
   "mimetype": "text/x-python",
   "name": "python",
   "nbconvert_exporter": "python",
   "pygments_lexer": "ipython3",
   "version": "3.11.9"
  }
 },
 "nbformat": 4,
 "nbformat_minor": 2
}
