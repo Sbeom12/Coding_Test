{
 "cells": [
  {
   "cell_type": "markdown",
   "metadata": {},
   "source": [
    "# 카드 뭉치\n",
    "![alt text](image.png)"
   ]
  },
  {
   "cell_type": "code",
   "execution_count": 14,
   "metadata": {},
   "outputs": [],
   "source": [
    "def solution(cards1, cards2, goal):\n",
    "    card1_idx, card2_idx = 0, 0\n",
    "    len_card1, len_card2 = len(cards1), len(cards2)\n",
    "\n",
    "    for word in goal:\n",
    "        if card1_idx < len_card1 and word == cards1[card1_idx]:\n",
    "            card1_idx += 1\n",
    "        elif card2_idx < len_card2 and word == cards2[card2_idx]:\n",
    "            card2_idx += 1\n",
    "        else:\n",
    "            return \"No\"\n",
    "\n",
    "    return \"Yes\""
   ]
  },
  {
   "cell_type": "markdown",
   "metadata": {},
   "source": [
    "# 옹알이 2\n",
    "![alt text](image-1.png)"
   ]
  },
  {
   "cell_type": "code",
   "execution_count": 55,
   "metadata": {},
   "outputs": [],
   "source": [
    "def check_babbling(string):\n",
    "    temp_babbling = ['aya','ye','woo','ma']\n",
    "    if string in temp_babbling:\n",
    "        return True\n",
    "    idx = 0\n",
    "    check_aya, check_ye, check_woo, check_ma = True, True, True, True\n",
    "    while idx < len(string):\n",
    "        if idx+3 <= len(string) and string[idx:idx+3] == 'aya' and check_aya:\n",
    "                check_aya, check_ye, check_woo, check_ma = False, True, True, True\n",
    "                idx +=3\n",
    "        elif idx+3 <= len(string) and  string[idx:idx+3] == 'woo' and check_woo:\n",
    "                check_aya, check_ye, check_woo, check_ma = True, True, False, True\n",
    "                idx +=3\n",
    "        elif idx+2 <= len(string) and string[idx:idx+2] == 'ye' and check_ye:\n",
    "                check_aya, check_ye, check_woo, check_ma = True, False, True, True\n",
    "                idx +=2\n",
    "        elif idx+2 <= len(string) and string[idx:idx+2] == 'ma' and check_ma:\n",
    "                check_aya, check_ye, check_woo, check_ma = True, True, True, False\n",
    "                idx +=2\n",
    "        else:\n",
    "            return False\n",
    "    return True\n",
    "\n",
    "def solution(babblings):\n",
    "    answer = 0\n",
    "    for babbling in babblings:\n",
    "        if check_babbling(babbling):\n",
    "            answer +=1\n",
    "    return answer"
   ]
  }
 ],
 "metadata": {
  "kernelspec": {
   "display_name": "Python 3",
   "language": "python",
   "name": "python3"
  },
  "language_info": {
   "codemirror_mode": {
    "name": "ipython",
    "version": 3
   },
   "file_extension": ".py",
   "mimetype": "text/x-python",
   "name": "python",
   "nbconvert_exporter": "python",
   "pygments_lexer": "ipython3",
   "version": "3.11.8"
  }
 },
 "nbformat": 4,
 "nbformat_minor": 2
}
