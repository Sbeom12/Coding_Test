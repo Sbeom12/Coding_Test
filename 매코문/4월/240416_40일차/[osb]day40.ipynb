{
 "cells": [
  {
   "cell_type": "markdown",
   "metadata": {},
   "source": [
    "# 특이한 정렬\n",
    "![alt text](image.png)"
   ]
  },
  {
   "cell_type": "code",
   "execution_count": 30,
   "metadata": {},
   "outputs": [
    {
     "data": {
      "text/plain": [
       "[4, 5, 3, 6, 2, 1]"
      ]
     },
     "execution_count": 30,
     "metadata": {},
     "output_type": "execute_result"
    }
   ],
   "source": [
    "def solution(numlist, n):\n",
    "    answer = sorted(numlist, key=lambda x: (abs(x-n), -x))\n",
    "    return answer\n",
    "solution([1, 2, 3, 4, 5, 6],4)"
   ]
  },
  {
   "cell_type": "markdown",
   "metadata": {},
   "source": [
    "# 행렬의 덧셈\n",
    "![alt text](image-1.png)"
   ]
  },
  {
   "cell_type": "code",
   "execution_count": null,
   "metadata": {},
   "outputs": [],
   "source": [
    "def solution(arr1, arr2):\n",
    "    answer = []\n",
    "    for nums1, nums2 in zip(arr1, arr2):\n",
    "        temp = []\n",
    "        for num1, num2 in zip(nums1, nums2):\n",
    "            temp.append(num1 + num2)\n",
    "        answer.append(temp)\n",
    "    return answer"
   ]
  },
  {
   "cell_type": "markdown",
   "metadata": {},
   "source": [
    "# 나머지가 1이 되는 수 찾기\n",
    "![alt text](image-2.png)"
   ]
  },
  {
   "cell_type": "code",
   "execution_count": null,
   "metadata": {},
   "outputs": [],
   "source": [
    "def solution(n):\n",
    "    answer = 0\n",
    "    for i in range(1, n):\n",
    "        if n % i == 1:\n",
    "            return i"
   ]
  },
  {
   "cell_type": "markdown",
   "metadata": {},
   "source": [
    "# 기사단원의 무기\n",
    "![alt text](image-3.png)"
   ]
  },
  {
   "cell_type": "code",
   "execution_count": 26,
   "metadata": {},
   "outputs": [],
   "source": [
    "import math\n",
    "def check_divisor(num):\n",
    "    divisor = 0\n",
    "    for i in range(1, math.ceil(num**0.5)):\n",
    "        if num % i == 0:\n",
    "            divisor +=1\n",
    "    divisor *= 2\n",
    "    if num % (num**0.5) == 0:\n",
    "        divisor +=1\n",
    "    return divisor\n",
    "def solution(number, limit, power):\n",
    "    answer = 0\n",
    "    for i in range(1, number+1):\n",
    "        divisor = check_divisor(i)\n",
    "        if divisor > limit:\n",
    "            answer += power\n",
    "        else:\n",
    "            answer += divisor\n",
    "    return answer"
   ]
  }
 ],
 "metadata": {
  "kernelspec": {
   "display_name": "Python 3",
   "language": "python",
   "name": "python3"
  },
  "language_info": {
   "codemirror_mode": {
    "name": "ipython",
    "version": 3
   },
   "file_extension": ".py",
   "mimetype": "text/x-python",
   "name": "python",
   "nbconvert_exporter": "python",
   "pygments_lexer": "ipython3",
   "version": "3.11.9"
  }
 },
 "nbformat": 4,
 "nbformat_minor": 2
}
