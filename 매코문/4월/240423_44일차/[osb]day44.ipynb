{
 "cells": [
  {
   "cell_type": "markdown",
   "metadata": {},
   "source": [
    "# 다음에 올 숫자\n",
    "![alt text](image.png)"
   ]
  },
  {
   "cell_type": "code",
   "execution_count": null,
   "metadata": {},
   "outputs": [],
   "source": [
    "def check_num(num_list):\n",
    "    num1, num2, num3 = num_list[0], num_list[1], num_list[2]\n",
    "    diff1, diff2 = num2- num1, num3 - num2\n",
    "    if diff1 == diff2:\n",
    "        return (1, diff1)\n",
    "    else:\n",
    "        return (2, num2//num1)\n",
    "def solution(common):\n",
    "\n",
    "    result, diff = check_num(common)\n",
    "    if result == 1:\n",
    "        return common[-1]+diff\n",
    "    else:\n",
    "        answer = common[0]\n",
    "        for i in range(1, len(common)+1):\n",
    "            answer *= diff\n",
    "        return answer\n"
   ]
  },
  {
   "cell_type": "markdown",
   "metadata": {},
   "source": [
    "# 연속된 수의 합\n",
    "![alt text](image-1.png)"
   ]
  },
  {
   "cell_type": "code",
   "execution_count": null,
   "metadata": {},
   "outputs": [],
   "source": [
    "def solution(num, total):\n",
    "    answer = []\n",
    "    num_list = []\n",
    "    for i in range(-50, 1000, 1):\n",
    "        num_list.append(i)\n",
    "    for i in range(len(num_list)-num):\n",
    "        if sum(num_list[i:i+num]) == total:\n",
    "            return num_list[i:i+num]"
   ]
  },
  {
   "cell_type": "markdown",
   "metadata": {},
   "source": [
    "# [PCCE 기출문제] 8번 / 창고 정리\n",
    "![alt text](image-2.png)"
   ]
  },
  {
   "cell_type": "code",
   "execution_count": 5,
   "metadata": {},
   "outputs": [],
   "source": [
    "def solution(storage, num):\n",
    "    clean_storage = []\n",
    "    clean_num = []\n",
    "    for i in range(len(storage)):\n",
    "        if storage[i] in clean_storage:\n",
    "            pos = clean_storage.index(storage[i])\n",
    "            clean_num[pos] += num[i]\n",
    "        else:\n",
    "            clean_storage.append(storage[i])\n",
    "            clean_num.append(num[i])\n",
    "            \n",
    "    # 아래 코드에는 틀린 부분이 없습니다.\n",
    "            \n",
    "    max_num = max(clean_num)\n",
    "    answer = clean_storage[clean_num.index(max_num)]\n",
    "    return answer"
   ]
  }
 ],
 "metadata": {
  "kernelspec": {
   "display_name": "Python 3",
   "language": "python",
   "name": "python3"
  },
  "language_info": {
   "codemirror_mode": {
    "name": "ipython",
    "version": 3
   },
   "file_extension": ".py",
   "mimetype": "text/x-python",
   "name": "python",
   "nbconvert_exporter": "python",
   "pygments_lexer": "ipython3",
   "version": "3.11.9"
  }
 },
 "nbformat": 4,
 "nbformat_minor": 2
}
