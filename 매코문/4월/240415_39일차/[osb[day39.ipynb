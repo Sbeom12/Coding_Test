{
 "cells": [
  {
   "cell_type": "markdown",
   "metadata": {},
   "source": [
    "# 약수의 개수와 덧셈.  \n",
    "![alt text](image.png)"
   ]
  },
  {
   "cell_type": "code",
   "execution_count": 5,
   "metadata": {},
   "outputs": [],
   "source": [
    "def solution(left, right):\n",
    "    answer = 0\n",
    "    for num in range(left, right+1):\n",
    "        temp = 0\n",
    "        for i in range(1,int(num**0.5)):\n",
    "            if num&i == 0:\n",
    "                temp +=1\n",
    "        temp *= 2\n",
    "        if num%(num**0.5)==0:\n",
    "            temp += 1\n",
    "        if temp % 2 == 0:\n",
    "            answer += num\n",
    "        elif temp % 2 == 1:\n",
    "            answer -= num\n",
    "    return answer"
   ]
  },
  {
   "cell_type": "markdown",
   "metadata": {},
   "source": [
    "# 등차수열의 특정한 항만 더하기\n",
    "![alt text](image-1.png)"
   ]
  },
  {
   "cell_type": "code",
   "execution_count": null,
   "metadata": {},
   "outputs": [],
   "source": [
    "def solution(a, d, included):\n",
    "    answer = 0\n",
    "    for check in included:\n",
    "        if check:\n",
    "            answer += a\n",
    "        a+=d\n",
    "    return answer"
   ]
  },
  {
   "cell_type": "markdown",
   "metadata": {},
   "source": [
    "# 숫자 짝꿍\n",
    "![alt text](image-2.png)"
   ]
  },
  {
   "cell_type": "code",
   "execution_count": 23,
   "metadata": {},
   "outputs": [],
   "source": [
    "def solution(X, Y):\n",
    "    count_X = [0] * 10\n",
    "    count_Y = [0] * 10\n",
    "    \n",
    "    for num in X:\n",
    "        count_X[int(num)] += 1\n",
    "    \n",
    "    for num in Y:\n",
    "        count_Y[int(num)] += 1\n",
    "    \n",
    "    answer = []\n",
    "    for num in range(9, -1, -1):\n",
    "        count = min(count_X[num], count_Y[num])\n",
    "        answer.extend([str(num)] * count)\n",
    "    \n",
    "    if not answer:\n",
    "        return '-1'\n",
    "    elif answer[0] == '0':\n",
    "        return '0'\n",
    "    else:\n",
    "        return ''.join(answer)"
   ]
  },
  {
   "cell_type": "markdown",
   "metadata": {},
   "source": [
    "# 추억 점수\n",
    "![alt text](image-3.png)"
   ]
  },
  {
   "cell_type": "code",
   "execution_count": 24,
   "metadata": {},
   "outputs": [],
   "source": [
    "def solution(names, yearning, photos):\n",
    "    answer = []\n",
    "    score_dict = {}\n",
    "    for name, score in zip(names, yearning):\n",
    "        score_dict[name] = score\n",
    "    for photo in photos:\n",
    "        temp = 0\n",
    "        for name in photo:\n",
    "            if name in score_dict:\n",
    "                temp += score_dict[name]\n",
    "        answer.append(temp)\n",
    "    return answer"
   ]
  }
 ],
 "metadata": {
  "kernelspec": {
   "display_name": "Python 3",
   "language": "python",
   "name": "python3"
  },
  "language_info": {
   "codemirror_mode": {
    "name": "ipython",
    "version": 3
   },
   "file_extension": ".py",
   "mimetype": "text/x-python",
   "name": "python",
   "nbconvert_exporter": "python",
   "pygments_lexer": "ipython3",
   "version": "3.11.9"
  }
 },
 "nbformat": 4,
 "nbformat_minor": 2
}
