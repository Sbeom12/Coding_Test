{
 "cells": [
  {
   "cell_type": "markdown",
   "metadata": {},
   "source": [
    "# 직사각형 넓이 구하기\n",
    "![alt text](image.png)"
   ]
  },
  {
   "cell_type": "code",
   "execution_count": 1,
   "metadata": {},
   "outputs": [
    {
     "data": {
      "text/plain": [
       "-1"
      ]
     },
     "execution_count": 1,
     "metadata": {},
     "output_type": "execute_result"
    }
   ],
   "source": [
    "def solution(dots):\n",
    "    answer = 0\n",
    "    dots = sorted(dots, key = lambda x: (x[0], x[1]))\n",
    "    x = dots[2][0] - dots[0][0] # x길이\n",
    "    y = dots[1][1] - dots[0][1] # y길이\n",
    "    return x*y"
   ]
  },
  {
   "cell_type": "markdown",
   "metadata": {},
   "source": [
    "# [PCCE 기출문제] 6번 / 가채점\n",
    "![alt text](image-1.png)"
   ]
  },
  {
   "cell_type": "code",
   "execution_count": null,
   "metadata": {},
   "outputs": [],
   "source": [
    "def solution(numbers, our_score, score_list):\n",
    "    answer = []\n",
    "    for i in range(len(numbers)):\n",
    "        if our_score[i] == score_list[numbers[i]-1]: # 변경된 코드\n",
    "            answer.append(\"Same\")\n",
    "        else:\n",
    "            answer.append(\"Different\")\n",
    "    \n",
    "    return answer"
   ]
  },
  {
   "cell_type": "markdown",
   "metadata": {},
   "source": [
    "# OX퀴즈\n",
    "![alt text](image-2.png)"
   ]
  },
  {
   "cell_type": "code",
   "execution_count": null,
   "metadata": {},
   "outputs": [],
   "source": [
    "def check_result(num1, num2):\n",
    "    if num1 == num2:\n",
    "        return 'O'\n",
    "    else:\n",
    "        return 'X'\n",
    "def solution(quiz):\n",
    "    answer = []\n",
    "    for quiz in quiz:\n",
    "        num1, sign, num2, _, num3 = quiz.split()\n",
    "        if sign == '-':\n",
    "            result = int(num1) - int(num2)\n",
    "            answer.append(check_result(result, int(num3)))\n",
    "        else:\n",
    "            result = int(num1) + int(num2)\n",
    "            answer.append(check_result(result, int(num3)))\n",
    "    return answer"
   ]
  },
  {
   "cell_type": "markdown",
   "metadata": {},
   "source": [
    "# [PCCP 기출문제] 2번 / 석유 시추\n",
    "![alt text](image-3.png)  \n",
    "![alt text](image-4.png)"
   ]
  },
  {
   "cell_type": "code",
   "execution_count": 22,
   "metadata": {},
   "outputs": [],
   "source": [
    "from collections import deque\n",
    "\n",
    "# 그룹, 방문 여부, 그룹 넘버 변수\n",
    "group, visited = {}, {}\n",
    "group_count = 0\n",
    "n, m = 0, 0\n",
    "movement = [(0, -1), (0, 1), (1, 0), (-1, 0)]  # 이동 방향 정의\n",
    "\n",
    "def bfs(sx, sy, visited, group, land):\n",
    "\n",
    "    #너비 우선 탐색을 통해 그룹을 찾아내고 그룹의 크기를 계산\n",
    "    global group_count, n, m\n",
    "    count = 1\n",
    "    queue = deque([(sx, sy)])\n",
    "    visited[(sx, sy)] = group_count\n",
    "\n",
    "    while queue:\n",
    "        x, y = queue.popleft()\n",
    "\n",
    "        for dx, dy in movement:\n",
    "            nx, ny = x + dx, y + dy\n",
    "\n",
    "            # 유효한 범위 내에 있고, 석유가 들었고 방문하지 않았다면 추가\n",
    "            if 0 <= nx < n and 0 <= ny < m and land[nx][ny] != 0 and (nx, ny) not in visited:\n",
    "                visited[(nx, ny)] = group_count\n",
    "                queue.append((nx, ny))\n",
    "                count += 1\n",
    "\n",
    "    group[group_count] = count\n",
    "    group_count += 1\n",
    "\n",
    "\n",
    "def solution(land):\n",
    "    global n, m\n",
    "    n, m = len(land), len(land[0])\n",
    "\n",
    "    # BFS를 통해 그룹을 찾아내고 그룹의 크기를 계산\n",
    "    for row in range(n):\n",
    "        for col in range(m):\n",
    "            if (row, col) not in visited and land[row][col] != 0:\n",
    "                bfs(row, col, visited, group, land)\n",
    "\n",
    "    maximum = 0\n",
    "    \n",
    "    # 각 열에 대해 그룹을 찾아서 석유의 양을 계산\n",
    "    for col in range(m):\n",
    "        visited2 = {}\n",
    "        oil = 0\n",
    "\n",
    "        for row in range(n):\n",
    "            if land[row][col] != 0:\n",
    "                cur_group = visited[(row, col)]\n",
    "\n",
    "                # 이미 계산한 그룹이면 skip\n",
    "                if cur_group in visited2:\n",
    "                    continue\n",
    "\n",
    "                count = group[cur_group]\n",
    "                oil += count\n",
    "                visited2[cur_group] = True\n",
    "\n",
    "        maximum = max(maximum, oil)\n",
    "\n",
    "    return maximum"
   ]
  }
 ],
 "metadata": {
  "kernelspec": {
   "display_name": "Python 3",
   "language": "python",
   "name": "python3"
  },
  "language_info": {
   "codemirror_mode": {
    "name": "ipython",
    "version": 3
   },
   "file_extension": ".py",
   "mimetype": "text/x-python",
   "name": "python",
   "nbconvert_exporter": "python",
   "pygments_lexer": "ipython3",
   "version": "3.11.9"
  }
 },
 "nbformat": 4,
 "nbformat_minor": 2
}
