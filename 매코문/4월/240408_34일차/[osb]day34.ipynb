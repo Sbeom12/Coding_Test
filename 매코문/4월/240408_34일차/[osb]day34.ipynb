{
 "cells": [
  {
   "cell_type": "markdown",
   "metadata": {},
   "source": [
    "# 코드 처리하기  \n",
    "![alt text](image.png)  "
   ]
  },
  {
   "cell_type": "code",
   "execution_count": 5,
   "metadata": {},
   "outputs": [],
   "source": [
    "def solution(code):\n",
    "    mode = 0\n",
    "    answer = ''\n",
    "    for idx,val in enumerate(code):\n",
    "        if val == '1':\n",
    "            mode += 1\n",
    "            mode = mode%2\n",
    "        elif idx %2 ==mode:\n",
    "            answer += val\n",
    "    \n",
    "    return answer"
   ]
  },
  {
   "cell_type": "markdown",
   "metadata": {},
   "source": [
    "# 휴대폰 자판  \n",
    "![alt text](image-2.png)"
   ]
  },
  {
   "cell_type": "code",
   "execution_count": 16,
   "metadata": {},
   "outputs": [],
   "source": [
    "def solution(keymap, targets):\n",
    "    key_index = {}\n",
    "    for keys in keymap:\n",
    "        for idx, key in enumerate(keys,1):\n",
    "            if key not in key_index:\n",
    "                key_index[key] = idx\n",
    "            elif key_index[key] > idx:\n",
    "                key_index[key] = idx\n",
    "    answer = []\n",
    "    for target in targets:\n",
    "        total_push = 0\n",
    "        for alphabet in target:\n",
    "            if alphabet not in key_index:\n",
    "                answer.append(-1)\n",
    "                break\n",
    "            total_push+= key_index[alphabet]\n",
    "        answer.append(total_push)\n",
    "    \n",
    "    return answer"
   ]
  },
  {
   "cell_type": "markdown",
   "metadata": {},
   "source": [
    "# 이상한 문자 만들기\n",
    "![alt text](image-1.png)"
   ]
  },
  {
   "cell_type": "code",
   "execution_count": 18,
   "metadata": {},
   "outputs": [],
   "source": [
    "def solution(s):\n",
    "    answer = ''\n",
    "    index = -1\n",
    "    for val in s.lower():\n",
    "        if val == ' ':\n",
    "            answer += ' '\n",
    "            index = -1\n",
    "        elif index >= 0 and index%2 == 0:\n",
    "            answer += val.upper()\n",
    "        elif index >= 0 and index%2 == 1:\n",
    "            answer += val.lower()\n",
    "        index += 1\n",
    "\n",
    "    return answer"
   ]
  }
 ],
 "metadata": {
  "kernelspec": {
   "display_name": "Python 3",
   "language": "python",
   "name": "python3"
  },
  "language_info": {
   "codemirror_mode": {
    "name": "ipython",
    "version": 3
   },
   "file_extension": ".py",
   "mimetype": "text/x-python",
   "name": "python",
   "nbconvert_exporter": "python",
   "pygments_lexer": "ipython3",
   "version": "3.11.9"
  }
 },
 "nbformat": 4,
 "nbformat_minor": 2
}
