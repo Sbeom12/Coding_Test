{
 "cells": [
  {
   "cell_type": "markdown",
   "metadata": {},
   "source": [
    "# 달리기 경주\n",
    "![alt text](image.png)"
   ]
  },
  {
   "cell_type": "code",
   "execution_count": 15,
   "metadata": {},
   "outputs": [],
   "source": [
    "def solution(players, callings):\n",
    "    # idx:player, player:idx 순서로 딕셔너리 저장\n",
    "    idx_dict = {idx:player for idx, player in enumerate(players)}\n",
    "    player_dict = {player:idx for idx, player in enumerate(players)}\n",
    "    for calling in callings:\n",
    "        idx = player_dict[calling]-1\n",
    "        change_player = idx_dict[idx]\n",
    "        # 값 업데이트\n",
    "        player_dict[calling] -= 1\n",
    "        player_dict[change_player] += 1\n",
    "        idx_dict[idx] = calling\n",
    "        idx_dict[idx+1] = change_player\n",
    "    answer = []\n",
    "    for idx, player in idx_dict.items():\n",
    "        answer.append(player)\n",
    "    return answer"
   ]
  },
  {
   "cell_type": "markdown",
   "metadata": {},
   "source": [
    "# 시저 암호\n",
    "![alt text](image-1.png)"
   ]
  },
  {
   "cell_type": "code",
   "execution_count": null,
   "metadata": {},
   "outputs": [],
   "source": [
    "def solution(strings, n):\n",
    "    capital = 'ABCDEFGHIJKLMNOPQRSTUVWXYZ'\n",
    "    cap_dict = {val: i for i, val in enumerate(capital)} # comprehension\n",
    "    lower =  'abcdefghijklmnopqrstuvwxyz'\n",
    "    low_dict = {val: i for i, val in enumerate(lower)} # comprehension\n",
    "    answer = ''\n",
    "    for alphabet in strings:\n",
    "        # idx 계산\n",
    "        if alphabet == ' ':\n",
    "            answer += ' '\n",
    "        elif alphabet in capital:\n",
    "            idx = cap_dict[alphabet]\n",
    "            idx = (idx+n)%26\n",
    "            answer += capital[idx]\n",
    "        elif alphabet in lower:\n",
    "            idx = low_dict[alphabet]\n",
    "            idx = (idx+n)%26\n",
    "            answer += lower[idx]\n",
    "    return answer"
   ]
  }
 ],
 "metadata": {
  "kernelspec": {
   "display_name": "Python 3",
   "language": "python",
   "name": "python3"
  },
  "language_info": {
   "codemirror_mode": {
    "name": "ipython",
    "version": 3
   },
   "file_extension": ".py",
   "mimetype": "text/x-python",
   "name": "python",
   "nbconvert_exporter": "python",
   "pygments_lexer": "ipython3",
   "version": "3.11.8"
  }
 },
 "nbformat": 4,
 "nbformat_minor": 2
}
