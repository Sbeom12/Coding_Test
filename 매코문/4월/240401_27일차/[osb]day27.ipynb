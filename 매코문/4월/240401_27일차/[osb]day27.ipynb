{
 "cells": [
  {
   "cell_type": "markdown",
   "metadata": {},
   "source": [
    "# [PCCE 기출] 10번 데이터 분석\n",
    "![alt text](image.png)  \n",
    "![alt text](image-1.png)\n"
   ]
  },
  {
   "cell_type": "code",
   "execution_count": 13,
   "metadata": {},
   "outputs": [],
   "source": [
    "def solution(datas, ext, val_ext, sort_by):\n",
    "    sort_dict = {'remain' : 3, 'maximum' : 2, 'date': 1, 'code': 0}\n",
    "    condition = sort_dict[ext]\n",
    "    answer = []\n",
    "    for data in datas:\n",
    "        if data[condition] < val_ext:\n",
    "            answer.append(data)\n",
    "    answer = sorted(answer, key =lambda x : x[sort_dict[sort_by]]) # 정렬 기준으로 오름차순 정렬.\n",
    "    return answer"
   ]
  },
  {
   "cell_type": "markdown",
   "metadata": {},
   "source": [
    "# 신규 아이디 추천\n",
    "![alt text](image-2.png)  \n",
    "![alt text](image-3.png)"
   ]
  },
  {
   "cell_type": "code",
   "execution_count": 62,
   "metadata": {},
   "outputs": [],
   "source": [
    "def solution(new_id):\n",
    "    # 1단계\n",
    "    new_id = new_id.lower()\n",
    "    # 2단계\n",
    "    condition = 'abcdefghijklmnopqrstuvwxyz-_.0123456789'\n",
    "    period_in_row = False\n",
    "    answer = ''\n",
    "    for val in new_id:\n",
    "        if val not in condition:\n",
    "            continue\n",
    "        # 3단계\n",
    "        if not period_in_row and val == '.': # 처음으로 . 들어온경우\n",
    "            period_in_row = True\n",
    "        elif period_in_row and val == '.': # .이 연속으로 들어온 경우\n",
    "            continue\n",
    "        elif val != '.':  \n",
    "            period_in_row = False\n",
    "        answer += val\n",
    "    # 4단계 \n",
    "    answer = answer.strip('.')\n",
    "\n",
    "    # 5단계 길이 0 방지\n",
    "    if not answer:\n",
    "        answer = 'a'\n",
    "        \n",
    "    # 6단계\n",
    "    answer = answer[:15].rstrip('.') # 마지막 . 방지\n",
    "    # 7단계\n",
    "    while len(answer) < 3:\n",
    "        answer += answer[-1]\n",
    "    return answer"
   ]
  }
 ],
 "metadata": {
  "kernelspec": {
   "display_name": "Python 3",
   "language": "python",
   "name": "python3"
  },
  "language_info": {
   "codemirror_mode": {
    "name": "ipython",
    "version": 3
   },
   "file_extension": ".py",
   "mimetype": "text/x-python",
   "name": "python",
   "nbconvert_exporter": "python",
   "pygments_lexer": "ipython3",
   "version": "3.11.8"
  }
 },
 "nbformat": 4,
 "nbformat_minor": 2
}
