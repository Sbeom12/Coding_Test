{
 "cells": [
  {
   "cell_type": "markdown",
   "metadata": {},
   "source": [
    "# 콜라 문제\n",
    "![](./image.png)  \n",
    "![](./image-1.png)"
   ]
  },
  {
   "cell_type": "code",
   "execution_count": null,
   "metadata": {},
   "outputs": [],
   "source": [
    "def solution(a, b, n):\n",
    "    rest = 0\n",
    "    answer = 0\n",
    "    while n >= a:\n",
    "        rest = n % a\n",
    "        n = n // a\n",
    "        answer += b*n\n",
    "        n += (b-1)*n\n",
    "        n += rest\n",
    "    return answer"
   ]
  },
  {
   "cell_type": "markdown",
   "metadata": {},
   "source": [
    "# 삼총사\n",
    "![alt text](image-2.png)"
   ]
  },
  {
   "cell_type": "code",
   "execution_count": null,
   "metadata": {},
   "outputs": [],
   "source": [
    "from itertools import combinations\n",
    "def solution(number):\n",
    "    combis = combinations(number, 3)\n",
    "    answer = 0\n",
    "    for combi in combis:\n",
    "        if sum(combi) == 0:\n",
    "            answer+=1\n",
    "    return answer"
   ]
  }
 ],
 "metadata": {
  "language_info": {
   "name": "python"
  }
 },
 "nbformat": 4,
 "nbformat_minor": 2
}
