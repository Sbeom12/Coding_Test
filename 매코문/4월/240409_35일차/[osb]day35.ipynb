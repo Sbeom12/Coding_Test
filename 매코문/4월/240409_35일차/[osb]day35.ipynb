{
 "cells": [
  {
   "cell_type": "markdown",
   "metadata": {},
   "source": [
    "# 문자열 나누기\n",
    "![alt text](image-2.png)"
   ]
  },
  {
   "cell_type": "code",
   "execution_count": 34,
   "metadata": {},
   "outputs": [],
   "source": [
    "def solution(s):\n",
    "    answer = 0\n",
    "    word_num = 0\n",
    "    first_word = s[0]\n",
    "    num_check = 0\n",
    "    for i in range(len(s)):\n",
    "        temp = s[i]\n",
    "        print(temp)\n",
    "        if temp == first_word:\n",
    "            word_num += 1\n",
    "            if i == len(s)-1:\n",
    "                answer += 1\n",
    "                print('last')\n",
    "        else:\n",
    "            num_check += 1\n",
    "            if i == len(s)-1:\n",
    "                answer += 1\n",
    "            elif num_check == word_num:\n",
    "                word_num = 0\n",
    "                num_check = 0\n",
    "                first_word = s[i+1]\n",
    "                answer +=1\n",
    "                print('cut')\n",
    "    return answer"
   ]
  },
  {
   "cell_type": "markdown",
   "metadata": {},
   "source": [
    "# 문자열 밀기\n",
    "![alt text](image-1.png)"
   ]
  },
  {
   "cell_type": "code",
   "execution_count": null,
   "metadata": {},
   "outputs": [],
   "source": [
    "def solution(A, B):\n",
    "    answer = 0\n",
    "    len_A = len(A)\n",
    "    for i in range(len_A):\n",
    "        if A == B:\n",
    "            break\n",
    "        else:\n",
    "            A = A[-1] + A[:-1]\n",
    "            answer += 1\n",
    "    if A == B:\n",
    "        return answer\n",
    "    else:\n",
    "        return -1"
   ]
  },
  {
   "cell_type": "markdown",
   "metadata": {},
   "source": [
    "# 페인트 덧칠하기\n",
    "![alt text](image.png)"
   ]
  },
  {
   "cell_type": "code",
   "execution_count": 42,
   "metadata": {},
   "outputs": [],
   "source": [
    "def solution(n, m, section):\n",
    "    answer = 0\n",
    "    last_painted = 0\n",
    "    for need_paint in section:\n",
    "        if need_paint > last_painted:\n",
    "            answer += 1\n",
    "            last_painted = need_paint + m - 1\n",
    "    return answer"
   ]
  }
 ],
 "metadata": {
  "kernelspec": {
   "display_name": "Python 3",
   "language": "python",
   "name": "python3"
  },
  "language_info": {
   "codemirror_mode": {
    "name": "ipython",
    "version": 3
   },
   "file_extension": ".py",
   "mimetype": "text/x-python",
   "name": "python",
   "nbconvert_exporter": "python",
   "pygments_lexer": "ipython3",
   "version": "3.11.9"
  }
 },
 "nbformat": 4,
 "nbformat_minor": 2
}
