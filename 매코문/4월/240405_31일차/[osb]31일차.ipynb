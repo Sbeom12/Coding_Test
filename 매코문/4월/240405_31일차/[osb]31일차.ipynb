{
 "cells": [
  {
   "cell_type": "markdown",
   "metadata": {},
   "source": [
    "# 과일 장수\n",
    "![alt text](image-1.png)"
   ]
  },
  {
   "cell_type": "code",
   "execution_count": 3,
   "metadata": {},
   "outputs": [],
   "source": [
    "def solution(k, m, score):\n",
    "    score = sorted(score)\n",
    "    len_score = len(score)\n",
    "    answer = 0\n",
    "    for i in range(len_score//m):\n",
    "        temp = []\n",
    "        for num in range(len_score):\n",
    "            temp = score.pop()\n",
    "            if num == m-1:\n",
    "                break\n",
    "        answer += temp*m # sort를 정렬 시켜서 마지막의 temp가 최소값임.\n",
    "    \n",
    "    return answer"
   ]
  },
  {
   "cell_type": "markdown",
   "metadata": {},
   "source": [
    "# 배열의 길이를 2의 거듭제곱으로 만들기\n",
    "![alt text](image.png)"
   ]
  },
  {
   "cell_type": "code",
   "execution_count": 7,
   "metadata": {},
   "outputs": [
    {
     "name": "stdout",
     "output_type": "stream",
     "text": [
      "[1, 2, 3, 4, 5, 6] 6\n",
      "[1, 2, 3, 4, 5, 6] 6\n",
      "[1, 2, 3, 4, 5, 6] 6\n",
      "[1, 2, 3, 4, 5, 6] 6\n"
     ]
    },
    {
     "data": {
      "text/plain": [
       "[1, 2, 3, 4, 5, 6, 0, 0]"
      ]
     },
     "execution_count": 7,
     "metadata": {},
     "output_type": "execute_result"
    }
   ],
   "source": [
    "def solution(arr):\n",
    "    for i in range(11):\n",
    "        len_array = len(arr)\n",
    "        if len_array == 2**i:\n",
    "            return arr\n",
    "        elif len_array > 2**i:\n",
    "            continue\n",
    "        else:\n",
    "            for _ in range(2**i - len_array):\n",
    "                arr.append(0)\n",
    "            return arr"
   ]
  },
  {
   "cell_type": "markdown",
   "metadata": {},
   "source": [
    "# 가장 가까운 같은 글자\n",
    "![alt text](image-2.png)"
   ]
  },
  {
   "cell_type": "code",
   "execution_count": null,
   "metadata": {},
   "outputs": [],
   "source": [
    "def solution(s):\n",
    "    answer = []\n",
    "    s_dict = {}\n",
    "    for idx, alphabet in enumerate(s):\n",
    "        if alphabet not in s_dict:\n",
    "            s_dict[alphabet] = idx\n",
    "            answer.append(-1)\n",
    "        else:\n",
    "            diff = idx - s_dict[alphabet] \n",
    "            answer.append(diff)\n",
    "            s_dict[alphabet] = idx\n",
    "    return answer"
   ]
  },
  {
   "cell_type": "markdown",
   "metadata": {},
   "source": [
    "# 비밀지도\n",
    "![alt text](image-3.png)  \n",
    "![alt text](image-4.png)"
   ]
  },
  {
   "cell_type": "code",
   "execution_count": 37,
   "metadata": {},
   "outputs": [],
   "source": [
    "def to_binary(n, num):\n",
    "    binary_num = ''\n",
    "    for i in range(n):\n",
    "        binary_num += str(num % 2)\n",
    "        num = num // 2\n",
    "    return binary_num[::-1]\n",
    "\n",
    "def solution(n, arr1, arr2):\n",
    "    answer = []\n",
    "    for num1, num2 in zip(arr1, arr2):\n",
    "        temp = ''\n",
    "        num1_bi, num2_bi = to_binary(n,num1), to_binary(n,num2)\n",
    "        for val1, val2 in zip(num1_bi, num2_bi):\n",
    "            if int(val1) or int(val2):\n",
    "                temp+= '#'\n",
    "            else:\n",
    "                temp += ' '\n",
    "        answer.append(temp)\n",
    "    return answer"
   ]
  },
  {
   "cell_type": "code",
   "execution_count": 54,
   "metadata": {},
   "outputs": [],
   "source": [
    "def solution(n, arr1, arr2):\n",
    "    answer = []\n",
    "    for num1, num2 in zip(arr1, arr2):\n",
    "        wall = str(bin(num1|num2)[2:])\n",
    "        wall = wall.rjust(n,'0') # 숫자가 부족한 만큼 0채우기\n",
    "        wall = wall.replace('1', '#')\n",
    "        wall = wall.replace('0', ' ')\n",
    "        answer.append(wall)\n",
    "    return answer"
   ]
  }
 ],
 "metadata": {
  "kernelspec": {
   "display_name": "Python 3",
   "language": "python",
   "name": "python3"
  },
  "language_info": {
   "codemirror_mode": {
    "name": "ipython",
    "version": 3
   },
   "file_extension": ".py",
   "mimetype": "text/x-python",
   "name": "python",
   "nbconvert_exporter": "python",
   "pygments_lexer": "ipython3",
   "version": "3.11.9"
  }
 },
 "nbformat": 4,
 "nbformat_minor": 2
}
