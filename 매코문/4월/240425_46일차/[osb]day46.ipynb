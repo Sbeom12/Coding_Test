{
 "cells": [
  {
   "cell_type": "code",
   "execution_count": 14,
   "metadata": {},
   "outputs": [],
   "source": [
    "def bomb_board(position, board):\n",
    "    row, col = position\n",
    "    move_direction = (1,0), (-1,0), (1,1), (1,-1), (0,1), (0,-1), (-1,-1), (-1,1) # 총 8가지의 방향\n",
    "    len_board = len(board)\n",
    "    for direction in move_direction:\n",
    "        new_row, new_col = row + direction[0] , col + direction[1]\n",
    "        if 0 <= new_row < len_board and 0<= new_col < len_board:\n",
    "            board[new_row][new_col] = 1  \n",
    "            \n",
    "def solution(board):\n",
    "    answer = 0\n",
    "    len_board = len(board)\n",
    "    bomb_list = []\n",
    "    for low in range(len_board):\n",
    "        for col in range(len_board):\n",
    "            if board[low][col] == 1:\n",
    "                bomb_list.append((low, col))\n",
    "    for bomb in bomb_list:\n",
    "        bomb_board(bomb, board)\n",
    "    print()\n",
    "    sum_board = sum(sum(board, []))\n",
    "    return len_board**2 -sum_board"
   ]
  },
  {
   "cell_type": "code",
   "execution_count": 27,
   "metadata": {},
   "outputs": [
    {
     "name": "stdout",
     "output_type": "stream",
     "text": [
      "1010\n"
     ]
    }
   ],
   "source": [
    "def decimal_to_binary(decimal):\n",
    "    binary = bin(decimal)[2:]\n",
    "    return binary\n",
    "\n",
    "def solution(n):\n",
    "    binary = decimal_to_binary(n)\n",
    "    num = n\n",
    "    while True:\n",
    "        num += 1\n",
    "        if binary.count('1') == decimal_to_binary(num).count('1'):\n",
    "            break\n",
    "    return num\n"
   ]
  },
  {
   "cell_type": "code",
   "execution_count": null,
   "metadata": {},
   "outputs": [],
   "source": []
  }
 ],
 "metadata": {
  "kernelspec": {
   "display_name": "Python 3",
   "language": "python",
   "name": "python3"
  },
  "language_info": {
   "codemirror_mode": {
    "name": "ipython",
    "version": 3
   },
   "file_extension": ".py",
   "mimetype": "text/x-python",
   "name": "python",
   "nbconvert_exporter": "python",
   "pygments_lexer": "ipython3",
   "version": "3.11.9"
  }
 },
 "nbformat": 4,
 "nbformat_minor": 2
}
