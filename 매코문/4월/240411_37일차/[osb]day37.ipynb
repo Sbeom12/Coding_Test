{
 "cells": [
  {
   "cell_type": "markdown",
   "metadata": {},
   "source": [
    "# 2016\n",
    "![alt text](image.png)"
   ]
  },
  {
   "cell_type": "code",
   "execution_count": 10,
   "metadata": {},
   "outputs": [],
   "source": [
    "def solution(a, b):\n",
    "    month_dict ={1:31, 2:29, 3:31, 4:30, 5:31, 6:30, 7:31, 8:31, 9:30, 10:31, 11:30}\n",
    "    day_dict = {1:'FRI', 2: 'SAT', 3: 'SUN', 4:'MON', 5:'TUE', 6:'WED', 0:'THU'}\n",
    "    for month in range(1, a):\n",
    "        b += month_dict[month]\n",
    "    b = b%7\n",
    "    answer = day_dict[b]\n",
    "    return answer"
   ]
  },
  {
   "cell_type": "markdown",
   "metadata": {},
   "source": [
    "# 조건에 맞게 수열 변환하기2  \n",
    "![alt text](image-1.png)"
   ]
  },
  {
   "cell_type": "code",
   "execution_count": 17,
   "metadata": {},
   "outputs": [],
   "source": [
    "def transform(arr):\n",
    "    arr2 = []\n",
    "    for num in arr:\n",
    "        if num < 50 and num%2==1:\n",
    "            num = 2*num+1\n",
    "        elif num >= 50 and num%2 == 0:\n",
    "            num = num//2\n",
    "        arr2.append(num)\n",
    "    return arr2\n",
    "\n",
    "def solution(arr):\n",
    "    answer = 0 \n",
    "    while True:\n",
    "        if answer == 0:\n",
    "            temp = arr.copy()\n",
    "            arr2 = transform(arr)\n",
    "        else:\n",
    "            arr2 = transform(arr2)\n",
    "        if arr2 == temp:\n",
    "            break\n",
    "        answer += 1\n",
    "        temp = arr2.copy()\n",
    "    return answer"
   ]
  },
  {
   "cell_type": "markdown",
   "metadata": {},
   "source": [
    "# 명예의 전당\n",
    "![alt text](image-2.png)"
   ]
  },
  {
   "cell_type": "code",
   "execution_count": 31,
   "metadata": {},
   "outputs": [],
   "source": [
    "import heapq\n",
    "def solution(k, scores):\n",
    "    heap = []\n",
    "    answer = []\n",
    "    for score in scores:\n",
    "        if len(heap) < k:\n",
    "            heapq.heappush(heap, score)\n",
    "            answer.append(heap[0])\n",
    "        else:\n",
    "            if heap[0] < score:\n",
    "                heapq.heappop(heap) # 가장 작은값\n",
    "                heapq.heappush(heap, score)\n",
    "                answer.append(heap[0])\n",
    "            else:\n",
    "                answer.append(heap[0])\n",
    "    return answer"
   ]
  },
  {
   "cell_type": "markdown",
   "metadata": {},
   "source": [
    "# [PCCE 기출문제] 9번 / 이웃한 칸\n",
    "![alt text](image-3.png)"
   ]
  },
  {
   "cell_type": "code",
   "execution_count": null,
   "metadata": {},
   "outputs": [],
   "source": [
    "def solution(board, h, w):\n",
    "    count = 0\n",
    "    n = len(board[0])\n",
    "    dh, dw =  [0, 1, -1, 0], [1, 0, 0, -1]\n",
    "    for i in range(4):\n",
    "        h_check, w_check = h + dh[i], w + dw[i]\n",
    "        if 0<= h_check < n and 0<=w_check < n:\n",
    "            if board[h][w] == board[h_check][w_check]:\n",
    "                count += 1\n",
    "    return count"
   ]
  }
 ],
 "metadata": {
  "kernelspec": {
   "display_name": "Python 3",
   "language": "python",
   "name": "python3"
  },
  "language_info": {
   "codemirror_mode": {
    "name": "ipython",
    "version": 3
   },
   "file_extension": ".py",
   "mimetype": "text/x-python",
   "name": "python",
   "nbconvert_exporter": "python",
   "pygments_lexer": "ipython3",
   "version": "3.11.9"
  }
 },
 "nbformat": 4,
 "nbformat_minor": 2
}
