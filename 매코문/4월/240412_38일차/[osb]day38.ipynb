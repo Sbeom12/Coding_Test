{
 "cells": [
  {
   "cell_type": "markdown",
   "metadata": {},
   "source": [
    "# 공원 선택  \n",
    "![alt text](image.png)  \n",
    "![alt text](image-1.png)  "
   ]
  },
  {
   "cell_type": "code",
   "execution_count": 66,
   "metadata": {},
   "outputs": [],
   "source": [
    "def solution(park, routes):\n",
    "    move_direction_dict = {'E':(1, 0),'S':(0,1), 'W':(-1,0), 'N':(0,-1)}\n",
    "    x_len_park, y_len_park = len(park[0]), len(park)\n",
    "    for idx1, line in enumerate(park):\n",
    "        for idx2, val in enumerate(line):\n",
    "            if val == 'S':\n",
    "                x, y = idx2, idx1\n",
    "    \n",
    "    for route in routes:\n",
    "        direction, move = route.split()\n",
    "        dx, dy = move_direction_dict[direction]\n",
    "        new_x, new_y = x, y\n",
    "        change = True\n",
    "        for _ in range(int(move)):\n",
    "            new_x, new_y = new_x +dx, new_y +dy\n",
    "            if 0 <= new_x < x_len_park and 0 <= new_y < y_len_park:\n",
    "                if park[new_y][new_x] == 'X':\n",
    "                    change = False\n",
    "                    break\n",
    "            else:\n",
    "                change=False\n",
    "                break\n",
    "        if change:\n",
    "            x, y = new_x, new_y\n",
    "                \n",
    "    return y, x"
   ]
  },
  {
   "cell_type": "markdown",
   "metadata": {},
   "source": [
    "# 햄버거 만들기\n",
    "![alt text](image-2.png)"
   ]
  },
  {
   "cell_type": "code",
   "execution_count": 80,
   "metadata": {},
   "outputs": [],
   "source": [
    "def solution(ingredient):\n",
    "    answer = 0\n",
    "    hamburger = []\n",
    "    for ingre in ingredient:\n",
    "        hamburger.append(ingre)\n",
    "        if hamburger[-4:] == [1, 2, 3, 1]: # 햄버거를 만들 수 있다면,\n",
    "            answer += 1\n",
    "            for _ in range(4):\n",
    "                hamburger.pop()\n",
    "    return answer"
   ]
  },
  {
   "cell_type": "markdown",
   "metadata": {},
   "source": [
    "# 바탕화면 정리\n",
    "![alt text](image-3.png)  \n",
    "![alt text](image-4.png)"
   ]
  },
  {
   "cell_type": "code",
   "execution_count": null,
   "metadata": {},
   "outputs": [],
   "source": [
    "def solution(wallpaper):\n",
    "    answer = []\n",
    "    min_x, min_y, max_x, max_y = 51, 51, 0 ,0\n",
    "    for idx1, line in enumerate(wallpaper):\n",
    "        for idx2, data in enumerate(line):\n",
    "            if data == '#':\n",
    "                tmp_y, tmp_x = idx1, idx2\n",
    "                if tmp_x < min_x:\n",
    "                    min_x = tmp_x\n",
    "                if tmp_x > max_x:\n",
    "                    max_x = tmp_x\n",
    "                if tmp_y < min_y:\n",
    "                    min_y = tmp_y\n",
    "                if tmp_y > max_y:\n",
    "                    max_y = tmp_y\n",
    "    \n",
    "    return [min_y, min_x, max_y+1, max_x+1]"
   ]
  }
 ],
 "metadata": {
  "kernelspec": {
   "display_name": "Python 3",
   "language": "python",
   "name": "python3"
  },
  "language_info": {
   "codemirror_mode": {
    "name": "ipython",
    "version": 3
   },
   "file_extension": ".py",
   "mimetype": "text/x-python",
   "name": "python",
   "nbconvert_exporter": "python",
   "pygments_lexer": "ipython3",
   "version": "3.11.9"
  }
 },
 "nbformat": 4,
 "nbformat_minor": 2
}
