{
 "cells": [
  {
   "cell_type": "markdown",
   "metadata": {},
   "source": [
    "# 소수 찾기\n",
    "![alt text](image.png)\n"
   ]
  },
  {
   "cell_type": "code",
   "execution_count": null,
   "metadata": {},
   "outputs": [],
   "source": [
    "def solution(n):\n",
    "    def is_prime(n):\n",
    "        for num in range(2, int(n**0.5)+1):\n",
    "            if n % num == 0:\n",
    "                return False\n",
    "        return True\n",
    "    answer = 0\n",
    "    for i in range(2, n+1):\n",
    "        if is_prime(i):\n",
    "            answer +=1\n",
    "    return answer"
   ]
  },
  {
   "cell_type": "markdown",
   "metadata": {},
   "source": [
    "# 소수 만들기\n",
    "![alt text](image-2.png)"
   ]
  },
  {
   "cell_type": "code",
   "execution_count": null,
   "metadata": {},
   "outputs": [],
   "source": [
    "from itertools import combinations\n",
    "def solution(nums):\n",
    "    def is_prime(n):\n",
    "        for num in range(2, int(n**0.5)+1):\n",
    "            if n % num == 0:\n",
    "                return False\n",
    "        return True\n",
    "    \n",
    "    combis = combinations(nums, 3)\n",
    "    answer = 0\n",
    "    for combi in combis:\n",
    "        if is_prime(sum(combi)):\n",
    "            answer+=1\n",
    "\n",
    "    return answer"
   ]
  },
  {
   "cell_type": "markdown",
   "metadata": {},
   "source": [
    "# 도넛과 막대 그래프\n",
    "![alt text](image-1.png)   \n",
    "![alt text](image-3.png)    \n",
    "![alt text](image-4.png)  "
   ]
  },
  {
   "cell_type": "code",
   "execution_count": null,
   "metadata": {},
   "outputs": [],
   "source": [
    "from collections import defaultdict, deque\n",
    "def solution(edges):\n",
    "    def check_type(graph1, node):\n",
    "        queue = deque([node])\n",
    "        node_link = set()\n",
    "        edge_count = -1 # 처음에는 간선이 없으므로\n",
    "        while queue:\n",
    "            current_node = queue.popleft()\n",
    "            node_link.add(current_node)\n",
    "            edge_count +=1\n",
    "            if current_node in graph1:\n",
    "                for next_onde in graph1[current_node]:\n",
    "                    queue.append(next_onde)\n",
    "                graph1.pop(current_node) # 현재 연결그래프에서 제거\n",
    "        node_count = len(node_link)\n",
    "        if node_count == edge_count:\n",
    "            return 1\n",
    "        elif node_count == edge_count + 1:\n",
    "            return 2\n",
    "        elif node_count == edge_count - 1:\n",
    "            return 3 \n",
    "        else:\n",
    "            return False\n",
    "    graph1 = defaultdict(set) # 나가는 그래프\n",
    "    graph2 = defaultdict(set)\n",
    "    for edge in edges:\n",
    "        graph1[edge[0]].add(edge[1]) \n",
    "        graph2[edge[1]].add(edge[0])\n",
    "    # 시작 노드 찾기\n",
    "    answer = [0,0,0,0]\n",
    "    max_length = max(len(s) for s in graph1.values())\n",
    "    start = [k for k, v in graph1.items() if (len(v) == max_length and (k not in graph2.keys()))][0]\n",
    "    answer[0] +=start\n",
    "    for node in graph1.pop(start).copy(): # 시작 노드가 가지고 있는것만 돌기 + 딕셔너리 에러\n",
    "        graph_type = check_type(graph1, node) \n",
    "        answer[graph_type] += 1\n",
    "    return answer"
   ]
  }
 ],
 "metadata": {
  "kernelspec": {
   "display_name": "Python 3",
   "language": "python",
   "name": "python3"
  },
  "language_info": {
   "name": "python",
   "version": "3.11.8"
  }
 },
 "nbformat": 4,
 "nbformat_minor": 2
}
