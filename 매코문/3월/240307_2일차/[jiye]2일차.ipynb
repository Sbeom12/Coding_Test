{
 "cells": [
  {
   "cell_type": "markdown",
   "metadata": {},
   "source": [
    "### [정렬-가장 큰 수](https://school.programmers.co.kr/learn/courses/30/lessons/42746)"
   ]
  },
  {
   "cell_type": "markdown",
   "metadata": {},
   "source": [
    "![alt text](image.png)"
   ]
  },
  {
   "cell_type": "code",
   "execution_count": 224,
   "metadata": {},
   "outputs": [],
   "source": [
    "numbers=[3,30,34,5,9]"
   ]
  },
  {
   "cell_type": "code",
   "execution_count": 225,
   "metadata": {},
   "outputs": [],
   "source": [
    "def solution(numbers):\n",
    "    lst=[]\n",
    "    max_len=len(str(max(numbers)))\n",
    "    for num in numbers:\n",
    "        num=str(num)\n",
    "        num_len=len(num)\n",
    "        while True:\n",
    "            num+=num\n",
    "            if len(num)>max_len:break\n",
    "        lst.append((num,num_len))\n",
    "        \n",
    "    lst=sorted(lst,reverse=True)\n",
    "\n",
    "    answer=''\n",
    "    for num in lst:\n",
    "        answer+=num[0][:num[1]]\n",
    "        \n",
    "    return str(int(answer))"
   ]
  },
  {
   "cell_type": "code",
   "execution_count": 227,
   "metadata": {},
   "outputs": [
    {
     "data": {
      "text/plain": [
       "'9534330'"
      ]
     },
     "execution_count": 227,
     "metadata": {},
     "output_type": "execute_result"
    }
   ],
   "source": [
    "solution(numbers)"
   ]
  }
 ],
 "metadata": {
  "kernelspec": {
   "display_name": "base",
   "language": "python",
   "name": "python3"
  },
  "language_info": {
   "codemirror_mode": {
    "name": "ipython",
    "version": 3
   },
   "file_extension": ".py",
   "mimetype": "text/x-python",
   "name": "python",
   "nbconvert_exporter": "python",
   "pygments_lexer": "ipython3",
   "version": "3.9.13"
  }
 },
 "nbformat": 4,
 "nbformat_minor": 2
}
