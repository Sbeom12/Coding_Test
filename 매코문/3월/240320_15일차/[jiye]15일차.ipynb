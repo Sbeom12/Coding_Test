{
 "cells": [
  {
   "cell_type": "markdown",
   "metadata": {},
   "source": [
    "### [DFS/BFS-아이템 줍기](https://school.programmers.co.kr/learn/courses/30/lessons/87694)"
   ]
  },
  {
   "cell_type": "markdown",
   "metadata": {},
   "source": [
    "![image](image_jiye.png)"
   ]
  },
  {
   "cell_type": "code",
   "execution_count": 35,
   "metadata": {},
   "outputs": [],
   "source": [
    "rectangle=[[1,1,7,4],[3,2,5,5],[4,3,6,9],[2,6,8,8]] #좌하단 x,y, 우상단 x,y\n",
    "characterX=1\n",
    "characterY=3\n",
    "itemX=7\n",
    "itemY=8"
   ]
  },
  {
   "cell_type": "code",
   "execution_count": 40,
   "metadata": {},
   "outputs": [],
   "source": [
    "rectangle=[[1,1,8,4],[2,2,4,9],[3,6,9,8],[6,3,7,7]]\n",
    "characterX=9\n",
    "characterY=7\n",
    "itemX=6\n",
    "itemY=1"
   ]
  },
  {
   "cell_type": "code",
   "execution_count": 41,
   "metadata": {},
   "outputs": [],
   "source": [
    "graph=dict()\n",
    "\n",
    "for x1,y1,x2,y2 in rectangle:\n",
    "    # x 고정\n",
    "    for x,tmp in [(x1,'L'),(x2,'R')]:\n",
    "        for y in range(y1+1,y2):\n",
    "            if (x,y) in graph:\n",
    "                _,_,tmp_=graph[x,y] # 이전 값\n",
    "                if (tmp_=='T') and (tmp=='L'): graph[(x,y)]=[(x-1,y),(x,y+1),'']\n",
    "                elif (tmp_=='T') and (tmp=='R'): graph[(x,y)]=[(x+1,y),(x,y+1),'']\n",
    "                elif (tmp_=='B') and (tmp=='L'): graph[(x,y)]=[(x-1,y),(x,y-1),'']\n",
    "                elif (tmp_=='B') and (tmp=='R'): graph[(x,y)]=[(x+1,y),(x,y-1),'']\n",
    "            \n",
    "            else:\n",
    "                graph[(x,y)]=[(x,y-1),(x,y+1),tmp]\n",
    "\n",
    "    \n",
    "    # y 고정\n",
    "    for y,tmp in [(y1,'B'),(y2,'T')]:\n",
    "        for x in range(x1+1,x2):\n",
    "            if (x,y) in graph:\n",
    "                _,_,tmp_=graph[x,y] # 이전 값\n",
    "                if (tmp=='T') and (tmp_=='L'): graph[(x,y)]=[(x-1,y),(x,y+1),'']\n",
    "                elif (tmp=='T') and (tmp_=='R'): graph[(x,y)]=[(x+1,y),(x,y+1),'']\n",
    "                elif (tmp=='B') and (tmp_=='L'): graph[(x,y)]=[(x-1,y),(x,y-1),'']\n",
    "                elif (tmp=='B') and (tmp_=='R'): graph[(x,y)]=[(x+1,y),(x,y-1),'']\n",
    "            else:\n",
    "                graph[(x,y)]=[(x-1,y),(x+1,y),tmp]\n",
    "    \n",
    "    # 꼭짓점\n",
    "    graph[(x1,y1)]=[(x1,y1+1),(x1+1,y1),'']#좌하단\n",
    "    graph[(x1,y2)]=[(x1,y2-1),(x1+1,y2),''] #좌상단   \n",
    "    graph[(x2,y1)]=[(x2,y1+1),(x2-1,y1),''] #우하단\n",
    "    graph[(x2,y2)]=[(x2,y2-1),(x2-1,y2),''] #우상단"
   ]
  },
  {
   "cell_type": "code",
   "execution_count": 42,
   "metadata": {},
   "outputs": [
    {
     "name": "stdout",
     "output_type": "stream",
     "text": [
      "11\n"
     ]
    }
   ],
   "source": [
    "# BFS 수행\n",
    "from collections import *\n",
    "\n",
    "visited={key:False for key in graph.keys()}\n",
    "\n",
    "que=deque([(characterX,characterY,0)])\n",
    "visited[(characterX,characterY)]=True #방문처리\n",
    "\n",
    "while que:\n",
    "    x_parent,y_parent,cnt=que.popleft()\n",
    "    if (x_parent,y_parent)==(itemX,itemY):\n",
    "        print(cnt)\n",
    "        break\n",
    "        # return cnt\n",
    "    for x,y in graph[(x_parent,y_parent)][:-1]:\n",
    "        if not visited[(x,y)]: #방문하지 않은 노드라면\n",
    "            que.append((x,y,cnt+1))\n",
    "            visited[(x,y)]=True"
   ]
  }
 ],
 "metadata": {
  "kernelspec": {
   "display_name": "base",
   "language": "python",
   "name": "python3"
  },
  "language_info": {
   "codemirror_mode": {
    "name": "ipython",
    "version": 3
   },
   "file_extension": ".py",
   "mimetype": "text/x-python",
   "name": "python",
   "nbconvert_exporter": "python",
   "pygments_lexer": "ipython3",
   "version": "3.9.13"
  }
 },
 "nbformat": 4,
 "nbformat_minor": 2
}
