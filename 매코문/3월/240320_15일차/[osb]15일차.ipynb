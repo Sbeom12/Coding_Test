{
 "cells": [
  {
   "cell_type": "markdown",
   "metadata": {},
   "source": [
    "# 각도기\n",
    "![alt text](image.png)"
   ]
  },
  {
   "cell_type": "code",
   "execution_count": null,
   "metadata": {},
   "outputs": [],
   "source": [
    "def solution(angle):\n",
    "    answer = 0\n",
    "    if angle < 90:\n",
    "        return 1\n",
    "    elif angle == 90:\n",
    "        return 2\n",
    "    elif angle <180:\n",
    "        return 3\n",
    "    else:\n",
    "        return 4"
   ]
  },
  {
   "cell_type": "markdown",
   "metadata": {},
   "source": [
    "# 폰켓몬\n",
    "![alt text](image-1.png)"
   ]
  },
  {
   "cell_type": "code",
   "execution_count": null,
   "metadata": {},
   "outputs": [],
   "source": [
    "def solution(nums):\n",
    "    total_num = len(nums)\n",
    "    max_pick = total_num//2\n",
    "    type_num = len(set(nums))\n",
    "    if type_num >= max_pick:\n",
    "        return max_pick\n",
    "    else:\n",
    "        return type_num\n",
    "    "
   ]
  },
  {
   "cell_type": "markdown",
   "metadata": {},
   "source": [
    "# 가장 작은 수 제거\n",
    "![alt text](image-2.png)"
   ]
  },
  {
   "cell_type": "code",
   "execution_count": null,
   "metadata": {},
   "outputs": [],
   "source": [
    "def solution(arr):\n",
    "    len_arr = len(arr)\n",
    "    if len_arr == 1:\n",
    "        return [-1]\n",
    "    else:\n",
    "        min_num = 1e9\n",
    "        for idx,num in enumerate(arr):\n",
    "            if min_num > num:\n",
    "                min_num = num\n",
    "                min_idx = idx\n",
    "        arr.pop(min_idx)\n",
    "        return arr"
   ]
  },
  {
   "cell_type": "markdown",
   "metadata": {},
   "source": [
    "# 정수내림차순으로 배치하기\n",
    "![alt text](image-3.png)"
   ]
  },
  {
   "cell_type": "code",
   "execution_count": null,
   "metadata": {},
   "outputs": [],
   "source": [
    "def solution(n):\n",
    "    nums= list(str(n))\n",
    "    answer = ''\n",
    "    for num in sorted(nums, reverse=True):\n",
    "        answer += num\n",
    "    return int(answer)"
   ]
  }
 ],
 "metadata": {
  "language_info": {
   "name": "python"
  }
 },
 "nbformat": 4,
 "nbformat_minor": 2
}
