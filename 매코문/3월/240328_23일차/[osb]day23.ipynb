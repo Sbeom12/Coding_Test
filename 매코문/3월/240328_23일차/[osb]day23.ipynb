{
 "cells": [
  {
   "cell_type": "markdown",
   "metadata": {},
   "source": [
    "# 김서방 찾기  \n",
    "![alt text](image.png)"
   ]
  },
  {
   "cell_type": "code",
   "execution_count": null,
   "metadata": {},
   "outputs": [],
   "source": [
    "def solution(seoul):\n",
    "    for i, name in enumerate(seoul):\n",
    "        if name == 'Kim':\n",
    "            break\n",
    "    #i= seoul.index('Kim')\n",
    "    answer = f'김서방은 {i}에 있다'\n",
    "    return answer"
   ]
  },
  {
   "cell_type": "markdown",
   "metadata": {},
   "source": [
    "# 문자열 다루기 기초\n",
    "![alt text](image-1.png)"
   ]
  },
  {
   "cell_type": "code",
   "execution_count": null,
   "metadata": {},
   "outputs": [],
   "source": [
    "def solution(s):\n",
    "    numeric_set = set(['0','1','2','3','4','5','6','7','8','9'])\n",
    "    if len(s) == 4 or len(s) == 6:\n",
    "        for data in s:\n",
    "            if data not in numeric_set:\n",
    "                return False\n",
    "        return True\n",
    "    return False"
   ]
  },
  {
   "cell_type": "markdown",
   "metadata": {},
   "source": [
    "# 아날로그 시계  \n",
    "![alt text](image-2.png)  \n",
    "![alt text](image-3.png)  \n",
    "![alt text](image-4.png)  \n",
    "![alt text](image-5.png)  \n",
    "![alt text](image-6.png)  \n"
   ]
  },
  {
   "cell_type": "code",
   "execution_count": 118,
   "metadata": {},
   "outputs": [
    {
     "data": {
      "text/plain": [
       "1"
      ]
     },
     "execution_count": 118,
     "metadata": {},
     "output_type": "execute_result"
    }
   ],
   "source": [
    "def solution(h1, m1, s1, h2, m2, s2):\n",
    "    time = 3600 * (h2 - h1) + 60 * (m2 - m1) + (s2 - s1)\n",
    "    hour_angle = (3600 * h1 + 60 * m1 + s1) % (360*120)\n",
    "    min_angle = ((60 * m1 + s1) *12) % (360*120)\n",
    "    sec_angle = (s1 * 720) % (360*120)\n",
    "    answer = 0\n",
    "    elapsed_time = 1\n",
    "    #print(hour_angle, min_angle, sec_angle)\n",
    "    def hour_check(hour, sec, next_hour, next_sec):\n",
    "        if ((sec < hour) and (next_sec > next_hour)):\n",
    "            return True\n",
    "        if (next_sec == 0 and next_hour != 0) and ((360*120) > next_hour) and (sec < hour):\n",
    "            return True\n",
    "        return False\n",
    "\n",
    "    def min_check(min, sec, next_min, next_sec):\n",
    "        if (sec < min) and (next_sec > next_min):\n",
    "            return True\n",
    "        if (next_sec == 0 and next_min != 0) and ((360*120) > next_min) and (sec < min):\n",
    "            return True\n",
    "        return False\n",
    "    pre_hour, pre_min, pre_sec = hour_angle, min_angle, sec_angle\n",
    "    while elapsed_time <= time:\n",
    "        next_hour = (hour_angle + elapsed_time) % (360*120)\n",
    "        next_min = (min_angle + elapsed_time*12) % (360*120)\n",
    "        next_sec = (sec_angle + elapsed_time * 720) % (360*120)\n",
    "        if hour_check(pre_hour, pre_sec, next_hour, next_sec):\n",
    "            answer += 1\n",
    "        if min_check(pre_min, pre_sec, next_min, next_sec):\n",
    "            answer += 1\n",
    "        if pre_sec == pre_hour or pre_min==pre_sec:\n",
    "            answer += 1\n",
    "        pre_hour = next_hour\n",
    "        pre_min = next_min\n",
    "        pre_sec = next_sec\n",
    "        elapsed_time += 1\n",
    "    if next_sec == next_hour or next_min ==next_sec:\n",
    "        answer += 1\n",
    "    return answer\n",
    "\n",
    "solution(11, 59, 30, 12, 0, 0)"
   ]
  }
 ],
 "metadata": {
  "kernelspec": {
   "display_name": "Python 3",
   "language": "python",
   "name": "python3"
  },
  "language_info": {
   "codemirror_mode": {
    "name": "ipython",
    "version": 3
   },
   "file_extension": ".py",
   "mimetype": "text/x-python",
   "name": "python",
   "nbconvert_exporter": "python",
   "pygments_lexer": "ipython3",
   "version": "3.11.3"
  }
 },
 "nbformat": 4,
 "nbformat_minor": 2
}
