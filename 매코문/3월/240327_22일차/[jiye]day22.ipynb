{
 "cells": [
  {
   "cell_type": "markdown",
   "metadata": {},
   "source": [
    "### [DFS/BFS-퍼즐조각 채우기](https://school.programmers.co.kr/learn/courses/30/lessons/84021)\n",
    "...이어서"
   ]
  },
  {
   "cell_type": "markdown",
   "metadata": {},
   "source": [
    "![image](../240325_20일차/image_jiye.png)"
   ]
  },
  {
   "cell_type": "code",
   "execution_count": 21,
   "metadata": {},
   "outputs": [],
   "source": [
    "game_board=[[1,1,0,0,1,0],\n",
    "            [0,0,1,0,1,0],\n",
    "            [0,1,1,0,0,1],\n",
    "            [1,1,0,1,1,1],\n",
    "            [1,0,0,0,1,0],\n",
    "            [0,1,1,1,0,0]]\n",
    "table=[[1,0,0,1,1,0],[1,0,1,0,1,0],[0,1,1,0,1,1],[0,0,1,0,0,0],[1,1,0,1,1,0],[0,1,0,0,0,0]]"
   ]
  },
  {
   "cell_type": "code",
   "execution_count": 22,
   "metadata": {},
   "outputs": [],
   "source": [
    "from collections import *\n",
    "que=deque()"
   ]
  },
  {
   "cell_type": "code",
   "execution_count": 23,
   "metadata": {},
   "outputs": [],
   "source": [
    "def bfs(board,number,start_x,start_y):\n",
    "    que=deque([(start_x, start_y)])\n",
    "    temp=[(start_x, start_y)]\n",
    "    \n",
    "    if number==1:\n",
    "        temp=[[(start_x, start_y)],[(start_x, start_y)],[(start_x, start_y)],[(start_x, start_y)]] #0, 90, 180, 270 회전 값\n",
    "        \n",
    "    dx=[-1,0,+1,0]\n",
    "    dy=[0,+1,0,-1]\n",
    "    \n",
    "    \n",
    "\n",
    "    while que:\n",
    "        x,y = que.popleft()\n",
    "        board[x][y] = -1 # 방문처리\n",
    "        \n",
    "        if number==0:\n",
    "            for i in range(4):\n",
    "                if (0 <= x + dx[i] <= len(board)-1) and (0 <= y+dy[i] <= len(board[0])-1) and  (board[x + dx[i]][y + dy[i]] == number) :\n",
    "                    que.append((x + dx[i], y + dy[i]))\n",
    "                    temp.append((x + dx[i], y + dy[i]))\n",
    "                    board[x + dx[i]][y + dy[i]] = -1\n",
    "                    \n",
    "        elif number==1:\n",
    "            for i in range(4):\n",
    "                if (0 <= x + dx[i] <= len(board)-1) and (0 <= y+dy[i] <= len(board[0])-1) and  (board[x + dx[i]][y + dy[i]] == number) :\n",
    "                    que.append((x + dx[i], y + dy[i]))\n",
    "                    for t in range(4):\n",
    "                        temp[t].append((x + dx[(i+t)%4], y + dy[(i+t)%4]))\n",
    "                    board[x + dx[i]][y + dy[i]] = -1\n",
    "                    \n",
    "                \n",
    "\n",
    "    return temp"
   ]
  },
  {
   "cell_type": "code",
   "execution_count": 24,
   "metadata": {},
   "outputs": [],
   "source": [
    "def get_list(board,number):\n",
    "    lst=[]\n",
    "    for x in range(len(board)):\n",
    "        for y in range(len(board[0])):\n",
    "            if board[x][y] == number:\n",
    "                lst.append(bfs(board,number,x,y))\n",
    "    return lst"
   ]
  },
  {
   "cell_type": "code",
   "execution_count": 25,
   "metadata": {},
   "outputs": [],
   "source": [
    "gb=get_list(game_board,0)\n",
    "tb=get_list(table,1)"
   ]
  },
  {
   "cell_type": "code",
   "execution_count": 40,
   "metadata": {},
   "outputs": [
    {
     "data": {
      "text/plain": [
       "[[(0, 2), (0, 3), (1, 3), (2, 3), (2, 4)],\n",
       " [(0, 5), (1, 5)],\n",
       " [(1, 0), (1, 1), (2, 0)],\n",
       " [(3, 2), (4, 1), (4, 2), (4, 3)],\n",
       " [(4, 5), (5, 4), (5, 5)],\n",
       " [(5, 0)]]"
      ]
     },
     "execution_count": 40,
     "metadata": {},
     "output_type": "execute_result"
    }
   ],
   "source": [
    "gb=[sorted(lst) for lst in gb]"
   ]
  },
  {
   "cell_type": "code",
   "execution_count": null,
   "metadata": {},
   "outputs": [],
   "source": []
  }
 ],
 "metadata": {
  "kernelspec": {
   "display_name": "base",
   "language": "python",
   "name": "python3"
  },
  "language_info": {
   "codemirror_mode": {
    "name": "ipython",
    "version": 3
   },
   "file_extension": ".py",
   "mimetype": "text/x-python",
   "name": "python",
   "nbconvert_exporter": "python",
   "pygments_lexer": "ipython3",
   "version": "3.9.13"
  }
 },
 "nbformat": 4,
 "nbformat_minor": 2
}
