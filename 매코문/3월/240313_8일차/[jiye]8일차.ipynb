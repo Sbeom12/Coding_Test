{
 "cells": [
  {
   "cell_type": "markdown",
   "metadata": {},
   "source": [
    "### [해시-의상](https://school.programmers.co.kr/learn/courses/30/lessons/42578)"
   ]
  },
  {
   "cell_type": "markdown",
   "metadata": {},
   "source": [
    "![alt text](image_jiye.png)"
   ]
  },
  {
   "cell_type": "code",
   "execution_count": 5,
   "metadata": {},
   "outputs": [],
   "source": [
    "clothes=[[\"crow_mask\", \"face\"], [\"blue_sunglasses\", \"face\"], [\"smoky_makeup\", \"face\"]]"
   ]
  },
  {
   "cell_type": "code",
   "execution_count": 6,
   "metadata": {},
   "outputs": [],
   "source": [
    "dct=dict()\n",
    "for item,category in clothes:\n",
    "    if category in dct:\n",
    "        dct[category].append(item)\n",
    "    else:\n",
    "        dct[category]=[item]"
   ]
  },
  {
   "cell_type": "code",
   "execution_count": 14,
   "metadata": {},
   "outputs": [],
   "source": [
    "answer=1\n",
    "for category,items in dct.items():\n",
    "    answer*=(len(items)+1)"
   ]
  },
  {
   "cell_type": "code",
   "execution_count": 15,
   "metadata": {},
   "outputs": [
    {
     "data": {
      "text/plain": [
       "4"
      ]
     },
     "execution_count": 15,
     "metadata": {},
     "output_type": "execute_result"
    }
   ],
   "source": [
    "answer-=1"
   ]
  },
  {
   "cell_type": "markdown",
   "metadata": {},
   "source": [
    "### [해시-베스트앨범](https://school.programmers.co.kr/learn/courses/30/lessons/42579)"
   ]
  },
  {
   "cell_type": "markdown",
   "metadata": {},
   "source": [
    "![alt text](image_jiye2.png)"
   ]
  },
  {
   "cell_type": "code",
   "execution_count": 130,
   "metadata": {},
   "outputs": [],
   "source": [
    "genres=[\"classic\", \"classic\",\"classic\", \"classic\",\"pop\",\"hello\"]\n",
    "plays=[500, 600, 600,150,100000,300]"
   ]
  },
  {
   "cell_type": "code",
   "execution_count": 131,
   "metadata": {},
   "outputs": [],
   "source": [
    "dct=dict()\n",
    "for song_num, genre in enumerate(genres):\n",
    "    if genre in dct:\n",
    "        dct[genre][0]+=plays[song_num]\n",
    "        dct[genre][1].append([plays[song_num],song_num])\n",
    "    else:\n",
    "        dct[genre]=[plays[song_num],[[plays[song_num],song_num]]]"
   ]
  },
  {
   "cell_type": "code",
   "execution_count": 132,
   "metadata": {},
   "outputs": [
    {
     "data": {
      "text/plain": [
       "{'classic': [1850, [[500, 0], [600, 1], [600, 2], [150, 3]]],\n",
       " 'pop': [100000, [[100000, 4]]],\n",
       " 'hello': [300, [[300, 5]]]}"
      ]
     },
     "execution_count": 132,
     "metadata": {},
     "output_type": "execute_result"
    }
   ],
   "source": [
    "dct"
   ]
  },
  {
   "cell_type": "code",
   "execution_count": 144,
   "metadata": {},
   "outputs": [
    {
     "name": "stdout",
     "output_type": "stream",
     "text": [
      "pop [[100000, 4]]\n",
      "classic [[600, 2], [600, 1], [500, 0], [150, 3]]\n",
      "hello [[300, 5]]\n"
     ]
    }
   ],
   "source": [
    "answer=[]\n",
    "genre_keys=sorted(dct,key=lambda x: dct[x][0],reverse=True)\n",
    "for genre in genre_keys:\n",
    "    sorted_list=sorted(dct[genre][1],key=lambda x: x,reverse=True)\n",
    "    print(genre,sorted_list)\n",
    "    cnt=0\n",
    "    for lst in sorted_list:\n",
    "        answer.append(lst[1])\n",
    "        cnt+=1\n",
    "        if cnt>=2:break\n",
    "        "
   ]
  },
  {
   "cell_type": "code",
   "execution_count": 143,
   "metadata": {},
   "outputs": [
    {
     "data": {
      "text/plain": [
       "['pop', 'classic', 'hello']"
      ]
     },
     "execution_count": 143,
     "metadata": {},
     "output_type": "execute_result"
    }
   ],
   "source": [
    "sorted(dct,key=lambda x: dct[x][0],reverse=True)"
   ]
  },
  {
   "cell_type": "code",
   "execution_count": 145,
   "metadata": {},
   "outputs": [
    {
     "data": {
      "text/plain": [
       "[4, 2, 1, 5]"
      ]
     },
     "execution_count": 145,
     "metadata": {},
     "output_type": "execute_result"
    }
   ],
   "source": [
    "answer"
   ]
  }
 ],
 "metadata": {
  "kernelspec": {
   "display_name": "base",
   "language": "python",
   "name": "python3"
  },
  "language_info": {
   "codemirror_mode": {
    "name": "ipython",
    "version": 3
   },
   "file_extension": ".py",
   "mimetype": "text/x-python",
   "name": "python",
   "nbconvert_exporter": "python",
   "pygments_lexer": "ipython3",
   "version": "3.9.13"
  }
 },
 "nbformat": 4,
 "nbformat_minor": 2
}
