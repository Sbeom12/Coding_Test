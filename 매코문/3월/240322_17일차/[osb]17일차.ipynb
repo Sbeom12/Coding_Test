{
 "cells": [
  {
   "cell_type": "markdown",
   "metadata": {},
   "source": [
    "# 하샤드 수\n",
    "----\n",
    "![alt text](image.png)"
   ]
  },
  {
   "cell_type": "code",
   "execution_count": null,
   "metadata": {},
   "outputs": [],
   "source": [
    "def solution(x):\n",
    "    string_x = str(x)\n",
    "    sum_num = 0\n",
    "    for num in string_x:\n",
    "        sum_num += int(num)\n",
    "    if x % sum_num == 0:\n",
    "        return True\n",
    "    else:\n",
    "        return False"
   ]
  },
  {
   "cell_type": "markdown",
   "metadata": {},
   "source": [
    "# 신고 결과 받기\n",
    "---\n",
    "![alt text](image-1.png)"
   ]
  },
  {
   "cell_type": "code",
   "execution_count": 33,
   "metadata": {},
   "outputs": [],
   "source": [
    "from collections import defaultdict\n",
    "def solution(id_list, reports, k):\n",
    "    report_dict = defaultdict(set)\n",
    "    ban_set = set()\n",
    "    report_graph = defaultdict(set)\n",
    "    for report in reports:\n",
    "        user, report_id = report.split()\n",
    "        report_graph[user].add(report_id)\n",
    "        report_dict[report_id].add(user)\n",
    "        if report_id in report_dict: \n",
    "            if len(report_dict[report_id]) >= k:\n",
    "                ban_set.add(report_id)\n",
    "\n",
    "    answer = []\n",
    "\n",
    "    for id in id_list:\n",
    "        temp = 0\n",
    "        for ban_id in report_graph[id]:\n",
    "            if ban_id in ban_set:\n",
    "                temp+=1\n",
    "        answer.append(temp)\n",
    "    return answer"
   ]
  },
  {
   "cell_type": "code",
   "execution_count": 34,
   "metadata": {},
   "outputs": [
    {
     "data": {
      "text/plain": [
       "[2, 1, 1, 0]"
      ]
     },
     "execution_count": 34,
     "metadata": {},
     "output_type": "execute_result"
    }
   ],
   "source": [
    "solution([\"muzi\", \"frodo\", \"apeach\", \"neo\"],[\"muzi frodo\",\"apeach frodo\",\"frodo neo\",\"muzi neo\",\"apeach muzi\"],2)"
   ]
  },
  {
   "cell_type": "code",
   "execution_count": null,
   "metadata": {},
   "outputs": [],
   "source": []
  }
 ],
 "metadata": {
  "kernelspec": {
   "display_name": "Python 3",
   "language": "python",
   "name": "python3"
  },
  "language_info": {
   "codemirror_mode": {
    "name": "ipython",
    "version": 3
   },
   "file_extension": ".py",
   "mimetype": "text/x-python",
   "name": "python",
   "nbconvert_exporter": "python",
   "pygments_lexer": "ipython3",
   "version": "3.11.8"
  }
 },
 "nbformat": 4,
 "nbformat_minor": 2
}
