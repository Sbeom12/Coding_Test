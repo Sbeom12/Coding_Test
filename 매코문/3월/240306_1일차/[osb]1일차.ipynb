{
 "cells": [
  {
   "cell_type": "markdown",
   "metadata": {},
   "source": [
    "# 종이 자르기\n",
    "---\n",
    "![alt text](image-1.png)\n",
    "\n",
    "* 풀이 \n",
    "* 1x1의 크기로 종이를 자르기 위해 MxN -1 만큼 잘라야지만 모든 종이가 1x1의 크기로 잘리게 된다."
   ]
  },
  {
   "cell_type": "code",
   "execution_count": null,
   "metadata": {},
   "outputs": [],
   "source": [
    "def solution(M, N):\n",
    "    answer = M*N-1\n",
    "    return answer"
   ]
  },
  {
   "cell_type": "markdown",
   "metadata": {},
   "source": [
    "# 둘만의 암호\n",
    "![alt text](image-2.png)\n",
    "\n",
    "* 풀이\n",
    "* s에 있는 알파벳보다 5개 뒤에 있는 알파벳으로 교체하고 skip에 들어있으면 Pass하는 시스템 구조.\n",
    "* 알파벳을 먼저 정의, s\n"
   ]
  },
  {
   "cell_type": "code",
   "execution_count": 45,
   "metadata": {},
   "outputs": [],
   "source": [
    "def solution(s, skip, index):\n",
    "    alphabeta = 'abcdefghijklmnopqrstuvwxyz'\n",
    "    alphabet = dict()\n",
    "    answer = ''\n",
    "    skip = set(skip.strip()) # 시간 복잡도를 위해 set으로 설정.\n",
    "    # 알파벳 별로 index 매겨주기\n",
    "    for idx, string in enumerate(alphabeta):\n",
    "        alphabet[string] = idx\n",
    "    # 진행.\n",
    "    answer = ''\n",
    "    for string in s:\n",
    "        idx =  alphabet[string] # 현재 위치 확인.\n",
    "        skip_time, i  = 0, 0\n",
    "        while (i<= index+skip_time): # \n",
    "            if alphabeta[(idx+i)%26] in skip: # skip에 있다면 \n",
    "                skip_time +=1\n",
    "            i +=1\n",
    "        answer += alphabeta[(idx+index+skip_time)%26]\n",
    "    return answer"
   ]
  }
 ],
 "metadata": {
  "kernelspec": {
   "display_name": "Python 3",
   "language": "python",
   "name": "python3"
  },
  "language_info": {
   "codemirror_mode": {
    "name": "ipython",
    "version": 3
   },
   "file_extension": ".py",
   "mimetype": "text/x-python",
   "name": "python",
   "nbconvert_exporter": "python",
   "pygments_lexer": "ipython3",
   "version": "3.11.8"
  }
 },
 "nbformat": 4,
 "nbformat_minor": 2
}
