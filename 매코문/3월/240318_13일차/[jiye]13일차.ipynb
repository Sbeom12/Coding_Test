{
 "cells": [
  {
   "cell_type": "markdown",
   "metadata": {},
   "source": [
    "### [DFS/BFS-게임 맵 최단거리](https://school.programmers.co.kr/learn/courses/30/lessons/1844)"
   ]
  },
  {
   "cell_type": "markdown",
   "metadata": {},
   "source": [
    "![alt-text](image_jiye.png)"
   ]
  },
  {
   "cell_type": "code",
   "execution_count": 7,
   "metadata": {},
   "outputs": [],
   "source": [
    "maps=[[1,0,1,1,1],[1,0,1,0,1],[1,0,1,1,1],[1,1,1,0,1],[0,0,0,0,1]]"
   ]
  },
  {
   "cell_type": "code",
   "execution_count": 8,
   "metadata": {},
   "outputs": [],
   "source": [
    "from collections import *\n",
    "que=deque([(0,0,1)])\n",
    "\n",
    "# BFS 구현\n",
    "n=len(maps)\n",
    "m=len(maps[0])"
   ]
  },
  {
   "cell_type": "code",
   "execution_count": 10,
   "metadata": {},
   "outputs": [
    {
     "name": "stdout",
     "output_type": "stream",
     "text": [
      "11\n"
     ]
    }
   ],
   "source": [
    "while que:\n",
    "    x,y,cnt=que.popleft()\n",
    "    maps[x][y]=0 # 방문처리\n",
    "    \n",
    "    if (x==n-1) and (y==m-1) : \n",
    "        print(cnt)\n",
    "        break\n",
    "        # return cnt\n",
    "        \n",
    "    if (x-1>=0) and (maps[x-1][y]!=0): # 상\n",
    "        que.append((x-1,y,cnt+1))\n",
    "        maps[x-1][y]=0 # 여기서 방문처리 안해주면 효율성 검사 걸림\n",
    "        \n",
    "    if (x+1<n) and (maps[x+1][y]!=0): # 하\n",
    "        que.append((x+1,y,cnt+1))\n",
    "        maps[x+1][y]=0\n",
    "        \n",
    "    if (y-1>=0) and (maps[x][y-1]!=0): # 좌\n",
    "        que.append((x,y-1,cnt+1))\n",
    "        maps[x][y-1]=0\n",
    "        \n",
    "    if (y+1<m) and (maps[x][y+1]!=0): # 우\n",
    "        que.append((x,y+1,cnt+1))\n",
    "        maps[x][y+1]=0\n",
    "        \n",
    "# return -1"
   ]
  },
  {
   "cell_type": "code",
   "execution_count": null,
   "metadata": {},
   "outputs": [],
   "source": []
  }
 ],
 "metadata": {
  "kernelspec": {
   "display_name": "base",
   "language": "python",
   "name": "python3"
  },
  "language_info": {
   "codemirror_mode": {
    "name": "ipython",
    "version": 3
   },
   "file_extension": ".py",
   "mimetype": "text/x-python",
   "name": "python",
   "nbconvert_exporter": "python",
   "pygments_lexer": "ipython3",
   "version": "3.9.13"
  }
 },
 "nbformat": 4,
 "nbformat_minor": 2
}
