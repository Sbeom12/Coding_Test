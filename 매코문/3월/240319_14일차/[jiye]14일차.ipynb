{
 "cells": [
  {
   "cell_type": "markdown",
   "metadata": {},
   "source": [
    "### [DFS/BFS-단어 변환](https://school.programmers.co.kr/learn/courses/30/lessons/43163)"
   ]
  },
  {
   "cell_type": "markdown",
   "metadata": {},
   "source": [
    "![image](image_jiye.png)"
   ]
  },
  {
   "cell_type": "code",
   "execution_count": 37,
   "metadata": {},
   "outputs": [],
   "source": [
    "begin='hit'\n",
    "target='cog'\n",
    "words=[\"hot\", \"dot\", \"dog\", \"lot\", \"log\", \"cog\"] # 단어의 길이 3 ~ 10\n",
    "                                                 # 단어의 개수 3 ~ 50\n",
    "words=[\"hot\", \"dot\", \"dog\", \"lot\", \"log\"]"
   ]
  },
  {
   "cell_type": "code",
   "execution_count": 27,
   "metadata": {},
   "outputs": [],
   "source": [
    "# 인접 리스트 구현\n",
    "graph={w1:[] for w1 in words}\n",
    "visited={w1:False for w1 in words}\n",
    "\n",
    "for w1 in words:\n",
    "    for w2 in words:\n",
    "        cnt=0\n",
    "        for idx, ch in enumerate(list(w1)):\n",
    "            if ch!=list(w2)[idx]:cnt+=1\n",
    "        if cnt==1:\n",
    "            graph[w1].append(w2)"
   ]
  },
  {
   "cell_type": "code",
   "execution_count": 26,
   "metadata": {},
   "outputs": [
    {
     "data": {
      "text/plain": [
       "{'hot': ['dot', 'lot'],\n",
       " 'dot': ['hot', 'dog', 'lot'],\n",
       " 'dog': ['dot', 'log', 'cog'],\n",
       " 'lot': ['hot', 'dot', 'log'],\n",
       " 'log': ['dog', 'lot', 'cog'],\n",
       " 'cog': ['dog', 'log']}"
      ]
     },
     "execution_count": 26,
     "metadata": {},
     "output_type": "execute_result"
    }
   ],
   "source": [
    "graph"
   ]
  },
  {
   "cell_type": "code",
   "execution_count": 28,
   "metadata": {},
   "outputs": [
    {
     "data": {
      "text/plain": [
       "{'hot': False,\n",
       " 'dot': False,\n",
       " 'dog': False,\n",
       " 'lot': False,\n",
       " 'log': False,\n",
       " 'cog': False}"
      ]
     },
     "execution_count": 28,
     "metadata": {},
     "output_type": "execute_result"
    }
   ],
   "source": [
    "visited"
   ]
  },
  {
   "cell_type": "code",
   "execution_count": 32,
   "metadata": {},
   "outputs": [],
   "source": [
    "# BFS 구현\n",
    "from collections import *\n",
    "que=deque()\n",
    "\n",
    "\n",
    "for w1 in words:\n",
    "    cnt=0\n",
    "    for idx, ch in enumerate(list(w1)):\n",
    "        if ch!=list(begin)[idx]:cnt+=1\n",
    "    if cnt==1:\n",
    "        que.append((w1,1))\n",
    "        visited[w1]=True #방문처리"
   ]
  },
  {
   "cell_type": "code",
   "execution_count": 35,
   "metadata": {},
   "outputs": [],
   "source": [
    "def solution(begin, target, words):\n",
    "    # 인접 리스트 구현\n",
    "    graph={w1:[] for w1 in words}\n",
    "    visited={w1:False for w1 in words}\n",
    "\n",
    "    for w1 in words:\n",
    "        for w2 in words:\n",
    "            cnt=0\n",
    "            for idx, ch in enumerate(list(w1)):\n",
    "                if ch!=list(w2)[idx]:cnt+=1\n",
    "            if cnt==1:\n",
    "                graph[w1].append(w2)\n",
    "                \n",
    "    # BFS 구현\n",
    "    que=deque()\n",
    "    ## 시작노드 찾기\n",
    "    for w1 in words:\n",
    "        cnt=0\n",
    "        for idx, ch in enumerate(list(w1)):\n",
    "            if ch!=list(begin)[idx]:cnt+=1\n",
    "        if cnt==1:\n",
    "            que.append((w1,1))\n",
    "            visited[w1]=True #방문처리\n",
    "    \n",
    "    while que:\n",
    "        word,cnt=que.popleft()\n",
    "        if word==target:\n",
    "            # print(cnt)\n",
    "            # break\n",
    "            return cnt\n",
    "\n",
    "        for child in graph[word]:\n",
    "            if not visited[child]: # 방문한 노드가 아니라면\n",
    "                que.append((child,cnt+1))\n",
    "                visited[child]=True #방문처리\n",
    "    return 0   "
   ]
  },
  {
   "cell_type": "code",
   "execution_count": 38,
   "metadata": {},
   "outputs": [
    {
     "data": {
      "text/plain": [
       "0"
      ]
     },
     "execution_count": 38,
     "metadata": {},
     "output_type": "execute_result"
    }
   ],
   "source": [
    "solution(begin, target, words)"
   ]
  },
  {
   "cell_type": "code",
   "execution_count": null,
   "metadata": {},
   "outputs": [],
   "source": []
  }
 ],
 "metadata": {
  "kernelspec": {
   "display_name": "base",
   "language": "python",
   "name": "python3"
  },
  "language_info": {
   "codemirror_mode": {
    "name": "ipython",
    "version": 3
   },
   "file_extension": ".py",
   "mimetype": "text/x-python",
   "name": "python",
   "nbconvert_exporter": "python",
   "pygments_lexer": "ipython3",
   "version": "3.9.13"
  }
 },
 "nbformat": 4,
 "nbformat_minor": 2
}
