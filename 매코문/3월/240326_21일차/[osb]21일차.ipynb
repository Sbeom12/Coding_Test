{
 "cells": [
  {
   "cell_type": "markdown",
   "metadata": {},
   "source": [
    "# 3진법 뒤집기\n",
    "![alt text](image.png)"
   ]
  },
  {
   "cell_type": "code",
   "execution_count": null,
   "metadata": {
    "vscode": {
     "languageId": "plaintext"
    }
   },
   "outputs": [],
   "source": [
    "def solution(n):\n",
    "    answer = 0\n",
    "    square = 0\n",
    "    temp = 0\n",
    "    ternary = ''\n",
    "    while n != 0:\n",
    "        temp = str(n%3)\n",
    "        ternary += temp\n",
    "        n = n//3\n",
    "    for idx, val in enumerate(ternary[::-1]):\n",
    "        answer += int(val)*(3**idx)\n",
    "    return answer"
   ]
  }
 ],
 "metadata": {
  "language_info": {
   "name": "python"
  }
 },
 "nbformat": 4,
 "nbformat_minor": 2
}
