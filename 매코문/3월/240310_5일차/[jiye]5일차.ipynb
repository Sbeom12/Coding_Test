{
 "cells": [
  {
   "cell_type": "markdown",
   "metadata": {},
   "source": [
    "### [정렬-H Index](https://school.programmers.co.kr/learn/courses/30/lessons/42747)\n",
    "![alt text](image_jiye_day5.png)"
   ]
  },
  {
   "cell_type": "code",
   "execution_count": 61,
   "metadata": {},
   "outputs": [],
   "source": [
    "citations=[3, 0, 6, 1, 5]\n",
    "citations=sorted(citations,reverse=True)"
   ]
  },
  {
   "cell_type": "code",
   "execution_count": 49,
   "metadata": {},
   "outputs": [],
   "source": [
    "# [6, 5, 3, *1, 0]\n",
    "# [1, 2, 3, *4, 5] return 3\n",
    "\n",
    "# [6, 5, *2, 1, 0]\n",
    "# [1, 2, *3, 4, 5] return 2\n",
    "\n",
    "# [6, 5, 5, 5, *3, 1, 0] \n",
    "# [1, 2, 3, 4, *5, 6, 7] return 4\n",
    "\n",
    "# [*0, 0, 0, 0]\n",
    "# [*1, 2, 3, 4] return 0\n",
    "\n",
    "# [1, *0, 0, 0]\n",
    "# [1, *2, 3, 4] return 0\n",
    "\n",
    "# [4, 4 ,4]\n",
    "# [1, 2, 3] return 3"
   ]
  },
  {
   "cell_type": "code",
   "execution_count": 67,
   "metadata": {},
   "outputs": [
    {
     "name": "stdout",
     "output_type": "stream",
     "text": [
      "3\n"
     ]
    }
   ],
   "source": [
    "for idx,c in enumerate(citations,1):\n",
    "    # print(idx,c)\n",
    "    if idx>c: \n",
    "        print(idx-1)\n",
    "        break\n",
    "    "
   ]
  },
  {
   "cell_type": "code",
   "execution_count": 68,
   "metadata": {},
   "outputs": [],
   "source": [
    "def solution(citations):\n",
    "    citations=sorted(citations,reverse=True)\n",
    "    for idx,c in enumerate(citations,1):\n",
    "        if idx>c:\n",
    "            return idx-1\n",
    "    return idx\n"
   ]
  },
  {
   "cell_type": "code",
   "execution_count": 69,
   "metadata": {},
   "outputs": [
    {
     "data": {
      "text/plain": [
       "3"
      ]
     },
     "execution_count": 69,
     "metadata": {},
     "output_type": "execute_result"
    }
   ],
   "source": [
    "solution(citations)"
   ]
  }
 ],
 "metadata": {
  "kernelspec": {
   "display_name": "base",
   "language": "python",
   "name": "python3"
  },
  "language_info": {
   "codemirror_mode": {
    "name": "ipython",
    "version": 3
   },
   "file_extension": ".py",
   "mimetype": "text/x-python",
   "name": "python",
   "nbconvert_exporter": "python",
   "pygments_lexer": "ipython3",
   "version": "3.9.13"
  }
 },
 "nbformat": 4,
 "nbformat_minor": 2
}
