{
 "cells": [
  {
   "cell_type": "markdown",
   "metadata": {},
   "source": [
    "# 원하는 문자열 찾기\n",
    "![alt text](image.png)"
   ]
  },
  {
   "cell_type": "code",
   "execution_count": 8,
   "metadata": {},
   "outputs": [],
   "source": [
    "def solution(myString, pat):\n",
    "    myString = myString.lower() #소문자 변경.\n",
    "    pat = pat.lower() #소문자변경.\n",
    "    len_pat = len(pat)\n",
    "    check = 0\n",
    "    for string in myString:\n",
    "        if string != pat[check]: # 앞부분이 다르다면\n",
    "            check = 0\n",
    "        else:\n",
    "            check += 1\n",
    "            if check == len_pat:\n",
    "                answer =1\n",
    "                break\n",
    "    if check != len_pat:\n",
    "        answer = 0\n",
    "    return answer"
   ]
  },
  {
   "cell_type": "markdown",
   "metadata": {},
   "source": [
    "* 뭔가 더 단순하게 풀 수 있을것 같은데..."
   ]
  },
  {
   "cell_type": "code",
   "execution_count": 9,
   "metadata": {},
   "outputs": [
    {
     "name": "stdout",
     "output_type": "stream",
     "text": [
      "0\n",
      "1\n",
      "2\n"
     ]
    },
    {
     "data": {
      "text/plain": [
       "1"
      ]
     },
     "execution_count": 9,
     "metadata": {},
     "output_type": "execute_result"
    }
   ],
   "source": [
    "myString = \"AbCdEfG\"\n",
    "pat = \"aBc\"\n",
    "solution(myString, pat)"
   ]
  },
  {
   "cell_type": "markdown",
   "metadata": {},
   "source": [
    "# 최대공약수와 최소공배수\n",
    "![alt text](image-1.png)"
   ]
  },
  {
   "cell_type": "code",
   "execution_count": 20,
   "metadata": {},
   "outputs": [],
   "source": [
    "def solution(n, m):\n",
    "    # 일단 큰 수 먼저 찾기.\n",
    "    if n >= m:\n",
    "        num1, num2 = n, m\n",
    "    else:\n",
    "        num1, num2 = m, n\n",
    "    \n",
    "    for num in range(1, num1//2+2):\n",
    "        if num1 % num == 0 and num2 % num == 0:\n",
    "            max_commom_divisor = num  # 최대 공약수(결국에 가장 큰값이 남음)\n",
    "    least_common_multiple = num1 * num2 / max_commom_divisor # 최소공배수 규칙 = 두수의 곱 / 최대 공약수\n",
    "    answer = [int(max_commom_divisor), int(least_common_multiple)]\n",
    "    return answer"
   ]
  },
  {
   "cell_type": "code",
   "execution_count": 21,
   "metadata": {},
   "outputs": [
    {
     "data": {
      "text/plain": [
       "[3, 12]"
      ]
     },
     "execution_count": 21,
     "metadata": {},
     "output_type": "execute_result"
    }
   ],
   "source": [
    "solution(3, 12)"
   ]
  }
 ],
 "metadata": {
  "kernelspec": {
   "display_name": "Python 3",
   "language": "python",
   "name": "python3"
  },
  "language_info": {
   "codemirror_mode": {
    "name": "ipython",
    "version": 3
   },
   "file_extension": ".py",
   "mimetype": "text/x-python",
   "name": "python",
   "nbconvert_exporter": "python",
   "pygments_lexer": "ipython3",
   "version": "3.11.8"
  }
 },
 "nbformat": 4,
 "nbformat_minor": 2
}
