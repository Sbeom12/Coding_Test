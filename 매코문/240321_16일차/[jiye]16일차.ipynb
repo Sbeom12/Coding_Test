{
 "cells": [
  {
   "cell_type": "markdown",
   "metadata": {},
   "source": [
    "### [DFS/BFS-여행경로](https://school.programmers.co.kr/learn/courses/30/lessons/43164)"
   ]
  },
  {
   "cell_type": "markdown",
   "metadata": {},
   "source": [
    "![image](image_jiye.png)"
   ]
  },
  {
   "cell_type": "code",
   "execution_count": 16,
   "metadata": {},
   "outputs": [],
   "source": [
    "tickets=[[\"ICN\", \"SFO\"], [\"ICN\", \"SFO\"], [\"SFO\", \"ATL\"], [\"ATL\", \"ICN\"]] # 3개 이상 10,000개 이하"
   ]
  },
  {
   "cell_type": "code",
   "execution_count": 48,
   "metadata": {},
   "outputs": [],
   "source": [
    "tickets=[[\"ICN\", \"SFO\"], [\"SFO\",\"ATL\"],[\"SFO\",\"ATL\"],['ATL','SFO']]# 3개 이상 10,000개 이하"
   ]
  },
  {
   "cell_type": "code",
   "execution_count": 64,
   "metadata": {},
   "outputs": [],
   "source": [
    "def solution(tickets):\n",
    "    graph=dict()\n",
    "\n",
    "    for t,f in tickets:\n",
    "        if not(t in graph):\n",
    "            graph[t]=[]\n",
    "        graph[t].append(f)\n",
    "\n",
    "    for key in graph.keys():\n",
    "        graph[key]=sorted(graph[key])\n",
    "        \n",
    "    print(graph)\n",
    "    \n",
    "    answer=['ICN']\n",
    "    dfs('ICN',graph,answer)\n",
    "    return answer\n",
    "\n",
    "def dfs(parent,graph,answer):\n",
    "    if parent in graph:\n",
    "        for c in graph[parent]:\n",
    "            graph[parent].remove(c)\n",
    "            print(parent,'-',c,graph)\n",
    "            # print(c, end=' ')\n",
    "            answer.append(c)\n",
    "            dfs(c,graph,answer)"
   ]
  },
  {
   "cell_type": "code",
   "execution_count": 65,
   "metadata": {},
   "outputs": [
    {
     "data": {
      "text/plain": [
       "[['ICN', 'SFO'], ['SFO', 'ATL'], ['SFO', 'ATL'], ['ATL', 'SFO']]"
      ]
     },
     "execution_count": 65,
     "metadata": {},
     "output_type": "execute_result"
    }
   ],
   "source": [
    "tickets"
   ]
  },
  {
   "cell_type": "code",
   "execution_count": 66,
   "metadata": {},
   "outputs": [
    {
     "name": "stdout",
     "output_type": "stream",
     "text": [
      "{'ICN': ['SFO'], 'SFO': ['ATL', 'ATL'], 'ATL': ['SFO']}\n",
      "ICN - SFO {'ICN': [], 'SFO': ['ATL', 'ATL'], 'ATL': ['SFO']}\n",
      "SFO - ATL {'ICN': [], 'SFO': ['ATL'], 'ATL': ['SFO']}\n",
      "ATL - SFO {'ICN': [], 'SFO': ['ATL'], 'ATL': []}\n",
      "SFO - ATL {'ICN': [], 'SFO': [], 'ATL': []}\n"
     ]
    },
    {
     "data": {
      "text/plain": [
       "['ICN', 'SFO', 'ATL', 'SFO', 'ATL']"
      ]
     },
     "execution_count": 66,
     "metadata": {},
     "output_type": "execute_result"
    }
   ],
   "source": [
    "solution(tickets)"
   ]
  },
  {
   "cell_type": "code",
   "execution_count": 34,
   "metadata": {},
   "outputs": [
    {
     "data": {
      "text/plain": [
       "['a', 'a', 'a', 'b']"
      ]
     },
     "execution_count": 34,
     "metadata": {},
     "output_type": "execute_result"
    }
   ],
   "source": [
    "lst"
   ]
  },
  {
   "cell_type": "code",
   "execution_count": null,
   "metadata": {},
   "outputs": [],
   "source": []
  }
 ],
 "metadata": {
  "kernelspec": {
   "display_name": "base",
   "language": "python",
   "name": "python3"
  },
  "language_info": {
   "codemirror_mode": {
    "name": "ipython",
    "version": 3
   },
   "file_extension": ".py",
   "mimetype": "text/x-python",
   "name": "python",
   "nbconvert_exporter": "python",
   "pygments_lexer": "ipython3",
   "version": "3.9.13"
  }
 },
 "nbformat": 4,
 "nbformat_minor": 2
}
