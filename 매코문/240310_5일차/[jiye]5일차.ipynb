{
 "cells": [
  {
   "cell_type": "markdown",
   "metadata": {},
   "source": [
    "### [정렬-H Index](https://school.programmers.co.kr/learn/courses/30/lessons/42747)\n",
    "![alt text](image_jiye_day5.png)"
   ]
  },
  {
   "cell_type": "markdown",
   "metadata": {},
   "source": []
  }
 ],
 "metadata": {
  "language_info": {
   "name": "python"
  }
 },
 "nbformat": 4,
 "nbformat_minor": 2
}
