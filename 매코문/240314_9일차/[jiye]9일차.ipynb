{
 "cells": [
  {
   "attachments": {},
   "cell_type": "markdown",
   "metadata": {},
   "source": [
    "### [DFS/BFS-타겟넘버](https://school.programmers.co.kr/learn/courses/30/lessons/43165)"
   ]
  },
  {
   "attachments": {},
   "cell_type": "markdown",
   "metadata": {},
   "source": [
    "![alt text](image_jiye.png)"
   ]
  },
  {
   "cell_type": "code",
   "execution_count": 41,
   "metadata": {},
   "outputs": [],
   "source": [
    "numbers=[4,1,2,1]\n",
    "target=4"
   ]
  },
  {
   "cell_type": "code",
   "execution_count": 45,
   "metadata": {},
   "outputs": [],
   "source": [
    "graph=[[] for _ in range(len(numbers)+1)]\n",
    "graph[0]=[0]"
   ]
  },
  {
   "cell_type": "code",
   "execution_count": 46,
   "metadata": {},
   "outputs": [
    {
     "data": {
      "text/plain": [
       "2"
      ]
     },
     "execution_count": 46,
     "metadata": {},
     "output_type": "execute_result"
    }
   ],
   "source": [
    "for idx,num in enumerate(numbers):\n",
    "    temp=[]\n",
    "    # print(graph[idx])\n",
    "    for parent in graph[idx]:\n",
    "        # print(parent)?\n",
    "        temp.append(parent+num)\n",
    "        temp.append(parent-num)\n",
    "    graph[idx+1]=temp\n",
    "graph[-1].count(target)\n",
    "    "
   ]
  },
  {
   "cell_type": "code",
   "execution_count": null,
   "metadata": {},
   "outputs": [],
   "source": [
    "# dfs로 풀기 -- TBC..\n",
    "leafs=[]\n",
    "def dfs():\n",
    "    for num in numbers\n",
    "    "
   ]
  },
  {
   "attachments": {},
   "cell_type": "markdown",
   "metadata": {},
   "source": [
    "#### DFS/BFS 복습\n"
   ]
  },
  {
   "cell_type": "code",
   "execution_count": 48,
   "metadata": {},
   "outputs": [],
   "source": [
    "# 그래프(인접 리스트)\n",
    "graph=[\n",
    "    [], #0\n",
    "    [2,3,8], #1\n",
    "    [1,7], #2\n",
    "    [1,4,5], #3\n",
    "    [3,5], #4\n",
    "    [3,4], #5\n",
    "    [7], #6\n",
    "    [2,6,8], #7\n",
    "    [1,7] #8\n",
    "]\n",
    "\n",
    "# 노드별 방문 정보\n",
    "visited=[False]*len(graph)"
   ]
  },
  {
   "cell_type": "code",
   "execution_count": 49,
   "metadata": {},
   "outputs": [],
   "source": [
    "# BFS - Queue(FIFO)\n",
    "\n",
    "from collections import deque\n",
    "def BFS(graph,start,visited):\n",
    "    queue=deque([start])\n",
    "    visited[start]=True # 방문처리\n",
    "    \n",
    "    while queue:\n",
    "        v=queue.popleft()\n",
    "        print(v,end=' ')\n",
    "        for i in graph[v]:\n",
    "            if not visited[i]:\n",
    "                queue.append(i)\n",
    "                visited[i]=True"
   ]
  },
  {
   "cell_type": "code",
   "execution_count": 50,
   "metadata": {},
   "outputs": [
    {
     "name": "stdout",
     "output_type": "stream",
     "text": [
      "1 2 3 8 7 4 5 6 "
     ]
    }
   ],
   "source": [
    "BFS(graph,1,visited)"
   ]
  },
  {
   "cell_type": "code",
   "execution_count": 51,
   "metadata": {},
   "outputs": [],
   "source": [
    "# DFS - Stack(LIFO)\n",
    "\n",
    "# 노드별 방문 정보 초기화\n",
    "visited=[False]*len(graph)\n",
    "\n",
    "def DFS(graph,v,visited):\n",
    "    visited[v]=True # 방문처리\n",
    "    print(v, end=' ')\n",
    "    \n",
    "    for i in graph[v]:\n",
    "        if not visited[i]:\n",
    "            DFS(graph,i,visited)"
   ]
  },
  {
   "cell_type": "code",
   "execution_count": 52,
   "metadata": {},
   "outputs": [
    {
     "name": "stdout",
     "output_type": "stream",
     "text": [
      "1 2 7 6 8 3 4 5 "
     ]
    }
   ],
   "source": [
    "DFS(graph,1,visited)"
   ]
  }
 ],
 "metadata": {
  "kernelspec": {
   "display_name": "base",
   "language": "python",
   "name": "python3"
  },
  "language_info": {
   "codemirror_mode": {
    "name": "ipython",
    "version": 3
   },
   "file_extension": ".py",
   "mimetype": "text/x-python",
   "name": "python",
   "nbconvert_exporter": "python",
   "pygments_lexer": "ipython3",
   "version": "3.9.13"
  },
  "orig_nbformat": 4
 },
 "nbformat": 4,
 "nbformat_minor": 2
}
