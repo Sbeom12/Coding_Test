{
 "cells": [
  {
   "cell_type": "markdown",
   "metadata": {},
   "source": [
    "# 김서방 찾기  \n",
    "![alt text](image.png)"
   ]
  },
  {
   "cell_type": "code",
   "execution_count": null,
   "metadata": {},
   "outputs": [],
   "source": [
    "def solution(seoul):\n",
    "    for i, name in enumerate(seoul):\n",
    "        if name == 'Kim':\n",
    "            break\n",
    "    #i= seoul.index('Kim')\n",
    "    answer = f'김서방은 {i}에 있다'\n",
    "    return answer"
   ]
  },
  {
   "cell_type": "markdown",
   "metadata": {},
   "source": [
    "# 문자열 다루기 기초\n",
    "![alt text](image-1.png)"
   ]
  },
  {
   "cell_type": "code",
   "execution_count": null,
   "metadata": {},
   "outputs": [],
   "source": [
    "def solution(s):\n",
    "    numeric_set = set(['0','1','2','3','4','5','6','7','8','9'])\n",
    "    if len(s) == 4 or len(s) == 6:\n",
    "        for data in s:\n",
    "            if data not in numeric_set:\n",
    "                return False\n",
    "        return True\n",
    "    return False"
   ]
  },
  {
   "cell_type": "code",
   "execution_count": 72,
   "metadata": {},
   "outputs": [],
   "source": [
    "def solution(h1, m1, s1, h2, m2, s2):\n",
    "    time = 3600 * (h2 - h1) + 60 * (m2 - m1) + (s2 - s1)\n",
    "    hour_angle = round((3600 * h1 + 60 * m1 + s1) / 120 % 360, 4)  # 1초당 1/120 도 돌아감.\n",
    "    min_angle = round(((60 * m1 + s1) / 10) % 360, 1)  # 1초당 1/10도 돌아감\n",
    "    sec_angle = (s1 * 6) % 360  # 1초당 3도씩 돌아감\n",
    "    answer = 0\n",
    "    elapsed_time = 1\n",
    "\n",
    "    def hour_check(hour, sec, next_hour, next_sec):\n",
    "        if ((sec < hour) and (next_sec > next_hour)):\n",
    "            return True\n",
    "        if next_sec == 0 and next_sec + 360 >= next_hour and sec < hour:\n",
    "            return True\n",
    "        return False\n",
    "\n",
    "    def min_check(min, sec, next_min, next_sec):\n",
    "        if(sec < min) and (next_sec > next_min):\n",
    "            return True\n",
    "        if next_sec == 0 and next_sec + 360 >= next_min and sec < min:\n",
    "            return True\n",
    "        return False\n",
    "\n",
    "    pre_hour, pre_min, pre_sec = hour_angle, min_angle, sec_angle\n",
    "    if pre_hour == pre_min == pre_sec:\n",
    "        answer -= 1\n",
    "\n",
    "    while elapsed_time <= time:\n",
    "        next_hour_angle = round((hour_angle + elapsed_time / 120) % 360, 4)\n",
    "        next_min_angle = round((min_angle + elapsed_time / 10) % 360, 1)\n",
    "        next_sec_angle = (sec_angle + elapsed_time * 6) % 360\n",
    "\n",
    "        if hour_check(pre_hour, pre_sec, next_hour_angle, next_sec_angle):\n",
    "            answer += 1\n",
    "        if min_check(pre_min, pre_sec, next_min_angle, next_sec_angle):\n",
    "            answer += 1\n",
    "        if (next_hour_angle == next_min_angle == next_sec_angle) or pre_sec == pre_hour or pre_min==pre_sec:\n",
    "            print(elapsed_time, next_hour_angle, next_min_angle, next_sec_angle, pre_hour, pre_min, pre_sec)\n",
    "            answer += 1\n",
    "\n",
    "        pre_hour = next_hour_angle\n",
    "        pre_min = next_min_angle\n",
    "        pre_sec = next_sec_angle\n",
    "        elapsed_time += 1\n",
    "\n",
    "    return answer"
   ]
  },
  {
   "cell_type": "code",
   "execution_count": 76,
   "metadata": {},
   "outputs": [
    {
     "name": "stdout",
     "output_type": "stream",
     "text": [
      "0 0 0\n",
      "1 1 12 720 0 0 0\n",
      "3601 3601 12 720 3600 0 0\n",
      "7201 7201 12 720 7200 0 0\n",
      "10801 10801 12 720 10800 0 0\n",
      "14401 14401 12 720 14400 0 0\n",
      "18001 18001 12 720 18000 0 0\n",
      "21601 21601 12 720 21600 0 0\n",
      "25201 25201 12 720 25200 0 0\n",
      "28801 28801 12 720 28800 0 0\n",
      "32401 32401 12 720 32400 0 0\n",
      "36001 36001 12 720 36000 0 0\n",
      "39601 39601 12 720 39600 0 0\n",
      "43200 0 0 0 43199 43188 42480\n",
      "43201 1 12 720 0 0 0\n",
      "46801 3601 12 720 3600 0 0\n",
      "50401 7201 12 720 7200 0 0\n",
      "54001 10801 12 720 10800 0 0\n",
      "57601 14401 12 720 14400 0 0\n",
      "61201 18001 12 720 18000 0 0\n",
      "64801 21601 12 720 21600 0 0\n",
      "68401 25201 12 720 25200 0 0\n",
      "72001 28801 12 720 28800 0 0\n",
      "75601 32401 12 720 32400 0 0\n",
      "79201 36001 12 720 36000 0 0\n",
      "82801 39601 12 720 39600 0 0\n"
     ]
    },
    {
     "data": {
      "text/plain": [
       "2826"
      ]
     },
     "execution_count": 76,
     "metadata": {},
     "output_type": "execute_result"
    }
   ],
   "source": [
    "solution(0, 0, 0, 23, 59, 59)"
   ]
  },
  {
   "cell_type": "code",
   "execution_count": 92,
   "metadata": {},
   "outputs": [
    {
     "name": "stdout",
     "output_type": "stream",
     "text": [
      "aa\n",
      "30 0 0 0 43199 43188 42480\n"
     ]
    },
    {
     "data": {
      "text/plain": [
       "3"
      ]
     },
     "execution_count": 92,
     "metadata": {},
     "output_type": "execute_result"
    }
   ],
   "source": [
    "def solution(h1, m1, s1, h2, m2, s2):\n",
    "    time = 3600 * (h2 - h1) + 60 * (m2 - m1) + (s2 - s1)\n",
    "    hour_angle = (3600 * h1 + 60 * m1 + s1) % (360*120)\n",
    "    min_angle = ((60 * m1 + s1) *12) % (360*120)\n",
    "    sec_angle = (s1 * 720) % (360*120)\n",
    "    answer = 0\n",
    "    elapsed_time = 1\n",
    "    #print(hour_angle, min_angle, sec_angle)\n",
    "    def hour_check(hour, sec, next_hour, next_sec):\n",
    "        if ((sec < hour) and (next_sec > next_hour)):\n",
    "            return True\n",
    "        if (next_sec == 0) and ((360*120) > next_hour) and (sec < hour):\n",
    "            return True\n",
    "        return False\n",
    "\n",
    "    def min_check(min, sec, next_min, next_sec):\n",
    "        if (sec < min) and (next_sec > next_min):\n",
    "            print('aa')\n",
    "            print(elapsed_time, next_hour, next_min, next_sec, pre_hour, pre_min, pre_sec)\n",
    "            return True\n",
    "        if (next_sec == 0) and ((360*120) > next_min) and (sec < min):\n",
    "            print('aa')\n",
    "            return True\n",
    "        return False\n",
    "\n",
    "    pre_hour, pre_min, pre_sec = hour_angle, min_angle, sec_angle\n",
    "\n",
    "    while elapsed_time <= time:\n",
    "        next_hour = (hour_angle + elapsed_time) % (360*120)\n",
    "        next_min = (min_angle + elapsed_time*12) % (360*120)\n",
    "        next_sec = (sec_angle + elapsed_time * 720) % (360*120)\n",
    "\n",
    "        if hour_check(pre_hour, pre_sec, next_hour, next_sec):\n",
    "            answer += 1\n",
    "        if min_check(pre_min, pre_sec, next_min, next_sec):\n",
    "            answer += 1\n",
    "        if (next_hour == next_min == next_sec) or pre_sec == pre_hour or pre_min==pre_sec:\n",
    "            print(elapsed_time, next_hour, next_min, next_sec, pre_hour, pre_min, pre_sec)\n",
    "            answer += 1\n",
    "\n",
    "        pre_hour = next_hour\n",
    "        pre_min = next_min\n",
    "        pre_sec = next_sec\n",
    "        elapsed_time += 1\n",
    "\n",
    "    return answer\n",
    "solution(11, 59, 30, 12, 0, 0)"
   ]
  },
  {
   "cell_type": "code",
   "execution_count": null,
   "metadata": {},
   "outputs": [],
   "source": []
  },
  {
   "cell_type": "code",
   "execution_count": null,
   "metadata": {},
   "outputs": [],
   "source": []
  }
 ],
 "metadata": {
  "kernelspec": {
   "display_name": "Python 3",
   "language": "python",
   "name": "python3"
  },
  "language_info": {
   "codemirror_mode": {
    "name": "ipython",
    "version": 3
   },
   "file_extension": ".py",
   "mimetype": "text/x-python",
   "name": "python",
   "nbconvert_exporter": "python",
   "pygments_lexer": "ipython3",
   "version": "3.11.3"
  }
 },
 "nbformat": 4,
 "nbformat_minor": 2
}
