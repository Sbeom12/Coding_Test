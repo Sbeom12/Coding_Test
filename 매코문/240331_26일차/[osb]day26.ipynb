{
 "cells": [
  {
   "cell_type": "markdown",
   "metadata": {},
   "source": [
    "# 개인정보 수집 유효기간\n",
    "![alt text](image.png)   \n",
    "![alt text](image-1.png)   \n",
    "![alt text](image-2.png)"
   ]
  },
  {
   "cell_type": "code",
   "execution_count": null,
   "metadata": {},
   "outputs": [],
   "source": [
    "def solution(today, terms, privacies):\n",
    "    term_dict = {term_type: int(term_valid) for term_type, term_valid in map(str.split, terms)}\n",
    "    today_year, today_month, today_date = map(int, today.split('.'))\n",
    "    today_days = today_year * 12 * 28 + today_month * 28 + today_date # 일로 처리.\n",
    "    answer = []\n",
    "    for idx, privacy in enumerate(privacies, start=1):\n",
    "        date, term_type = privacy.split()\n",
    "        year, month, day = map(int, date.split('.')) # 년,월,일 분리 후 int처리\n",
    "        expiry_days = year * 12 * 28 + month * 28 + day + term_dict[term_type] * 28 - 1 # 만료일 계산,\n",
    "        \n",
    "        if expiry_days < today_days:\n",
    "            answer.append(idx)\n",
    "    \n",
    "    return answer"
   ]
  },
  {
   "cell_type": "code",
   "execution_count": null,
   "metadata": {},
   "outputs": [],
   "source": []
  }
 ],
 "metadata": {
  "language_info": {
   "name": "python"
  }
 },
 "nbformat": 4,
 "nbformat_minor": 2
}
