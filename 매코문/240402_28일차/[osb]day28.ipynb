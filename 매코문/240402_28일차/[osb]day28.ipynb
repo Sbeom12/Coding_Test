{
 "cells": [
  {
   "cell_type": "markdown",
   "metadata": {},
   "source": [
    "# 자연수 뒤집어 배열 만들기\n",
    "![alt text](image.png)"
   ]
  },
  {
   "cell_type": "code",
   "execution_count": 7,
   "metadata": {},
   "outputs": [],
   "source": [
    "def solution(n):\n",
    "    answer = []\n",
    "    str_num = str(n)\n",
    "    for i in str_num[::-1]:\n",
    "        answer.append(i)\n",
    "    return answer"
   ]
  },
  {
   "cell_type": "markdown",
   "metadata": {},
   "source": [
    "# 음양 더하기  \n",
    "![alt text](image-1.png)"
   ]
  },
  {
   "cell_type": "code",
   "execution_count": null,
   "metadata": {},
   "outputs": [],
   "source": [
    "def solution(absolutes, signs):\n",
    "    answer = 0\n",
    "    for num, sign in zip(absolutes, signs):\n",
    "        if sign:\n",
    "            answer += num\n",
    "        else:\n",
    "            answer -= num\n",
    "    return answer"
   ]
  },
  {
   "cell_type": "markdown",
   "metadata": {},
   "source": [
    "# 두 개 뽑아서 더하기  \n",
    "![alt text](image-2.png)"
   ]
  },
  {
   "cell_type": "code",
   "execution_count": 8,
   "metadata": {},
   "outputs": [],
   "source": [
    "from itertools import combinations\n",
    "def solution(numbers):\n",
    "    combis = combinations(numbers, 2)\n",
    "    answer = set()\n",
    "    for combi in combis:\n",
    "        num1, num2 = combi[0], combi[1]\n",
    "        answer.add(num1+num2)\n",
    "    return sorted(list(answer)) # 오름차순 정렬."
   ]
  },
  {
   "cell_type": "markdown",
   "metadata": {},
   "source": [
    "# 다트 게임  \n",
    "![alt text](image-3.png)    \n",
    "![alt text](image-4.png)"
   ]
  },
  {
   "cell_type": "code",
   "execution_count": 82,
   "metadata": {},
   "outputs": [],
   "source": [
    "def solution(dartResult):\n",
    "    answer = 0\n",
    "    single_point, double_point, triple_point =0,0,0\n",
    "    idx_list, star_idxs, sharp_idxs = [], [], []\n",
    "    dart_dict= {}\n",
    "    # *,# 위치 찾기 및 제거\n",
    "    for idx, dart in enumerate(dartResult):\n",
    "        if dart == '*':\n",
    "            star_idxs.append(idx-1)\n",
    "        elif dart == '#':\n",
    "            sharp_idxs.append(idx-1)\n",
    "    temp = dartResult.replace('#', '')\n",
    "    temp = temp.replace('*', '')\n",
    "    # 점수 처리.\n",
    "    for idx, dart in enumerate(temp):\n",
    "        if dart == 'S':\n",
    "            if idx_list:\n",
    "                single_point = int(temp[idx_list[-1]+1:idx])\n",
    "            else:\n",
    "                single_point = int(temp[:idx])\n",
    "            idx_list.append(idx)\n",
    "            dart_dict[idx] = single_point\n",
    "            \n",
    "        elif dart == 'D':\n",
    "            if idx_list:\n",
    "                double_point = int(temp[idx_list[-1]+1:idx])**2\n",
    "            else:\n",
    "                double_point = int(temp[:idx])**2\n",
    "            idx_list.append(idx)\n",
    "            dart_dict[idx] = double_point\n",
    "        elif dart == 'T':\n",
    "            if idx_list:\n",
    "                triple_point= int(temp[idx_list[-1]+1:idx]) ** 3\n",
    "            else:\n",
    "                triple_point= int(temp[:idx]) ** 3\n",
    "            idx_list.append(idx)\n",
    "            dart_dict[idx] = triple_point\n",
    "    \n",
    "    # -처리\n",
    "    for sharp_idx in sharp_idxs: \n",
    "        for idx in idx_list[::-1]:\n",
    "            if idx <= sharp_idx:\n",
    "                dart_dict[idx] *= (-1)\n",
    "                break\n",
    "    # 2배처리\n",
    "    for star_idx in star_idxs:\n",
    "        temp = 0\n",
    "        for idx in idx_list[::-1]:\n",
    "            if temp < 2 and idx <= star_idx:\n",
    "                dart_dict[idx] *= 2\n",
    "                temp +=1\n",
    "    for score in dart_dict.values():\n",
    "        answer += score\n",
    "    return answer"
   ]
  },
  {
   "cell_type": "code",
   "execution_count": null,
   "metadata": {},
   "outputs": [],
   "source": [
    "# 개선\n",
    "def solution(dartResult):\n",
    "    scores = []\n",
    "    bonus = {'S': 1, 'D': 2, 'T': 3}\n",
    "    \n",
    "    for i in range(len(dartResult)):\n",
    "        if dartResult[i].isdigit():\n",
    "            if dartResult[i+1].isdigit():\n",
    "                score = int(dartResult[i:i+2])\n",
    "                i += 1\n",
    "            else:\n",
    "                score = int(dartResult[i])\n",
    "            i += 1\n",
    "            score **= bonus[dartResult[i]]\n",
    "            scores.append(score)\n",
    "        elif dartResult[i] == '*':\n",
    "            if len(scores) > 1:\n",
    "                scores[-2] *= 2\n",
    "            scores[-1] *= 2\n",
    "        elif dartResult[i] == '#':\n",
    "            scores[-1] *= -1\n",
    "    \n",
    "    return sum(scores)"
   ]
  }
 ],
 "metadata": {
  "kernelspec": {
   "display_name": "Python 3",
   "language": "python",
   "name": "python3"
  },
  "language_info": {
   "codemirror_mode": {
    "name": "ipython",
    "version": 3
   },
   "file_extension": ".py",
   "mimetype": "text/x-python",
   "name": "python",
   "nbconvert_exporter": "python",
   "pygments_lexer": "ipython3",
   "version": "3.11.8"
  }
 },
 "nbformat": 4,
 "nbformat_minor": 2
}
