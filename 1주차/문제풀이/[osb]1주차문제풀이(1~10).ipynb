{
 "cells": [
  {
   "cell_type": "markdown",
   "metadata": {},
   "source": [
    "## 1000_A+B\n",
    "---"
   ]
  },
  {
   "cell_type": "code",
   "execution_count": null,
   "metadata": {},
   "outputs": [],
   "source": [
    "import sys\n",
    "\n",
    "a, b = map(int, sys.stdin.readline().rstrip().split(' '))\n",
    "\n",
    "print(a+b)"
   ]
  },
  {
   "cell_type": "markdown",
   "metadata": {},
   "source": [
    "## 1001_A-B\n",
    "---"
   ]
  },
  {
   "cell_type": "code",
   "execution_count": null,
   "metadata": {},
   "outputs": [],
   "source": [
    "a, b = map(int, input().split())\n",
    "print(a - b)"
   ]
  },
  {
   "cell_type": "markdown",
   "metadata": {},
   "source": [
    "## 1008_ A/B\n",
    "---"
   ]
  },
  {
   "cell_type": "code",
   "execution_count": null,
   "metadata": {},
   "outputs": [],
   "source": [
    "a, b = input().split(\" \")\n",
    "print(int(a) / int(b))"
   ]
  },
  {
   "cell_type": "markdown",
   "metadata": {},
   "source": [
    "## 1152_단어의 개수\n",
    "---\n"
   ]
  },
  {
   "cell_type": "code",
   "execution_count": null,
   "metadata": {},
   "outputs": [],
   "source": [
    "sentence = input().split()\n",
    "print(len(sentence))\n",
    "qja8327Q!!"
   ]
  },
  {
   "cell_type": "markdown",
   "metadata": {},
   "source": [
    "## 1157_단어 공부\n",
    "---\n"
   ]
  },
  {
   "cell_type": "code",
   "execution_count": null,
   "metadata": {},
   "outputs": [],
   "source": [
    "words = input().upper()\n",
    "word_set = set(words)\n",
    "if len(word_set) == 0:\n",
    "    print('?')\n",
    "else:\n",
    "    word_dict = {}\n",
    "    for data in word_set:\n",
    "        word_dict[data] = 0\n",
    "    for word in words:\n",
    "        word_dict[word] += 1\n",
    "    word_list =sorted(list(word_dict.items()), key=lambda x: x[1], reverse=True)\n",
    "    if len(word_list) == 1:\n",
    "        print(word_list[0][0])\n",
    "    elif word_list[0][1] != word_list[1][1]:\n",
    "        print(word_list[0][0])\n",
    "    else:\n",
    "        print('?')"
   ]
  },
  {
   "cell_type": "markdown",
   "metadata": {},
   "source": [
    "## 1330_두 수 비교하기\n",
    "---\n"
   ]
  },
  {
   "cell_type": "code",
   "execution_count": null,
   "metadata": {},
   "outputs": [],
   "source": [
    "a, b = map(int, input().split())\n",
    "if a < b:\n",
    "    print(\"<\")\n",
    "elif a > b:\n",
    "    print(\">\")\n",
    "else:\n",
    "    print(\"==\")"
   ]
  },
  {
   "cell_type": "markdown",
   "metadata": {},
   "source": [
    "## 2438_별찍기-1\n",
    "---"
   ]
  },
  {
   "cell_type": "code",
   "execution_count": null,
   "metadata": {},
   "outputs": [],
   "source": [
    "num = int(input())\n",
    "str_start ='*'\n",
    "for i in range(1, num+1):\n",
    "    print(str_start*i)"
   ]
  },
  {
   "cell_type": "markdown",
   "metadata": {},
   "source": [
    "## 2439_별찍기-2\n",
    "---"
   ]
  },
  {
   "cell_type": "code",
   "execution_count": null,
   "metadata": {},
   "outputs": [],
   "source": [
    "try_time = int(input())\n",
    "for i in range(1, try_time+1):\n",
    "    print(\" \" * (try_time - i) + \"*\" * i)"
   ]
  },
  {
   "cell_type": "markdown",
   "metadata": {},
   "source": [
    "## 2475 검증수\n",
    "---"
   ]
  },
  {
   "cell_type": "code",
   "execution_count": null,
   "metadata": {},
   "outputs": [],
   "source": [
    "num_list = input().split()\n",
    "\n",
    "total_num = 0\n",
    "for num in num_list:\n",
    "    total_num += int(num)**2\n",
    "print(total_num%10)"
   ]
  },
  {
   "cell_type": "markdown",
   "metadata": {},
   "source": [
    "## 2557 Hello Word\n",
    "---\n"
   ]
  },
  {
   "cell_type": "code",
   "execution_count": null,
   "metadata": {},
   "outputs": [],
   "source": [
    "print('Hello World!')"
   ]
  },
  {
   "cell_type": "markdown",
   "metadata": {},
   "source": [
    "## 2562 최댓값\n",
    "---"
   ]
  },
  {
   "cell_type": "code",
   "execution_count": null,
   "metadata": {},
   "outputs": [],
   "source": [
    "num_list = [int(input()) for _ in range(9)]\n",
    "temp = 1\n",
    "num_dict ={}\n",
    "for num in num_list:\n",
    "    num_dict[num] = temp\n",
    "    temp+=1\n",
    "print(max(num_list))\n",
    "print(num_dict[max(num_list)])"
   ]
  },
  {
   "cell_type": "markdown",
   "metadata": {},
   "source": [
    "## 2577 숫자의 개수\n",
    "---"
   ]
  },
  {
   "cell_type": "code",
   "execution_count": null,
   "metadata": {},
   "outputs": [],
   "source": [
    "A = int(input())\n",
    "B= int(input())\n",
    "C = int(input())\n",
    "value = str(A*B*C)\n",
    "set_value= set(value)\n",
    "\n",
    "value_dict = {}\n",
    "for v in set_value:\n",
    "    value_dict[v] = 0\n",
    "for v in value:\n",
    "    value_dict[v] += 1\n",
    "\n",
    "for i in range(10):\n",
    "    if str(i) in value_dict:\n",
    "        print(value_dict[str(i)])\n",
    "    else:\n",
    "        print(0)"
   ]
  },
  {
   "cell_type": "markdown",
   "metadata": {},
   "source": [
    "## 2675 문자열 반복\n",
    "---"
   ]
  },
  {
   "cell_type": "code",
   "execution_count": null,
   "metadata": {},
   "outputs": [],
   "source": [
    "try_num = int(input())\n",
    "for i in range(try_num):\n",
    "    mul, words = input().split()\n",
    "    words = list(words)\n",
    "    mul = int(mul)\n",
    "    answer = ''\n",
    "    for word in words:\n",
    "        answer += word*mul\n",
    "    print(answer)"
   ]
  },
  {
   "cell_type": "markdown",
   "metadata": {},
   "source": [
    "## 2739 구구단\n",
    "---"
   ]
  },
  {
   "cell_type": "code",
   "execution_count": null,
   "metadata": {},
   "outputs": [],
   "source": [
    "number = int(input())\n",
    "a = 1\n",
    "while a < 10:\n",
    "    print(f\"{number} * {a} = {number * a}\")\n",
    "    a += 1"
   ]
  },
  {
   "cell_type": "markdown",
   "metadata": {},
   "source": [
    "## 2741 N 찍기\n",
    "---"
   ]
  },
  {
   "cell_type": "code",
   "execution_count": null,
   "metadata": {},
   "outputs": [],
   "source": [
    "import sys\n",
    "try_time = int(sys.stdin.readline())\n",
    "for a in range(try_time):\n",
    "    print(a + 1)\n"
   ]
  },
  {
   "cell_type": "markdown",
   "metadata": {},
   "source": [
    "## 2735 윤년\n",
    "---"
   ]
  },
  {
   "cell_type": "code",
   "execution_count": null,
   "metadata": {},
   "outputs": [],
   "source": [
    "year = int(input())\n",
    "if year % 4 == 0 and year % 100 != 0 or year % 400 == 0:\n",
    "    print(\"1\")\n",
    "else:\n",
    "    print(\"0\")"
   ]
  },
  {
   "cell_type": "markdown",
   "metadata": {},
   "source": [
    "## 2884 알람 시게\n",
    "---"
   ]
  },
  {
   "cell_type": "code",
   "execution_count": null,
   "metadata": {},
   "outputs": [],
   "source": [
    "hour, minute = input().split()\n",
    "hour = int(hour)\n",
    "minute = int(minute)\n",
    "if minute > 44:\n",
    "    print(f\"{hour} {minute - 45}\")\n",
    "elif hour == 0 and (minute - 45) <= 0:\n",
    "    print(f\"{23} {60 + (minute - 45)}\")\n",
    "elif (minute - 45) < 0:\n",
    "    print(f\"{hour -1} {60 + (minute - 45)}\")"
   ]
  },
  {
   "cell_type": "markdown",
   "metadata": {},
   "source": [
    "## 2920 음계\n",
    "---\n"
   ]
  },
  {
   "cell_type": "code",
   "execution_count": null,
   "metadata": {},
   "outputs": [],
   "source": [
    "num_list = input().split()\n",
    "if num_list == sorted(num_list):\n",
    "    print('ascending')\n",
    "elif num_list == sorted(num_list, reverse=True):\n",
    "    print('descending')\n",
    "else:\n",
    "    print('mixed')"
   ]
  },
  {
   "cell_type": "markdown",
   "metadata": {},
   "source": [
    "## ACM 호텔\n",
    "---"
   ]
  },
  {
   "cell_type": "code",
   "execution_count": 82,
   "metadata": {},
   "outputs": [
    {
     "name": "stdout",
     "output_type": "stream",
     "text": [
      "603\n"
     ]
    }
   ],
   "source": [
    "try_num = int(input())\n",
    "for i in range(try_num):\n",
    "    h, w, guest = map(int, input().split())\n",
    "    front = str(guest%h)\n",
    "    back = guest//h + 1\n",
    "    if front == '0':\n",
    "        back -= 1\n",
    "        front = str(h)\n",
    "    print(front+str(back).zfill(2))"
   ]
  },
  {
   "cell_type": "code",
   "execution_count": null,
   "metadata": {},
   "outputs": [],
   "source": []
  }
 ],
 "metadata": {
  "kernelspec": {
   "display_name": "Python 3",
   "language": "python",
   "name": "python3"
  },
  "language_info": {
   "codemirror_mode": {
    "name": "ipython",
    "version": 3
   },
   "file_extension": ".py",
   "mimetype": "text/x-python",
   "name": "python",
   "nbconvert_exporter": "python",
   "pygments_lexer": "ipython3",
   "version": "3.11.3"
  },
  "orig_nbformat": 4
 },
 "nbformat": 4,
 "nbformat_minor": 2
}
