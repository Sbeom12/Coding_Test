{
 "cells": [
  {
   "cell_type": "markdown",
   "metadata": {},
   "source": [
    "## 자료구조"
   ]
  },
  {
   "cell_type": "markdown",
   "metadata": {},
   "source": [
    "### 덱(Deque)\n",
    "+ 맨 앞과 맨 끝 양족에서 원소 추가/삭제하는 자료구조"
   ]
  },
  {
   "cell_type": "code",
   "execution_count": 1,
   "metadata": {},
   "outputs": [],
   "source": [
    "# collections.deque으로 스택 구현하기\n",
    "from typing import Any\n",
    "from collections import deque\n",
    "\n",
    "class Stack:\n",
    "    '''고정길이 스택 클래스 - collections.deque'''\n",
    "    \n",
    "    def __init__(self,maxlen:int=256) -> None:\n",
    "        '''스택 초기화'''\n",
    "        self.capacity=maxlen\n",
    "        self.__stk=deque([],maxlen)\n",
    "        \n",
    "    def __len__(self)->int:\n",
    "        '''스택에 쌓여있는 데이터 개수 반환'''\n",
    "        return len(self.__stk)\n",
    "    \n",
    "    def is_empty(self)->bool:\n",
    "        '''스택 비어있는지 확인'''\n",
    "        return not self.__stk\n",
    "    \n",
    "    def is_full(self)->bool:\n",
    "        '''스택 꽉차있는지 확인'''\n",
    "        return len(self.__stk)==self.__stk.maxlen \n",
    "    \n",
    "    def push(self,value:Any)->None:\n",
    "        '''스택에 value 푸시'''\n",
    "        self.__stk.append(value)\n",
    "    \n",
    "    def pop(self)->Any:\n",
    "        '''스택에서 데이터 팝'''\n",
    "        return self.__stk.pop()\n",
    "\n",
    "    def peek(self)->Any:\n",
    "        '''스택에서 데이터 피크'''\n",
    "        return self.__stk[-1]\n",
    "    \n",
    "    def clear(self)->None:\n",
    "        '''스택 비움'''\n",
    "        self.__stk.clear()\n",
    "        \n",
    "    def find(self,value:Any) -> int:\n",
    "        '''스택에서 value 찾아 index 반환'''\n",
    "        try:\n",
    "            return self.__stk.index(value)\n",
    "        except ValueError:\n",
    "            return -1\n",
    "        \n",
    "    def count(self,value:Any) -> int:\n",
    "        '''스택에 포함되어있는 value 개수'''\n",
    "        return self.__stk.count(value)\n",
    "    \n",
    "    def __contains__(self,value:Any)->bool:\n",
    "        '''스택에 value가 포함되어있는지 확인'''\n",
    "        return self.count(value)>0\n",
    "    \n",
    "    def dump(self)->None:\n",
    "        '''스택 안에 있는 데이터 나열 Bottom -> Top'''\n",
    "        print(list(self.__stk))\n"
   ]
  }
 ],
 "metadata": {
  "kernelspec": {
   "display_name": "base",
   "language": "python",
   "name": "python3"
  },
  "language_info": {
   "codemirror_mode": {
    "name": "ipython",
    "version": 3
   },
   "file_extension": ".py",
   "mimetype": "text/x-python",
   "name": "python",
   "nbconvert_exporter": "python",
   "pygments_lexer": "ipython3",
   "version": "3.9.13"
  },
  "orig_nbformat": 4
 },
 "nbformat": 4,
 "nbformat_minor": 2
}
