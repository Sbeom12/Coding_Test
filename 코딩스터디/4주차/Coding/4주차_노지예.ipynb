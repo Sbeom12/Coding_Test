{
 "cells": [
  {
   "cell_type": "markdown",
   "metadata": {},
   "source": [
    "## BOJ 그리디 알고리즘\n",
    "https://www.acmicpc.net/step/33  \n",
    "https://school.programmers.co.kr/learn/courses/30/lessons/42862?language=python3"
   ]
  },
  {
   "cell_type": "markdown",
   "metadata": {},
   "source": [
    "### Porgrammers. 체육복"
   ]
  },
  {
   "cell_type": "code",
   "execution_count": 3,
   "metadata": {},
   "outputs": [
    {
     "data": {
      "text/plain": [
       "10"
      ]
     },
     "execution_count": 3,
     "metadata": {},
     "output_type": "execute_result"
    }
   ],
   "source": [
    "n=10\n",
    "lost=[2,3,5,7]\n",
    "reserve=[1,2,4,6,8]\n",
    "\n",
    "def solution(n, lost, reserve):\n",
    "    lost=sorted(lost)\n",
    "    reserve=sorted(reserve)\n",
    "\n",
    "    for i,r in enumerate(reserve):\n",
    "        if r in lost: \n",
    "            lost.remove(r)\n",
    "            reserve[i]=-1\n",
    "    \n",
    "    for r in reserve:\n",
    "        if r-1 in lost: lost.remove(r-1)\n",
    "        elif r+1 in lost: lost.remove(r+1)\n",
    "        else: pass\n",
    "    \n",
    "    answer=n-len(lost)\n",
    "    return answer\n",
    "\n",
    "solution(n, lost, reserve)"
   ]
  },
  {
   "cell_type": "markdown",
   "metadata": {},
   "source": [
    "### 11047. 동전0 "
   ]
  },
  {
   "cell_type": "code",
   "execution_count": 17,
   "metadata": {},
   "outputs": [
    {
     "name": "stdout",
     "output_type": "stream",
     "text": [
      "13\n"
     ]
    }
   ],
   "source": [
    "# import sys\n",
    "# input=sys.stdin.readline\n",
    "N,K = map(int,input().split())\n",
    "\n",
    "coins=[int(input()) for _ in range(N)]\n",
    "coins.reverse()\n",
    "\n",
    "cnt=0\n",
    "for c in coins:\n",
    "    cnt+=K//c\n",
    "    K%=c\n",
    "    if (K==1) and (c==1): break\n",
    "    \n",
    "print(cnt)\n"
   ]
  },
  {
   "cell_type": "markdown",
   "metadata": {},
   "source": [
    "### 1931. 회의실 배정"
   ]
  },
  {
   "cell_type": "code",
   "execution_count": 46,
   "metadata": {},
   "outputs": [
    {
     "name": "stdout",
     "output_type": "stream",
     "text": [
      "4\n"
     ]
    }
   ],
   "source": [
    "# import sys\n",
    "# input=sys.stdin.readline\n",
    "\n",
    "N=int(input())\n",
    "info={}\n",
    "for _ in range(N):\n",
    "    start,end=map(int,input().split())\n",
    "    if end not in info.keys():\n",
    "        info[end]=[]\n",
    "    info[end].append(start)\n",
    "\n",
    "ends=sorted(list(info.keys()))\n",
    "\n",
    "temp=-1\n",
    "cnt=0\n",
    "for e in ends:\n",
    "    if temp<=max(info[e]): # 마지막 회의의 end보다 start값이 크다면\n",
    "        temp=e\n",
    "        cnt+=1\n",
    "        if max(info[e])==e: # 시작값과 끝 값이 같은 경우\n",
    "            cnt+=info[e].count(e)-1\n",
    "            if len(info[e])!=info[e].count(e):\n",
    "                cnt+=1\n",
    "        \n",
    "print(cnt)"
   ]
  },
  {
   "cell_type": "markdown",
   "metadata": {},
   "source": [
    "### 11399. ATM"
   ]
  },
  {
   "cell_type": "code",
   "execution_count": 52,
   "metadata": {},
   "outputs": [],
   "source": [
    "N=int(input())\n",
    "P=sorted(list(map(int,input().split())))\n",
    "\n",
    "ret=0\n",
    "for i in range(N):\n",
    "    ret+=P[N-i-1]*(i+1)\n",
    "    \n",
    "print(ret)"
   ]
  },
  {
   "cell_type": "markdown",
   "metadata": {},
   "source": [
    "### 1541. 잃어버린 괄호"
   ]
  },
  {
   "cell_type": "code",
   "execution_count": 91,
   "metadata": {},
   "outputs": [
    {
     "name": "stdout",
     "output_type": "stream",
     "text": [
      "0\n"
     ]
    }
   ],
   "source": [
    "# import sys\n",
    "# input=sys.stdin.readline\n",
    "string=input()\n",
    "\n",
    "temp=[]\n",
    "num=[]\n",
    "operator=[]\n",
    "\n",
    "for s in string:\n",
    "    if (s=='-') or (s=='+'):\n",
    "        operator.append(s)\n",
    "        num.append(int(''.join(temp)))\n",
    "        temp=[]\n",
    "    else:\n",
    "        temp.append(s)\n",
    "num.append(int(''.join(temp)))\n",
    "\n",
    "if '-' in operator:\n",
    "    print(sum(num[:operator.index('-')+1])-sum(num[operator.index('-')+1:]))\n",
    "else:\n",
    "    print(sum(num))"
   ]
  },
  {
   "cell_type": "markdown",
   "metadata": {},
   "source": [
    "### 13305. 주유소"
   ]
  },
  {
   "cell_type": "code",
   "execution_count": 51,
   "metadata": {},
   "outputs": [
    {
     "name": "stdout",
     "output_type": "stream",
     "text": [
      "10\n"
     ]
    }
   ],
   "source": [
    "# import sys\n",
    "# input=sys.stdin.readline\n",
    "\n",
    "N=int(input())\n",
    "distance=list(map(int,input().split()))\n",
    "price=list(map(int,input().split()))\n",
    "\n",
    "cost=0\n",
    "temp=N+1\n",
    "while True:\n",
    "    idx=price.index(min(price[:temp]))\n",
    "    #print(f'{sum(distance[idx:temp+1])}*{price[idx]}')\n",
    "    cost+=sum(distance[idx:temp])*price[idx]\n",
    "    temp=idx\n",
    "    if idx==0: break\n",
    "print(cost)"
   ]
  },
  {
   "cell_type": "code",
   "execution_count": 107,
   "metadata": {},
   "outputs": [
    {
     "name": "stdout",
     "output_type": "stream",
     "text": [
      "18\n"
     ]
    }
   ],
   "source": [
    "# import sys\n",
    "# input=sys.stdin.readline\n",
    "\n",
    "N=int(input())\n",
    "distance=list(map(int,input().split()))\n",
    "price=list(map(int,input().split()))\n",
    "price_sort=sorted(price)\n",
    "\n",
    "for i in range(N-1):\n",
    "    if price[i]<price[i+1]:\n",
    "        price[i+1]=price[i]\n",
    "\n",
    "cost=0       \n",
    "for i in range(N-1):\n",
    "    cost+=price[i]*distance[i]\n",
    "    \n",
    "print(cost)"
   ]
  }
 ],
 "metadata": {
  "kernelspec": {
   "display_name": "base",
   "language": "python",
   "name": "python3"
  },
  "language_info": {
   "codemirror_mode": {
    "name": "ipython",
    "version": 3
   },
   "file_extension": ".py",
   "mimetype": "text/x-python",
   "name": "python",
   "nbconvert_exporter": "python",
   "pygments_lexer": "ipython3",
   "version": "3.9.13"
  },
  "orig_nbformat": 4
 },
 "nbformat": 4,
 "nbformat_minor": 2
}
