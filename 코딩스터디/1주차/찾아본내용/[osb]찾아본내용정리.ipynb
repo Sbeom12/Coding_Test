{
 "cells": [
  {
   "cell_type": "markdown",
   "metadata": {},
   "source": [
    "# split(), split(\" \")의 차이\n",
    "---\n",
    "* split()은 공백이 1개이건 2개이건 상관없이 1개로 보고 처리\n",
    "    * \\t, \\n 탭과 엔터도 처리해줌.\n",
    "* split(\" \") 공백 1개를 각각의 공백으로 따로 처리."
   ]
  },
  {
   "cell_type": "code",
   "execution_count": 1,
   "metadata": {},
   "outputs": [
    {
     "name": "stdout",
     "output_type": "stream",
     "text": [
      "['word1', 'word2', 'word3', 'word4']\n",
      "['word1', 'word2', '', 'word3', '', '', '', 'word4', '', '', '', '', '']\n"
     ]
    }
   ],
   "source": [
    "string = \"word1 word2  word3    word4     \"\n",
    "print(string.split())\n",
    "print(string.split(\" \"))"
   ]
  },
  {
   "cell_type": "markdown",
   "metadata": {},
   "source": [
    "# 아스키코드\n",
    "---\n",
    "* 문자 to ASCII \n",
    "    * ord 사용\n",
    "* 숫자(ASCII) to 문자\n",
    "    * chr 사용"
   ]
  },
  {
   "cell_type": "markdown",
   "metadata": {},
   "source": []
  }
 ],
 "metadata": {
  "kernelspec": {
   "display_name": "Python 3",
   "language": "python",
   "name": "python3"
  },
  "language_info": {
   "codemirror_mode": {
    "name": "ipython",
    "version": 3
   },
   "file_extension": ".py",
   "mimetype": "text/x-python",
   "name": "python",
   "nbconvert_exporter": "python",
   "pygments_lexer": "ipython3",
   "version": "3.11.3"
  },
  "orig_nbformat": 4
 },
 "nbformat": 4,
 "nbformat_minor": 2
}
