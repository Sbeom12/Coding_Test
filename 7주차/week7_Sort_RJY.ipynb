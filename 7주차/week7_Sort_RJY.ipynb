{
 "cells": [
  {
   "cell_type": "markdown",
   "metadata": {},
   "source": [
    "## BOJ 정렬  \n",
    "+ https://www.acmicpc.net/step/9"
   ]
  },
  {
   "cell_type": "markdown",
   "metadata": {},
   "source": [
    "### 2750. 수 정렬하기  \n",
    "+ N <= 1000"
   ]
  },
  {
   "cell_type": "code",
   "execution_count": null,
   "metadata": {},
   "outputs": [],
   "source": [
    "# import sys\n",
    "# input= sys.stdin.readline\n",
    "\n",
    "N=int(input())\n",
    "nums=[]\n",
    "for _ in range(N):\n",
    "    nums.append(int(input()))\n",
    "\n",
    "# 선택 정렬 O(N^2)\n",
    "for i in range(N):\n",
    "    choice=i\n",
    "    for j in range(i+1,N):\n",
    "        if nums[j]<nums[choice]:\n",
    "            choice=j\n",
    "    nums[i],nums[choice]=nums[choice],nums[i]\n",
    "print(*nums,sep='\\n')"
   ]
  },
  {
   "cell_type": "code",
   "execution_count": null,
   "metadata": {},
   "outputs": [],
   "source": [
    "# import sys\n",
    "# input= sys.stdin.readline\n",
    "\n",
    "N=int(input())\n",
    "nums=[]\n",
    "for _ in range(N):\n",
    "    nums.append(int(input()))\n",
    "# 삽입 정렬 O(N^2)\n",
    "for i in range(N):\n",
    "    insert_num=nums[i]\n",
    "    for j in range(i-1,-1,-1):\n",
    "        if nums[j]>insert_num:\n",
    "            nums[j+1],nums[j]=nums[j],insert_num\n",
    "print(*nums,sep='\\n')"
   ]
  },
  {
   "cell_type": "markdown",
   "metadata": {},
   "source": [
    "### 2587. 대표값2  \n",
    "+ 100 보다 작은 10의 배수"
   ]
  },
  {
   "cell_type": "code",
   "execution_count": 4,
   "metadata": {},
   "outputs": [
    {
     "name": "stdout",
     "output_type": "stream",
     "text": [
      "[10, 30, 30, 40, 60]\n",
      "34\n",
      "30\n"
     ]
    }
   ],
   "source": [
    "nums=[int(input().rstrip()) for _ in range(5)]\n",
    "\n",
    "# 선택 정렬\n",
    "for i in range(5):\n",
    "    choice=i\n",
    "    for j in range(i,5):\n",
    "        if nums[j]<nums[choice]: choice=j\n",
    "    nums[i],nums[choice]=nums[choice],nums[i]\n",
    "    \n",
    "# 평균\n",
    "cum=0\n",
    "for num in nums:\n",
    "    cum+=num\n",
    "print(cum//5)\n",
    "\n",
    "# 중앙값\n",
    "print(nums[2])"
   ]
  },
  {
   "cell_type": "markdown",
   "metadata": {},
   "source": [
    "### 25305. 커트라인  \n",
    " \n",
    "+ $1 ≤ N ≤ 1\\,000$ \n",
    "+ $1 ≤ k ≤ N$ \n",
    "+ $0 ≤ x ≤ 10\\,000$ "
   ]
  },
  {
   "cell_type": "code",
   "execution_count": 10,
   "metadata": {},
   "outputs": [
    {
     "name": "stdout",
     "output_type": "stream",
     "text": [
      "98\n"
     ]
    }
   ],
   "source": [
    "# import sys\n",
    "# input=sys.stdin.readline\n",
    "\n",
    "N,K=map(int,input().split())\n",
    "\n",
    "scores=list(map(int,input().split()))\n",
    "\n",
    "# 삽입정렬로 내림차순 구현하기\n",
    "for i in range(1,N):\n",
    "    for j in range(i-1,-1,-1):\n",
    "        if scores[j]<scores[j+1] : scores[j],scores[j+1]=scores[j+1],scores[j]\n",
    "        else:\n",
    "            break\n",
    "\n",
    "print(scores[K-1])"
   ]
  },
  {
   "cell_type": "markdown",
   "metadata": {},
   "source": [
    "### 2751. 수 정렬하기2  "
   ]
  },
  {
   "cell_type": "markdown",
   "metadata": {},
   "source": [
    "\n",
    "+ N<=1,000,000  \n",
    "\n",
    "    $\\Rightarrow O(N\\log{N})$으로 해결해야한다\n",
    "+ 이 수는 절댓값이 1,000,000보다 작거나 같은 정수이다. 수는 중복되지 않는다.\n",
    "\n",
    "    ---\n",
    "+ [참고] 구현 시 고려해야 할 메모리 제약 사항\n",
    "\n",
    "    + 파이썬에서 리스트 크기\n",
    "\n",
    "        보통 128~512MB 메모리 제한\n",
    "\n",
    "        | 데이터의 개수(len(리스트)) | 메모리 사용량 |\n",
    "        | --- | --- |\n",
    "        | 1,000 | 약 4KB |\n",
    "        | 1,000,000 | 약 4MB |\n",
    "        | 10,000,000 | 약 40MB |  \n",
    "              \n",
    "\n",
    "     + 시간 제한\n",
    "\n",
    "        1초에 20,000,000 (2천만)번 연산\n",
    "        \n",
    "        N=1,000,000(백만)일 때 $O(NlogN)$ 이내의 알고리즘 이용할 것"
   ]
  },
  {
   "cell_type": "code",
   "execution_count": null,
   "metadata": {},
   "outputs": [],
   "source": [
    "# import sys\n",
    "# input=sys.stdin.readline\n",
    "\n",
    "N=int(input())\n",
    "nums=[int(input()) for _ in range(N)]\n",
    "# nums=[5, 4, 3, 2, 1]\n",
    "# 퀵 정렬로 오름차순 구현하기\n",
    "def quick_sort(array):\n",
    "    if len(array)<=1:\n",
    "        return array\n",
    "    \n",
    "    pivot=array[0]\n",
    "    tail=array[1:]\n",
    "    \n",
    "    left_array=[x for x in tail if x<=pivot]\n",
    "    right_array=[x for x in tail if x>pivot]\n",
    "\n",
    "    return quick_sort(left_array)+[pivot]+quick_sort(right_array)\n",
    "print(*quick_sort(nums),sep='\\n')"
   ]
  },
  {
   "cell_type": "markdown",
   "metadata": {},
   "source": [
    "+ 메모리 초과"
   ]
  },
  {
   "cell_type": "code",
   "execution_count": 40,
   "metadata": {},
   "outputs": [
    {
     "name": "stdout",
     "output_type": "stream",
     "text": [
      "1\n",
      "2\n",
      "3\n",
      "4\n",
      "5\n"
     ]
    }
   ],
   "source": [
    "import sys\n",
    "# input=sys.stdin.readline\n",
    "sys.setrecursionlimit(10*7)\n",
    "\n",
    "N=int(input())\n",
    "nums=[int(input()) for _ in range(N)]\n",
    "# nums=[5, 4, 3, 2, 1]\n",
    "# 퀵 정렬로 오름차순 구현하기\n",
    "\n",
    "def quick_sort(array,start,end):\n",
    "    if start>=end:\n",
    "        return\n",
    "    \n",
    "    pivot=start\n",
    "    left=start+1\n",
    "    right=end\n",
    "    \n",
    "    while True: #피벗보다 큰 데이터 찾을 때 까지 반복\n",
    "        if (array[left]>array[pivot]) or (left>=end):\n",
    "            #피벗보다 크거나, 배열 끝까지 갔을 경우\n",
    "            break\n",
    "        left+=1\n",
    "    while True:\n",
    "        if (array[right]<array[pivot]) or (right<=start):\n",
    "            # 피벗보다 작거나, 배열 처음까지 갔을 경우\n",
    "            break\n",
    "        right-=1\n",
    "        \n",
    "    if left<right: # left <-> right 교체 (Change)\n",
    "        array[left],array[right]=array[right],array[left]\n",
    "    else: # pivot <-> right 교체 (Divide)\n",
    "        array[pivot],array[right]=array[right],array[pivot]\n",
    "    \n",
    "    quick_sort(array,start,right-1)\n",
    "    quick_sort(array,right+1,end)\n",
    "\n",
    "quick_sort(nums,0,N-1)\n",
    "print(*nums,sep='\\n')"
   ]
  },
  {
   "cell_type": "markdown",
   "metadata": {},
   "source": [
    "+ 시간 초과  \n",
    "    퀵정렬은 최악의 경우 복잡도 $O(N^2)$"
   ]
  },
  {
   "cell_type": "code",
   "execution_count": 42,
   "metadata": {},
   "outputs": [
    {
     "name": "stdout",
     "output_type": "stream",
     "text": [
      "1\n",
      "2\n",
      "3\n",
      "4\n",
      "5\n"
     ]
    }
   ],
   "source": [
    "print(*sorted([5,4,3,2,1]),sep='\\n')"
   ]
  },
  {
   "cell_type": "code",
   "execution_count": null,
   "metadata": {},
   "outputs": [],
   "source": [
    "# import sys\n",
    "# input=sys.stdin.readline\n",
    "\n",
    "N=int(input())\n",
    "nums=[int(input()) for _ in range(N)]\n",
    "# nums=[5, 4, 3, 2, 1]\n",
    "# 퀵 정렬로 오름차순 구현하기\n",
    "print(*sorted(nums),sep='\\n')"
   ]
  },
  {
   "cell_type": "markdown",
   "metadata": {},
   "source": [
    "### 10989. 수 정렬하기3\n",
    "+ 1 ≤ N ≤ 10,000,000\n",
    "+ 수는 10,000보다 작거나 같은 자연수"
   ]
  },
  {
   "cell_type": "code",
   "execution_count": 47,
   "metadata": {},
   "outputs": [
    {
     "name": "stdout",
     "output_type": "stream",
     "text": [
      "3\n",
      "4\n",
      "5\n",
      "5\n",
      "5\n",
      "6\n",
      "7\n",
      "8\n",
      "9\n",
      "10\n"
     ]
    }
   ],
   "source": [
    "# import sys\n",
    "# input=sys.stdin.readline\n",
    "\n",
    "N=int(input())\n",
    "lst=[0]*(100001)\n",
    "\n",
    "for _ in range(N):\n",
    "    lst[int(input())]+=1\n",
    "    \n",
    "for idx,num in enumerate(lst):\n",
    "    for _ in range(num):\n",
    "        print(idx)\n"
   ]
  },
  {
   "cell_type": "markdown",
   "metadata": {},
   "source": [
    "### 1427. 소트인사이드 "
   ]
  },
  {
   "cell_type": "code",
   "execution_count": 51,
   "metadata": {},
   "outputs": [
    {
     "name": "stdout",
     "output_type": "stream",
     "text": [
      "965310000\n"
     ]
    }
   ],
   "source": [
    "# import sys\n",
    "# input=sys.stdin.readline\n",
    "\n",
    "nums=list(map(int,input().rstrip()))\n",
    "print(*sorted(nums,reverse=True),sep='')"
   ]
  },
  {
   "cell_type": "markdown",
   "metadata": {},
   "source": [
    "### 11650. 좌표 정렬하기\n",
    "+ N (1 ≤ N ≤ 100,000)"
   ]
  },
  {
   "cell_type": "code",
   "execution_count": null,
   "metadata": {},
   "outputs": [],
   "source": [
    "# import sys\n",
    "# input=sys.stdin.readline\n",
    "N=int(input())\n",
    "\n",
    "coordinates=[tuple(map(int,input().split())) for _ in range(N)]\n",
    "# coordinates=[(3, 4), (1, 1), (1, -1), (2, 2), (3, 3)]\n",
    "coordinates.sort()\n",
    "for co in coordinates:\n",
    "    print(co[0],co[1])"
   ]
  },
  {
   "cell_type": "markdown",
   "metadata": {},
   "source": [
    "### 11651. 좌표 정렬하기2\n",
    "+  1 ≤ N ≤ 100,000\n",
    "+ -100,000 ≤ xi, yi ≤ 100,000"
   ]
  },
  {
   "cell_type": "code",
   "execution_count": null,
   "metadata": {},
   "outputs": [
    {
     "name": "stdout",
     "output_type": "stream",
     "text": [
      "1 -1\n",
      "1 2\n",
      "2 2\n",
      "3 3\n",
      "0 4\n"
     ]
    }
   ],
   "source": [
    "# import sys\n",
    "# input=sys.stdin.readline\n",
    "N=int(input())\n",
    "\n",
    "coordinates=[list(map(int,input().split()))[::-1] for _ in range(N)]\n",
    "coordinates.sort()\n",
    "for co in coordinates:\n",
    "    print(co[1],co[0])"
   ]
  },
  {
   "cell_type": "markdown",
   "metadata": {},
   "source": [
    "### 1181. 단어 정렬  \n",
    "+ 1 ≤ N ≤ 20,000\n",
    "+ 문자열 길이 ≤ 50"
   ]
  },
  {
   "cell_type": "code",
   "execution_count": null,
   "metadata": {},
   "outputs": [],
   "source": [
    "# import sys\n",
    "# input=sys.stdin.readline\n",
    "\n",
    "N=int(input())\n",
    "words=dict()\n",
    "for _ in range(N):\n",
    "    word=input().rstrip()\n",
    "    \n",
    "    if len(word) in words: words[len(word)].add(word)\n",
    "    else: words[len(word)]={word}\n",
    "order=sorted(words)\n",
    "for length in order:\n",
    "    for word in sorted(words[length]):\n",
    "        print(word)\n",
    "    "
   ]
  },
  {
   "cell_type": "markdown",
   "metadata": {},
   "source": [
    "### 10814. 나이순 정렬\n",
    "+ 1 ≤ N ≤ 100,000"
   ]
  },
  {
   "cell_type": "code",
   "execution_count": null,
   "metadata": {},
   "outputs": [],
   "source": [
    "# import sys\n",
    "# input=sys.stdin.readline\n",
    "\n",
    "N=int(input())\n",
    "members={}\n",
    "for _ in range(N):\n",
    "    age,name=input().split()\n",
    "    if int(age) in members: members[int(age)].append(name)\n",
    "    else: members[int(age)]=[name]\n",
    "    \n",
    "# members={21: ['Junkyu', 'Dohyun'], 20: ['Sunyoung']}\n",
    "order=sorted(members)\n",
    "for age in order:\n",
    "    for name in members[age]:\n",
    "        print(age, name)"
   ]
  },
  {
   "cell_type": "markdown",
   "metadata": {},
   "source": [
    "### 18890. 좌표 압축  \n",
    "+ 1 ≤ N ≤ 1,000,000\n",
    "+ -109 ≤ Xi ≤ 109"
   ]
  },
  {
   "cell_type": "code",
   "execution_count": null,
   "metadata": {},
   "outputs": [],
   "source": [
    "# import sys\n",
    "# input=sys.stdin.readline\n",
    "\n",
    "N=int(input())\n",
    "nums=list(map(int,input().split()))\n",
    "nums_dict={num:idx for idx,num in enumerate(sorted(set(nums)))}\n",
    "\n",
    "#nums_dict={-10: 0, -9: 1, 2: 2, 4: 3}\n",
    "\n",
    "print(*[nums_dict[num] for num in nums],sep=' ')"
   ]
  }
 ],
 "metadata": {
  "kernelspec": {
   "display_name": "base",
   "language": "python",
   "name": "python3"
  },
  "language_info": {
   "codemirror_mode": {
    "name": "ipython",
    "version": 3
   },
   "file_extension": ".py",
   "mimetype": "text/x-python",
   "name": "python",
   "nbconvert_exporter": "python",
   "pygments_lexer": "ipython3",
   "version": "3.9.13"
  }
 },
 "nbformat": 4,
 "nbformat_minor": 2
}
