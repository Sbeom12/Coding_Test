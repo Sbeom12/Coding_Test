{
 "cells": [
  {
   "cell_type": "markdown",
   "metadata": {},
   "source": [
    "## BOJ 정렬  \n",
    "+ https://www.acmicpc.net/step/9"
   ]
  },
  {
   "cell_type": "markdown",
   "metadata": {},
   "source": [
    "### 2750. 수 정렬하기  \n",
    "+ N <= 1000"
   ]
  },
  {
   "cell_type": "code",
   "execution_count": null,
   "metadata": {},
   "outputs": [],
   "source": [
    "# import sys\n",
    "# input= sys.stdin.readline\n",
    "\n",
    "N=int(input())\n",
    "nums=[]\n",
    "for _ in range(N):\n",
    "    nums.append(int(input()))\n",
    "\n",
    "# 선택 정렬 O(N^2)\n",
    "for i in range(N):\n",
    "    choice=i\n",
    "    for j in range(i+1,N):\n",
    "        if nums[j]<nums[choice]:\n",
    "            choice=j\n",
    "    nums[i],nums[choice]=nums[choice],nums[i]\n",
    "print(*nums,sep='\\n')"
   ]
  },
  {
   "cell_type": "code",
   "execution_count": null,
   "metadata": {},
   "outputs": [],
   "source": [
    "# import sys\n",
    "# input= sys.stdin.readline\n",
    "\n",
    "N=int(input())\n",
    "nums=[]\n",
    "for _ in range(N):\n",
    "    nums.append(int(input()))\n",
    "# 삽입 정렬 O(N^2)\n",
    "for i in range(N):\n",
    "    insert_num=nums[i]\n",
    "    for j in range(i-1,-1,-1):\n",
    "        if nums[j]>insert_num:\n",
    "            nums[j+1],nums[j]=nums[j],insert_num\n",
    "print(*nums,sep='\\n')"
   ]
  }
 ],
 "metadata": {
  "kernelspec": {
   "display_name": "base",
   "language": "python",
   "name": "python3"
  },
  "language_info": {
   "codemirror_mode": {
    "name": "ipython",
    "version": 3
   },
   "file_extension": ".py",
   "mimetype": "text/x-python",
   "name": "python",
   "nbconvert_exporter": "python",
   "pygments_lexer": "ipython3",
   "version": "3.9.13"
  }
 },
 "nbformat": 4,
 "nbformat_minor": 2
}
