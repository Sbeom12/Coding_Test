{
 "cells": [
  {
   "cell_type": "markdown",
   "metadata": {},
   "source": [
    "## BOJ 이분 탐색\n",
    "+ https://www.acmicpc.net/step/29"
   ]
  },
  {
   "cell_type": "code",
   "execution_count": null,
   "metadata": {},
   "outputs": [],
   "source": [
    "# import sys\n",
    "# input=sys.stdin.readline\n",
    "\n",
    "N=int(input())\n",
    "A=list(map(int,input().split()))\n",
    "M=int(input())\n",
    "nums=list(map(int,input().split()))\n",
    "def binary_search(array,start,end,target):\n",
    "    if start>end:\n",
    "        return 0\n",
    "    \n",
    "    mid=(start+end)//2\n",
    "    \n",
    "    if array[mid]<target:\n",
    "        start=mid+1\n",
    "        return binary_search(array,start,end,target)\n",
    "    elif array[mid]>target:\n",
    "        end=mid-1\n",
    "        return binary_search(array,start,end,target)\n",
    "    else:\n",
    "        return 1\n",
    "    \n",
    "A.sort()\n",
    "for num in nums:\n",
    "    print(binary_search(A,0,N-1,num))"
   ]
  },
  {
   "cell_type": "markdown",
   "metadata": {},
   "source": [
    "#### 이진 탐색 알고리즘으로 풀었을 때\n",
    "+ 3904ms"
   ]
  },
  {
   "cell_type": "code",
   "execution_count": null,
   "metadata": {},
   "outputs": [
    {
     "name": "stdout",
     "output_type": "stream",
     "text": [
      "3 0 0 1 2 0 0 2\n"
     ]
    }
   ],
   "source": [
    "# import sys\n",
    "# input=sys.stdin.readline\n",
    "\n",
    "N=int(input())\n",
    "cards=list(map(int,input().split()))\n",
    "M=int(input())\n",
    "nums=list(map(int,input().split()))\n",
    "cards.sort()\n",
    "\n",
    "\n",
    "idx=[0]\n",
    "for i in range(1,N):\n",
    "    if cards[i]!=cards[i-1]:idx.append(i)\n",
    "idx.append(N)\n",
    "\n",
    "# cards=[-10, -10, 2, 3, 3, 6, 7, 10, 10, 10]\n",
    "# idx=  [0,        2, 3,    5, 6, 7,          ,10]\n",
    "\n",
    "def binary_search(array,idx,start,end,target):\n",
    "    if start>end:\n",
    "        return 0\n",
    "    \n",
    "    mid=(start+end)//2\n",
    "    if mid>=len(idx)-1:\n",
    "        return 0\n",
    "    \n",
    "    if array[idx[mid]]==target:\n",
    "        return idx[mid+1]-idx[mid]\n",
    "    elif array[idx[mid]]<target:\n",
    "        return binary_search(array,idx,mid+1,end,target)\n",
    "    else:\n",
    "        return binary_search(array,idx,start,mid-1,target)\n",
    "    \n",
    "ret=[binary_search(cards,idx,0,len(idx)-1,num) for num in nums]\n",
    "print(*ret,sep=' ')"
   ]
  }
 ],
 "metadata": {
  "language_info": {
   "name": "python"
  }
 },
 "nbformat": 4,
 "nbformat_minor": 2
}
