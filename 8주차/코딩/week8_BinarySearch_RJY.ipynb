{
 "cells": [
  {
   "cell_type": "markdown",
   "metadata": {},
   "source": [
    "## BOJ 이분 탐색\n",
    "+ https://www.acmicpc.net/step/29"
   ]
  },
  {
   "cell_type": "code",
   "execution_count": null,
   "metadata": {},
   "outputs": [],
   "source": [
    "# import sys\n",
    "# input=sys.stdin.readline\n",
    "\n",
    "N=int(input())\n",
    "A=list(map(int,input().split()))\n",
    "M=int(input())\n",
    "nums=list(map(int,input().split()))\n",
    "def binary_search(array,start,end,target):\n",
    "    if start>end:\n",
    "        return 0\n",
    "    \n",
    "    mid=(start+end)//2\n",
    "    \n",
    "    if array[mid]<target:\n",
    "        start=mid+1\n",
    "        return binary_search(array,start,end,target)\n",
    "    elif array[mid]>target:\n",
    "        end=mid-1\n",
    "        return binary_search(array,start,end,target)\n",
    "    else:\n",
    "        return 1\n",
    "    \n",
    "A.sort()\n",
    "for num in nums:\n",
    "    print(binary_search(A,0,N-1,num))"
   ]
  }
 ],
 "metadata": {
  "language_info": {
   "name": "python"
  }
 },
 "nbformat": 4,
 "nbformat_minor": 2
}
